{
 "cells": [
  {
   "cell_type": "markdown",
   "metadata": {},
   "source": [
    "#### Imports"
   ]
  },
  {
   "cell_type": "code",
   "execution_count": 44,
   "metadata": {},
   "outputs": [],
   "source": [
    "import pyspark\n",
    "from pyspark.sql import SparkSession\n",
    "from IPython.display import display\n",
    "from pyspark.sql.functions import udf ,col , split, max, min, sum,year,month,dayofmonth,weekofyear\n",
    "from pyspark.sql.types import DateType,StringType\n",
    "from datetime import datetime"
   ]
  },
  {
   "cell_type": "markdown",
   "metadata": {},
   "source": [
    "# Basic operations"
   ]
  },
  {
   "cell_type": "code",
   "execution_count": 45,
   "metadata": {},
   "outputs": [
    {
     "data": {
      "text/html": [
       "\n",
       "            <div>\n",
       "                <p><b>SparkSession - in-memory</b></p>\n",
       "                \n",
       "        <div>\n",
       "            <p><b>SparkContext</b></p>\n",
       "\n",
       "            <p><a href=\"http://192.168.55.149:4040\">Spark UI</a></p>\n",
       "\n",
       "            <dl>\n",
       "              <dt>Version</dt>\n",
       "                <dd><code>v3.5.3</code></dd>\n",
       "              <dt>Master</dt>\n",
       "                <dd><code>local[*]</code></dd>\n",
       "              <dt>AppName</dt>\n",
       "                <dd><code>stocksly</code></dd>\n",
       "            </dl>\n",
       "        </div>\n",
       "        \n",
       "            </div>\n",
       "        "
      ],
      "text/plain": [
       "<pyspark.sql.session.SparkSession at 0x7f98b878e120>"
      ]
     },
     "execution_count": 45,
     "metadata": {},
     "output_type": "execute_result"
    }
   ],
   "source": [
    "spark = SparkSession.builder.appName(\"stocksly\").getOrCreate()\n",
    "spark"
   ]
  },
  {
   "cell_type": "code",
   "execution_count": 50,
   "metadata": {},
   "outputs": [
    {
     "name": "stderr",
     "output_type": "stream",
     "text": [
      "                                                                                \r"
     ]
    }
   ],
   "source": [
    "stocks = spark.read.csv(\n",
    "    \"../data_sourcing/source/stocks.csv\", \n",
    "    header=True, \n",
    "    inferSchema=True\n",
    ")"
   ]
  },
  {
   "cell_type": "code",
   "execution_count": 51,
   "metadata": {},
   "outputs": [],
   "source": [
    "stocks = stocks.limit(10000)"
   ]
  },
  {
   "cell_type": "code",
   "execution_count": 52,
   "metadata": {},
   "outputs": [
    {
     "name": "stdout",
     "output_type": "stream",
     "text": [
      "+---+---------+-------------------+-----+-----+-----+-----+------+\n",
      "|_c0|stockname|          timestamp| open| high|  low|close|volume|\n",
      "+---+---------+-------------------+-----+-----+-----+-----+------+\n",
      "|  0|    PLTR |2024-12-23 09:00:00|81.94|81.95|81.16|81.44|  NULL|\n",
      "|  1|    PLTR |2024-12-23 09:01:00|81.39|82.02|81.37|82.01|  NULL|\n",
      "|  2|    PLTR |2024-12-23 09:02:00|81.96|82.16|81.95|82.13|  NULL|\n",
      "|  3|    PLTR |2024-12-23 09:03:00|82.19| 82.4|82.11|82.38|  NULL|\n",
      "|  4|    PLTR |2024-12-23 09:04:00| 82.4| 82.5| 82.3|82.32|  NULL|\n",
      "+---+---------+-------------------+-----+-----+-----+-----+------+\n",
      "only showing top 5 rows\n",
      "\n"
     ]
    },
    {
     "name": "stderr",
     "output_type": "stream",
     "text": [
      "25/02/20 01:23:03 WARN CSVHeaderChecker: CSV header does not conform to the schema.\n",
      " Header: , stockname, timestamp, open, high, low, close, volume\n",
      " Schema: _c0, stockname, timestamp, open, high, low, close, volume\n",
      "Expected: _c0 but found: \n",
      "CSV file: file:///home/ayushkhaire/code/dataennginneerinng/stocksly/data_sourcing/source/stocks.csv\n"
     ]
    }
   ],
   "source": [
    "stocks.show(5)"
   ]
  },
  {
   "cell_type": "code",
   "execution_count": 54,
   "metadata": {},
   "outputs": [
    {
     "name": "stdout",
     "output_type": "stream",
     "text": [
      "root\n",
      " |-- _c0: integer (nullable = true)\n",
      " |-- stockname: string (nullable = true)\n",
      " |-- timestamp: timestamp (nullable = true)\n",
      " |-- open: double (nullable = true)\n",
      " |-- high: double (nullable = true)\n",
      " |-- low: double (nullable = true)\n",
      " |-- close: double (nullable = true)\n",
      " |-- volume: double (nullable = true)\n",
      "\n"
     ]
    }
   ],
   "source": [
    "stocks.printSchema()"
   ]
  },
  {
   "cell_type": "code",
   "execution_count": 55,
   "metadata": {},
   "outputs": [
    {
     "name": "stdout",
     "output_type": "stream",
     "text": [
      "+---------+\n",
      "|stockname|\n",
      "+---------+\n",
      "|    PLTR |\n",
      "|    PLTR |\n",
      "|    PLTR |\n",
      "|    PLTR |\n",
      "|    PLTR |\n",
      "+---------+\n",
      "only showing top 5 rows\n",
      "\n"
     ]
    }
   ],
   "source": [
    "stocks.select(\"stockname\").show(5)"
   ]
  },
  {
   "cell_type": "code",
   "execution_count": 56,
   "metadata": {},
   "outputs": [
    {
     "name": "stdout",
     "output_type": "stream",
     "text": [
      "+---------+-----+-----+\n",
      "|stockname| open|close|\n",
      "+---------+-----+-----+\n",
      "|    PLTR |81.94|81.44|\n",
      "|    PLTR |81.39|82.01|\n",
      "|    PLTR |81.96|82.13|\n",
      "|    PLTR |82.19|82.38|\n",
      "|    PLTR | 82.4|82.32|\n",
      "+---------+-----+-----+\n",
      "only showing top 5 rows\n",
      "\n"
     ]
    }
   ],
   "source": [
    "stocks.select(\n",
    "    [\"stockname\",\"open\", \"close\"]\n",
    ").show(5)"
   ]
  },
  {
   "cell_type": "code",
   "execution_count": 57,
   "metadata": {},
   "outputs": [
    {
     "name": "stderr",
     "output_type": "stream",
     "text": [
      "25/02/20 01:23:25 WARN CSVHeaderChecker: CSV header does not conform to the schema.\n",
      " Header: , stockname, timestamp, open, high, low, close, volume\n",
      " Schema: _c0, stockname, timestamp, open, high, low, close, volume\n",
      "Expected: _c0 but found: \n",
      "CSV file: file:///home/ayushkhaire/code/dataennginneerinng/stocksly/data_sourcing/source/stocks.csv\n",
      "[Stage 76:===============================================>        (40 + 4) / 47]\r"
     ]
    },
    {
     "name": "stdout",
     "output_type": "stream",
     "text": [
      "+---+---------+---------+----+----+---+-----+------+\n",
      "|_c0|stockname|timestamp|open|high|low|close|volume|\n",
      "+---+---------+---------+----+----+---+-----+------+\n",
      "+---+---------+---------+----+----+---+-----+------+\n",
      "\n"
     ]
    },
    {
     "name": "stderr",
     "output_type": "stream",
     "text": [
      "                                                                                \r"
     ]
    }
   ],
   "source": [
    "stocks.filter(\n",
    "    stocks.stockname == \"TSLA\"\n",
    ").show(5)"
   ]
  },
  {
   "cell_type": "code",
   "execution_count": 58,
   "metadata": {},
   "outputs": [
    {
     "name": "stderr",
     "output_type": "stream",
     "text": [
      "25/02/20 01:23:29 WARN CSVHeaderChecker: CSV header does not conform to the schema.\n",
      " Header: , stockname, timestamp, open, high, low, close, volume\n",
      " Schema: _c0, stockname, timestamp, open, high, low, close, volume\n",
      "Expected: _c0 but found: \n",
      "CSV file: file:///home/ayushkhaire/code/dataennginneerinng/stocksly/data_sourcing/source/stocks.csv\n",
      "[Stage 79:============================================>           (37 + 4) / 47]\r"
     ]
    },
    {
     "name": "stdout",
     "output_type": "stream",
     "text": [
      "+---+---------+---------+----+----+---+-----+------+\n",
      "|_c0|stockname|timestamp|open|high|low|close|volume|\n",
      "+---+---------+---------+----+----+---+-----+------+\n",
      "+---+---------+---------+----+----+---+-----+------+\n",
      "\n"
     ]
    },
    {
     "name": "stderr",
     "output_type": "stream",
     "text": [
      "                                                                                \r"
     ]
    }
   ],
   "source": [
    "stocks.filter(\n",
    "    (\n",
    "        (stocks.stockname == \"TSLA\") |\n",
    "        (stocks.stockname == \"PLTR\")\n",
    "    ) & (\n",
    "    stocks.timestamp == \"2024-12-23 09:00:00\")\n",
    ").show()"
   ]
  },
  {
   "cell_type": "code",
   "execution_count": 59,
   "metadata": {},
   "outputs": [
    {
     "name": "stderr",
     "output_type": "stream",
     "text": [
      "25/02/20 01:23:33 WARN CSVHeaderChecker: CSV header does not conform to the schema.\n",
      " Header: , stockname, timestamp, open, high, low, close, volume\n",
      " Schema: _c0, stockname, timestamp, open, high, low, close, volume\n",
      "Expected: _c0 but found: \n",
      "CSV file: file:///home/ayushkhaire/code/dataennginneerinng/stocksly/data_sourcing/source/stocks.csv\n",
      "[Stage 82:=====================================================>  (45 + 2) / 47]\r"
     ]
    },
    {
     "name": "stdout",
     "output_type": "stream",
     "text": [
      "+---+---------+---------+----+----+---+-----+------+\n",
      "|_c0|stockname|timestamp|open|high|low|close|volume|\n",
      "+---+---------+---------+----+----+---+-----+------+\n",
      "+---+---------+---------+----+----+---+-----+------+\n",
      "\n"
     ]
    },
    {
     "name": "stderr",
     "output_type": "stream",
     "text": [
      "                                                                                \r"
     ]
    }
   ],
   "source": [
    "stocks.filter(\n",
    "    stocks.stockname.isin(\"TSLA\", \"PLTR\") &\n",
    "    (stocks.timestamp == \"2024-12-23 09:00:00\")\n",
    ").show()"
   ]
  },
  {
   "cell_type": "code",
   "execution_count": 60,
   "metadata": {},
   "outputs": [
    {
     "name": "stdout",
     "output_type": "stream",
     "text": [
      "+---+---------+-------------------+-----+-----+-----+-----+------+----------+--------+\n",
      "|_c0|stockname|          timestamp| open| high|  low|close|volume|      date|    time|\n",
      "+---+---------+-------------------+-----+-----+-----+-----+------+----------+--------+\n",
      "|  0|    PLTR |2024-12-23 09:00:00|81.94|81.95|81.16|81.44|  NULL|2024-12-23|09:00:00|\n",
      "|  1|    PLTR |2024-12-23 09:01:00|81.39|82.02|81.37|82.01|  NULL|2024-12-23|09:01:00|\n",
      "|  2|    PLTR |2024-12-23 09:02:00|81.96|82.16|81.95|82.13|  NULL|2024-12-23|09:02:00|\n",
      "|  3|    PLTR |2024-12-23 09:03:00|82.19| 82.4|82.11|82.38|  NULL|2024-12-23|09:03:00|\n",
      "|  4|    PLTR |2024-12-23 09:04:00| 82.4| 82.5| 82.3|82.32|  NULL|2024-12-23|09:04:00|\n",
      "+---+---------+-------------------+-----+-----+-----+-----+------+----------+--------+\n",
      "only showing top 5 rows\n",
      "\n"
     ]
    },
    {
     "name": "stderr",
     "output_type": "stream",
     "text": [
      "25/02/20 01:23:36 WARN CSVHeaderChecker: CSV header does not conform to the schema.\n",
      " Header: , stockname, timestamp, open, high, low, close, volume\n",
      " Schema: _c0, stockname, timestamp, open, high, low, close, volume\n",
      "Expected: _c0 but found: \n",
      "CSV file: file:///home/ayushkhaire/code/dataennginneerinng/stocksly/data_sourcing/source/stocks.csv\n"
     ]
    }
   ],
   "source": [
    "stocks = stocks.withColumn(\n",
    "    \"date\", split(\n",
    "        col(\"timestamp\"), \n",
    "    \" \")[0]\n",
    "    )\n",
    "stocks = stocks.withColumn(\n",
    "    \"time\", split(\n",
    "        col(\"timestamp\"), \n",
    "    \" \")[1]\n",
    "    )\n",
    "stocks.show(5)"
   ]
  },
  {
   "cell_type": "code",
   "execution_count": 61,
   "metadata": {},
   "outputs": [],
   "source": [
    "date_parser = udf(\n",
    "    lambda date : datetime.strptime(date, \"%Y-%m-%d\"),DateType()\n",
    ")"
   ]
  },
  {
   "cell_type": "code",
   "execution_count": 62,
   "metadata": {},
   "outputs": [
    {
     "name": "stdout",
     "output_type": "stream",
     "text": [
      "+---+---------+-------------------+-----+-----+-----+-----+------+----------+--------+----------+\n",
      "|_c0|stockname|          timestamp| open| high|  low|close|volume|      date|    time|  new_date|\n",
      "+---+---------+-------------------+-----+-----+-----+-----+------+----------+--------+----------+\n",
      "|  0|    PLTR |2024-12-23 09:00:00|81.94|81.95|81.16|81.44|  NULL|2024-12-23|09:00:00|2024-12-23|\n",
      "|  1|    PLTR |2024-12-23 09:01:00|81.39|82.02|81.37|82.01|  NULL|2024-12-23|09:01:00|2024-12-23|\n",
      "|  2|    PLTR |2024-12-23 09:02:00|81.96|82.16|81.95|82.13|  NULL|2024-12-23|09:02:00|2024-12-23|\n",
      "|  3|    PLTR |2024-12-23 09:03:00|82.19| 82.4|82.11|82.38|  NULL|2024-12-23|09:03:00|2024-12-23|\n",
      "|  4|    PLTR |2024-12-23 09:04:00| 82.4| 82.5| 82.3|82.32|  NULL|2024-12-23|09:04:00|2024-12-23|\n",
      "+---+---------+-------------------+-----+-----+-----+-----+------+----------+--------+----------+\n",
      "only showing top 5 rows\n",
      "\n"
     ]
    },
    {
     "name": "stderr",
     "output_type": "stream",
     "text": [
      "25/02/20 01:23:42 WARN CSVHeaderChecker: CSV header does not conform to the schema.\n",
      " Header: , stockname, timestamp, open, high, low, close, volume\n",
      " Schema: _c0, stockname, timestamp, open, high, low, close, volume\n",
      "Expected: _c0 but found: \n",
      "CSV file: file:///home/ayushkhaire/code/dataennginneerinng/stocksly/data_sourcing/source/stocks.csv\n"
     ]
    }
   ],
   "source": [
    "stocks = stocks.withColumn(\n",
    "    \"new_date\",\n",
    "    date_parser(stocks.date)  \n",
    ")\n",
    "\n",
    "stocks.show(5)"
   ]
  },
  {
   "cell_type": "code",
   "execution_count": 63,
   "metadata": {},
   "outputs": [
    {
     "name": "stdout",
     "output_type": "stream",
     "text": [
      "+---+---------+-------------------+-----+-----+-----+-----+------+----------+--------+----------+\n",
      "|_c0|stockname|          timestamp| open| high|  low|close|volume|      date|    time|  new_date|\n",
      "+---+---------+-------------------+-----+-----+-----+-----+------+----------+--------+----------+\n",
      "|  0|    PLTR |2024-12-23 09:00:00|81.94|81.95|81.16|81.44|  NULL|2024-12-23|09:00:00|2024-12-23|\n",
      "|  1|    PLTR |2024-12-23 09:01:00|81.39|82.02|81.37|82.01|  NULL|2024-12-23|09:01:00|2024-12-23|\n",
      "|  2|    PLTR |2024-12-23 09:02:00|81.96|82.16|81.95|82.13|  NULL|2024-12-23|09:02:00|2024-12-23|\n",
      "|  3|    PLTR |2024-12-23 09:03:00|82.19| 82.4|82.11|82.38|  NULL|2024-12-23|09:03:00|2024-12-23|\n",
      "|  4|    PLTR |2024-12-23 09:04:00| 82.4| 82.5| 82.3|82.32|  NULL|2024-12-23|09:04:00|2024-12-23|\n",
      "+---+---------+-------------------+-----+-----+-----+-----+------+----------+--------+----------+\n",
      "only showing top 5 rows\n",
      "\n"
     ]
    },
    {
     "name": "stderr",
     "output_type": "stream",
     "text": [
      "25/02/20 01:23:45 WARN CSVHeaderChecker: CSV header does not conform to the schema.\n",
      " Header: , stockname, timestamp, open, high, low, close, volume\n",
      " Schema: _c0, stockname, timestamp, open, high, low, close, volume\n",
      "Expected: _c0 but found: \n",
      "CSV file: file:///home/ayushkhaire/code/dataennginneerinng/stocksly/data_sourcing/source/stocks.csv\n"
     ]
    }
   ],
   "source": [
    "stocks.show(5)"
   ]
  },
  {
   "cell_type": "code",
   "execution_count": 64,
   "metadata": {},
   "outputs": [],
   "source": [
    "def upper_turner(stockname):\n",
    "    return stockname.upper()\n",
    "\n",
    "upper_turner = udf(\n",
    "    upper_turner, StringType()\n",
    ")"
   ]
  },
  {
   "cell_type": "code",
   "execution_count": 65,
   "metadata": {},
   "outputs": [
    {
     "name": "stdout",
     "output_type": "stream",
     "text": [
      "+---+---------+-------------------+-----+-----+-----+-----+------+----------+--------+----------+\n",
      "|_c0|stockname|          timestamp| open| high|  low|close|volume|      date|    time|  new_date|\n",
      "+---+---------+-------------------+-----+-----+-----+-----+------+----------+--------+----------+\n",
      "|  0|    PLTR |2024-12-23 09:00:00|81.94|81.95|81.16|81.44|  NULL|2024-12-23|09:00:00|2024-12-23|\n",
      "|  1|    PLTR |2024-12-23 09:01:00|81.39|82.02|81.37|82.01|  NULL|2024-12-23|09:01:00|2024-12-23|\n",
      "|  2|    PLTR |2024-12-23 09:02:00|81.96|82.16|81.95|82.13|  NULL|2024-12-23|09:02:00|2024-12-23|\n",
      "|  3|    PLTR |2024-12-23 09:03:00|82.19| 82.4|82.11|82.38|  NULL|2024-12-23|09:03:00|2024-12-23|\n",
      "|  4|    PLTR |2024-12-23 09:04:00| 82.4| 82.5| 82.3|82.32|  NULL|2024-12-23|09:04:00|2024-12-23|\n",
      "+---+---------+-------------------+-----+-----+-----+-----+------+----------+--------+----------+\n",
      "only showing top 5 rows\n",
      "\n"
     ]
    },
    {
     "name": "stderr",
     "output_type": "stream",
     "text": [
      "25/02/20 01:23:49 WARN CSVHeaderChecker: CSV header does not conform to the schema.\n",
      " Header: , stockname, timestamp, open, high, low, close, volume\n",
      " Schema: _c0, stockname, timestamp, open, high, low, close, volume\n",
      "Expected: _c0 but found: \n",
      "CSV file: file:///home/ayushkhaire/code/dataennginneerinng/stocksly/data_sourcing/source/stocks.csv\n"
     ]
    }
   ],
   "source": [
    "stocks = stocks.withColumn(\n",
    "    \"stockname\",upper_turner(stocks.stockname)\n",
    ")\n",
    "stocks.show(5)"
   ]
  },
  {
   "cell_type": "code",
   "execution_count": 66,
   "metadata": {},
   "outputs": [
    {
     "name": "stdout",
     "output_type": "stream",
     "text": [
      "root\n",
      " |-- _c0: integer (nullable = true)\n",
      " |-- stockname: string (nullable = true)\n",
      " |-- timestamp: timestamp (nullable = true)\n",
      " |-- open: double (nullable = true)\n",
      " |-- high: double (nullable = true)\n",
      " |-- low: double (nullable = true)\n",
      " |-- close: double (nullable = true)\n",
      " |-- volume: double (nullable = true)\n",
      " |-- date: string (nullable = true)\n",
      " |-- time: string (nullable = true)\n",
      " |-- new_date: date (nullable = true)\n",
      "\n"
     ]
    }
   ],
   "source": [
    "stocks.printSchema()"
   ]
  },
  {
   "cell_type": "code",
   "execution_count": 67,
   "metadata": {},
   "outputs": [],
   "source": [
    "new_stocks = stocks.select(\n",
    "    \"stockname\",\n",
    "    \"open\",\n",
    "    \"high\",\n",
    "    \"low\",\n",
    "    \"close\",\n",
    "    \"volume\",\n",
    "    \"new_date\",\n",
    "    \"time\"\n",
    ")"
   ]
  },
  {
   "cell_type": "code",
   "execution_count": 68,
   "metadata": {},
   "outputs": [
    {
     "name": "stdout",
     "output_type": "stream",
     "text": [
      "+---------+-----+-----+-----+-----+------+----------+--------+\n",
      "|stockname| open| high|  low|close|volume|  new_date|    time|\n",
      "+---------+-----+-----+-----+-----+------+----------+--------+\n",
      "|    PLTR |81.94|81.95|81.16|81.44|  NULL|2024-12-23|09:00:00|\n",
      "|    PLTR |81.39|82.02|81.37|82.01|  NULL|2024-12-23|09:01:00|\n",
      "|    PLTR |81.96|82.16|81.95|82.13|  NULL|2024-12-23|09:02:00|\n",
      "|    PLTR |82.19| 82.4|82.11|82.38|  NULL|2024-12-23|09:03:00|\n",
      "|    PLTR | 82.4| 82.5| 82.3|82.32|  NULL|2024-12-23|09:04:00|\n",
      "+---------+-----+-----+-----+-----+------+----------+--------+\n",
      "only showing top 5 rows\n",
      "\n"
     ]
    }
   ],
   "source": [
    "new_stocks.show(5)"
   ]
  },
  {
   "cell_type": "code",
   "execution_count": 69,
   "metadata": {},
   "outputs": [
    {
     "name": "stderr",
     "output_type": "stream",
     "text": [
      "[Stage 90:======================================================> (46 + 1) / 47]\r"
     ]
    },
    {
     "name": "stdout",
     "output_type": "stream",
     "text": [
      "+-------+---------+------------------+------------------+------------------+------------------+------+--------+\n",
      "|summary|stockname|              open|              high|               low|             close|volume|    time|\n",
      "+-------+---------+------------------+------------------+------------------+------------------+------+--------+\n",
      "|  count|    10000|              9931|              9931|              9931|              9931|     0|   10000|\n",
      "|   mean|     NULL|217.83492173662867|218.03004032644918|217.61086120902064| 217.8328568690507|  NULL|    NULL|\n",
      "| stddev|     NULL|145.04690589319335|145.19137065095407|144.87971120522596|145.04797447371956|  NULL|    NULL|\n",
      "|    min|    MSTR |  74.7699966430664|  74.8088989257813|             64.35|             74.75|  NULL|00:00:00|\n",
      "|    max|    TSLA |            436.67|           468.475|            436.59|            436.79|  NULL|23:59:00|\n",
      "+-------+---------+------------------+------------------+------------------+------------------+------+--------+\n",
      "\n"
     ]
    },
    {
     "name": "stderr",
     "output_type": "stream",
     "text": [
      "                                                                                \r"
     ]
    }
   ],
   "source": [
    "new_stocks.describe().show()"
   ]
  },
  {
   "cell_type": "markdown",
   "metadata": {},
   "source": [
    "# Basic stock analysis"
   ]
  },
  {
   "cell_type": "code",
   "execution_count": 70,
   "metadata": {},
   "outputs": [
    {
     "name": "stderr",
     "output_type": "stream",
     "text": [
      "[Stage 93:==================================================>     (42 + 4) / 47]\r"
     ]
    },
    {
     "name": "stdout",
     "output_type": "stream",
     "text": [
      "+---------+----------------+\n",
      "|stockname|       max(Open)|\n",
      "+---------+----------------+\n",
      "|    PLTR |84.6800003051758|\n",
      "|    MSTR |          365.47|\n",
      "|    ROKU |            81.6|\n",
      "|    TSLA |          436.67|\n",
      "+---------+----------------+\n",
      "\n"
     ]
    },
    {
     "name": "stderr",
     "output_type": "stream",
     "text": [
      "                                                                                \r"
     ]
    }
   ],
   "source": [
    "new_stocks.groupBy(\"stockname\").max(\"Open\").show(15)"
   ]
  },
  {
   "cell_type": "code",
   "execution_count": 71,
   "metadata": {},
   "outputs": [
    {
     "name": "stderr",
     "output_type": "stream",
     "text": [
      "[Stage 96:=====================================================>  (45 + 2) / 47]\r"
     ]
    },
    {
     "name": "stdout",
     "output_type": "stream",
     "text": [
      "+---------+----------------+\n",
      "|stockname|   MaxStockPrice|\n",
      "+---------+----------------+\n",
      "|    PLTR |84.6800003051758|\n",
      "|    MSTR |          365.47|\n",
      "|    ROKU |            81.6|\n",
      "|    TSLA |          436.67|\n",
      "+---------+----------------+\n",
      "\n"
     ]
    },
    {
     "name": "stderr",
     "output_type": "stream",
     "text": [
      "                                                                                \r"
     ]
    }
   ],
   "source": [
    "new_stocks.groupBy(\"stockname\").max(\"Open\").withColumnRenamed(\"max(Open)\", \"MaxStockPrice\").show(15)"
   ]
  },
  {
   "cell_type": "code",
   "execution_count": 72,
   "metadata": {},
   "outputs": [
    {
     "name": "stderr",
     "output_type": "stream",
     "text": [
      "[Stage 99:==================================================>     (42 + 4) / 47]\r"
     ]
    },
    {
     "name": "stdout",
     "output_type": "stream",
     "text": [
      "+---------+----------------+\n",
      "|stockname|   MaxStockPrice|\n",
      "+---------+----------------+\n",
      "|    PLTR |84.6800003051758|\n",
      "|    MSTR |          365.47|\n",
      "|    ROKU |            81.6|\n",
      "|    TSLA |          436.67|\n",
      "+---------+----------------+\n",
      "\n"
     ]
    },
    {
     "name": "stderr",
     "output_type": "stream",
     "text": [
      "                                                                                \r"
     ]
    }
   ],
   "source": [
    "new_stocks.groupBy(\"stockname\").agg(max(\"Open\").alias(\"MaxStockPrice\")).show(15)"
   ]
  },
  {
   "cell_type": "code",
   "execution_count": 73,
   "metadata": {},
   "outputs": [
    {
     "name": "stderr",
     "output_type": "stream",
     "text": [
      "[Stage 102:=====================================================> (46 + 1) / 47]\r"
     ]
    },
    {
     "name": "stdout",
     "output_type": "stream",
     "text": [
      "+---------+----------------+-----------+\n",
      "|stockname|   MaxStockPrice|TotalVolume|\n",
      "+---------+----------------+-----------+\n",
      "|    PLTR |84.6800003051758|       NULL|\n",
      "|    MSTR |          365.47|       NULL|\n",
      "|    ROKU |            81.6|       NULL|\n",
      "|    TSLA |          436.67|       NULL|\n",
      "+---------+----------------+-----------+\n",
      "\n"
     ]
    },
    {
     "name": "stderr",
     "output_type": "stream",
     "text": [
      "                                                                                \r"
     ]
    }
   ],
   "source": [
    "new_stocks.groupBy(\"stockname\").agg(\n",
    "    max(\"open\").alias(\"MaxStockPrice\"),\n",
    "    sum(\"volume\").alias(\"TotalVolume\")\n",
    ").show(15)"
   ]
  },
  {
   "cell_type": "code",
   "execution_count": 74,
   "metadata": {},
   "outputs": [],
   "source": [
    "new_stocks = (\n",
    "    new_stocks.withColumn(\"Year\", year(new_stocks.new_date))\n",
    "    .withColumn(\"Month\", month(new_stocks.new_date))\n",
    "    .withColumn(\"Day\", dayofmonth(new_stocks.new_date))\n",
    "    .withColumn(\"Week\", weekofyear(new_stocks.new_date))\n",
    ")"
   ]
  },
  {
   "cell_type": "code",
   "execution_count": 75,
   "metadata": {},
   "outputs": [
    {
     "name": "stdout",
     "output_type": "stream",
     "text": [
      "+---------+-----+-----+-----+-----+------+----------+--------+----+-----+---+----+\n",
      "|stockname| open| high|  low|close|volume|  new_date|    time|Year|Month|Day|Week|\n",
      "+---------+-----+-----+-----+-----+------+----------+--------+----+-----+---+----+\n",
      "|    PLTR |81.94|81.95|81.16|81.44|  NULL|2024-12-23|09:00:00|2024|   12| 23|  52|\n",
      "|    PLTR |81.39|82.02|81.37|82.01|  NULL|2024-12-23|09:01:00|2024|   12| 23|  52|\n",
      "|    PLTR |81.96|82.16|81.95|82.13|  NULL|2024-12-23|09:02:00|2024|   12| 23|  52|\n",
      "|    PLTR |82.19| 82.4|82.11|82.38|  NULL|2024-12-23|09:03:00|2024|   12| 23|  52|\n",
      "|    PLTR | 82.4| 82.5| 82.3|82.32|  NULL|2024-12-23|09:04:00|2024|   12| 23|  52|\n",
      "+---------+-----+-----+-----+-----+------+----------+--------+----+-----+---+----+\n",
      "only showing top 5 rows\n",
      "\n"
     ]
    }
   ],
   "source": [
    "new_stocks.show(5)"
   ]
  },
  {
   "cell_type": "code",
   "execution_count": 76,
   "metadata": {},
   "outputs": [
    {
     "name": "stderr",
     "output_type": "stream",
     "text": [
      "[Stage 106:====================================================>  (45 + 2) / 47]\r"
     ]
    },
    {
     "name": "stdout",
     "output_type": "stream",
     "text": [
      "+---------+----+----------------+----------------+\n",
      "|stockname|Year|       YearlHigh|       YearlyLow|\n",
      "+---------+----+----------------+----------------+\n",
      "|    PLTR |2024|84.6800003051758|77.4250030517578|\n",
      "|    MSTR |2024|          365.47|323.372711181641|\n",
      "|    ROKU |2024|            81.6|74.7699966430664|\n",
      "|    TSLA |2024|          436.67|416.929992675781|\n",
      "+---------+----+----------------+----------------+\n",
      "\n"
     ]
    },
    {
     "name": "stderr",
     "output_type": "stream",
     "text": [
      "                                                                                \r"
     ]
    }
   ],
   "source": [
    "yearly = new_stocks.groupBy(\n",
    "    ['stockname', 'Year']\n",
    ").agg(\n",
    "    max(\"open\").alias(\"YearlHigh\"), \n",
    "    min(\"open\").alias(\"YearlyLow\")\n",
    ")\n",
    "yearly.show(5)"
   ]
  },
  {
   "cell_type": "code",
   "execution_count": 77,
   "metadata": {},
   "outputs": [
    {
     "name": "stderr",
     "output_type": "stream",
     "text": [
      "[Stage 109:==================================================>    (43 + 4) / 47]\r"
     ]
    },
    {
     "name": "stdout",
     "output_type": "stream",
     "text": [
      "+---------+----+-----+----------------+----------------+\n",
      "|stockname|year|month|       MonthHigh|        MonthLow|\n",
      "+---------+----+-----+----------------+----------------+\n",
      "|    PLTR |2024|   12|84.6800003051758|77.4250030517578|\n",
      "|    MSTR |2024|   12|          365.47|323.372711181641|\n",
      "|    ROKU |2024|   12|            81.6|74.7699966430664|\n",
      "|    TSLA |2024|   12|          436.67|416.929992675781|\n",
      "+---------+----+-----+----------------+----------------+\n",
      "\n"
     ]
    },
    {
     "name": "stderr",
     "output_type": "stream",
     "text": [
      "                                                                                \r"
     ]
    }
   ],
   "source": [
    "monthly = new_stocks.groupBy(\n",
    "    [\"stockname\", \"year\", \"month\"]  # Ensure lowercase if needed\n",
    ").agg(\n",
    "    max(\"Open\").alias(\"MonthHigh\"), \n",
    "    min(\"Open\").alias(\"MonthLow\")\n",
    ")\n",
    "monthly.show(5)"
   ]
  },
  {
   "cell_type": "code",
   "execution_count": 78,
   "metadata": {},
   "outputs": [
    {
     "name": "stderr",
     "output_type": "stream",
     "text": [
      "[Stage 112:==================================================>    (43 + 4) / 47]\r"
     ]
    },
    {
     "name": "stdout",
     "output_type": "stream",
     "text": [
      "+---------+----+----+----------------+----------------+\n",
      "|stockname|Year|Week|        WeekHigh|         WeekLow|\n",
      "+---------+----+----+----------------+----------------+\n",
      "|    PLTR |2024|  52|84.6800003051758|77.4250030517578|\n",
      "|    MSTR |2024|  52|          365.47|323.372711181641|\n",
      "|    ROKU |2024|  52|            81.6|74.7699966430664|\n",
      "|    TSLA |2024|  52|          436.67|416.929992675781|\n",
      "+---------+----+----+----------------+----------------+\n",
      "\n"
     ]
    },
    {
     "name": "stderr",
     "output_type": "stream",
     "text": [
      "                                                                                \r"
     ]
    }
   ],
   "source": [
    "weekly = new_stocks.groupBy(\n",
    "    ['stockname', 'Year', 'Week']\n",
    ").agg(\n",
    "    max(\"Open\").alias(\"WeekHigh\"), min(\"Open\").alias(\"WeekLow\")\n",
    ")\n",
    "weekly.show(5)"
   ]
  },
  {
   "cell_type": "code",
   "execution_count": 79,
   "metadata": {},
   "outputs": [
    {
     "name": "stderr",
     "output_type": "stream",
     "text": [
      "[Stage 115:===================================================>   (44 + 3) / 47]\r"
     ]
    },
    {
     "name": "stdout",
     "output_type": "stream",
     "text": [
      "+---------+----+----+----------------+----------------+------------------+\n",
      "|stockname|Year|Week|        WeekHigh|         WeekLow|            Spread|\n",
      "+---------+----+----+----------------+----------------+------------------+\n",
      "|    PLTR |2024|  52|84.6800003051758|77.4250030517578| 7.254997253417997|\n",
      "|    MSTR |2024|  52|          365.47|323.372711181641|42.097288818359004|\n",
      "|    ROKU |2024|  52|            81.6|74.7699966430664| 6.830003356933588|\n",
      "|    TSLA |2024|  52|          436.67|416.929992675781|19.740007324218993|\n",
      "+---------+----+----+----------------+----------------+------------------+\n",
      "\n"
     ]
    },
    {
     "name": "stderr",
     "output_type": "stream",
     "text": [
      "                                                                                \r"
     ]
    }
   ],
   "source": [
    "weekly = weekly.withColumn(\n",
    "    \"Spread\", weekly['WeekHigh'] - weekly['WeekLow']\n",
    ")\n",
    "weekly.show(5)"
   ]
  },
  {
   "cell_type": "markdown",
   "metadata": {},
   "source": [
    "# Joins"
   ]
  },
  {
   "cell_type": "code",
   "execution_count": 80,
   "metadata": {},
   "outputs": [],
   "source": [
    "historic_stocks = new_stocks.join(\n",
    "    yearly, \n",
    "    (\n",
    "        new_stocks.stockname==yearly.stockname\n",
    "    ) & (\n",
    "        new_stocks.Year == yearly.Year\n",
    "        ),\n",
    "    'inner'\n",
    ").drop(\n",
    "    yearly.Year, \n",
    "    yearly.stockname\n",
    ")"
   ]
  },
  {
   "cell_type": "code",
   "execution_count": 81,
   "metadata": {},
   "outputs": [
    {
     "name": "stderr",
     "output_type": "stream",
     "text": [
      "[Stage 119:==================================================>    (43 + 4) / 47]\r"
     ]
    },
    {
     "name": "stdout",
     "output_type": "stream",
     "text": [
      "+-----+-----+-----+-----+------+----------+--------+-----+---+----+---------+----+----------------+----------------+\n",
      "| open| high|  low|close|volume|  new_date|    time|Month|Day|Week|stockname|Year|       YearlHigh|       YearlyLow|\n",
      "+-----+-----+-----+-----+------+----------+--------+-----+---+----+---------+----+----------------+----------------+\n",
      "|81.94|81.95|81.16|81.44|  NULL|2024-12-23|09:00:00|   12| 23|  52|    PLTR |2024|84.6800003051758|77.4250030517578|\n",
      "|81.39|82.02|81.37|82.01|  NULL|2024-12-23|09:01:00|   12| 23|  52|    PLTR |2024|84.6800003051758|77.4250030517578|\n",
      "|81.96|82.16|81.95|82.13|  NULL|2024-12-23|09:02:00|   12| 23|  52|    PLTR |2024|84.6800003051758|77.4250030517578|\n",
      "|82.19| 82.4|82.11|82.38|  NULL|2024-12-23|09:03:00|   12| 23|  52|    PLTR |2024|84.6800003051758|77.4250030517578|\n",
      "| 82.4| 82.5| 82.3|82.32|  NULL|2024-12-23|09:04:00|   12| 23|  52|    PLTR |2024|84.6800003051758|77.4250030517578|\n",
      "+-----+-----+-----+-----+------+----------+--------+-----+---+----+---------+----+----------------+----------------+\n",
      "only showing top 5 rows\n",
      "\n"
     ]
    },
    {
     "name": "stderr",
     "output_type": "stream",
     "text": [
      "                                                                                \r"
     ]
    }
   ],
   "source": [
    "historic_stocks.show(5)"
   ]
  },
  {
   "cell_type": "code",
   "execution_count": 82,
   "metadata": {},
   "outputs": [],
   "source": [
    "cond = [\n",
    "    (\n",
    "        historic_stocks.stockname==weekly.stockname\n",
    "    ) & (\n",
    "        historic_stocks.Year == weekly.Year\n",
    "    ) & (\n",
    "        historic_stocks.Week == weekly.Week\n",
    "    )\n",
    "]\n",
    "historic_stocks = historic_stocks.join(\n",
    "    weekly, \n",
    "    cond, \n",
    "    'inner'\n",
    ").drop(\n",
    "    weekly.Year, \n",
    "    historic_stocks.stockname, \n",
    "    weekly.Week\n",
    ")"
   ]
  },
  {
   "cell_type": "code",
   "execution_count": 83,
   "metadata": {},
   "outputs": [
    {
     "name": "stderr",
     "output_type": "stream",
     "text": [
      "                                                                                \r"
     ]
    },
    {
     "name": "stdout",
     "output_type": "stream",
     "text": [
      "+-----+-----+-----+-----+------+----------+--------+-----+---+----+----------------+----------------+---------+----+----------------+----------------+-----------------+\n",
      "| open| high|  low|close|volume|  new_date|    time|Month|Day|Year|       YearlHigh|       YearlyLow|stockname|Week|        WeekHigh|         WeekLow|           Spread|\n",
      "+-----+-----+-----+-----+------+----------+--------+-----+---+----+----------------+----------------+---------+----+----------------+----------------+-----------------+\n",
      "|81.94|81.95|81.16|81.44|  NULL|2024-12-23|09:00:00|   12| 23|2024|84.6800003051758|77.4250030517578|    PLTR |  52|84.6800003051758|77.4250030517578|7.254997253417997|\n",
      "|81.39|82.02|81.37|82.01|  NULL|2024-12-23|09:01:00|   12| 23|2024|84.6800003051758|77.4250030517578|    PLTR |  52|84.6800003051758|77.4250030517578|7.254997253417997|\n",
      "|81.96|82.16|81.95|82.13|  NULL|2024-12-23|09:02:00|   12| 23|2024|84.6800003051758|77.4250030517578|    PLTR |  52|84.6800003051758|77.4250030517578|7.254997253417997|\n",
      "|82.19| 82.4|82.11|82.38|  NULL|2024-12-23|09:03:00|   12| 23|2024|84.6800003051758|77.4250030517578|    PLTR |  52|84.6800003051758|77.4250030517578|7.254997253417997|\n",
      "| 82.4| 82.5| 82.3|82.32|  NULL|2024-12-23|09:04:00|   12| 23|2024|84.6800003051758|77.4250030517578|    PLTR |  52|84.6800003051758|77.4250030517578|7.254997253417997|\n",
      "+-----+-----+-----+-----+------+----------+--------+-----+---+----+----------------+----------------+---------+----+----------------+----------------+-----------------+\n",
      "only showing top 5 rows\n",
      "\n"
     ]
    }
   ],
   "source": [
    "historic_stocks.show(5)"
   ]
  },
  {
   "cell_type": "code",
   "execution_count": 84,
   "metadata": {},
   "outputs": [
    {
     "data": {
      "text/plain": [
       "['open',\n",
       " 'high',\n",
       " 'low',\n",
       " 'close',\n",
       " 'volume',\n",
       " 'new_date',\n",
       " 'time',\n",
       " 'Month',\n",
       " 'Day',\n",
       " 'Year',\n",
       " 'YearlHigh',\n",
       " 'YearlyLow',\n",
       " 'stockname',\n",
       " 'Week',\n",
       " 'WeekHigh',\n",
       " 'WeekLow',\n",
       " 'Spread']"
      ]
     },
     "execution_count": 84,
     "metadata": {},
     "output_type": "execute_result"
    }
   ],
   "source": [
    "historic_stocks.columns"
   ]
  },
  {
   "cell_type": "code",
   "execution_count": 85,
   "metadata": {},
   "outputs": [
    {
     "name": "stderr",
     "output_type": "stream",
     "text": [
      "                                                                                \r"
     ]
    },
    {
     "name": "stdout",
     "output_type": "stream",
     "text": [
      "+---------+----+-----+-----+-----+-----+-----+------+----------+--------+---+----------------+----------------+----+----------------+----------------+-----------------+----------------+----------------+\n",
      "|stockname|Year|Month| open| high|  low|close|volume|  new_date|    time|Day|       YearlHigh|       YearlyLow|Week|        WeekHigh|         WeekLow|           Spread|       MonthHigh|        MonthLow|\n",
      "+---------+----+-----+-----+-----+-----+-----+------+----------+--------+---+----------------+----------------+----+----------------+----------------+-----------------+----------------+----------------+\n",
      "|    PLTR |2024|   12|81.94|81.95|81.16|81.44|  NULL|2024-12-23|09:00:00| 23|84.6800003051758|77.4250030517578|  52|84.6800003051758|77.4250030517578|7.254997253417997|84.6800003051758|77.4250030517578|\n",
      "|    PLTR |2024|   12|81.39|82.02|81.37|82.01|  NULL|2024-12-23|09:01:00| 23|84.6800003051758|77.4250030517578|  52|84.6800003051758|77.4250030517578|7.254997253417997|84.6800003051758|77.4250030517578|\n",
      "|    PLTR |2024|   12|81.96|82.16|81.95|82.13|  NULL|2024-12-23|09:02:00| 23|84.6800003051758|77.4250030517578|  52|84.6800003051758|77.4250030517578|7.254997253417997|84.6800003051758|77.4250030517578|\n",
      "|    PLTR |2024|   12|82.19| 82.4|82.11|82.38|  NULL|2024-12-23|09:03:00| 23|84.6800003051758|77.4250030517578|  52|84.6800003051758|77.4250030517578|7.254997253417997|84.6800003051758|77.4250030517578|\n",
      "|    PLTR |2024|   12| 82.4| 82.5| 82.3|82.32|  NULL|2024-12-23|09:04:00| 23|84.6800003051758|77.4250030517578|  52|84.6800003051758|77.4250030517578|7.254997253417997|84.6800003051758|77.4250030517578|\n",
      "|    PLTR |2024|   12|82.36|82.46| 82.3|82.33|  NULL|2024-12-23|09:05:00| 23|84.6800003051758|77.4250030517578|  52|84.6800003051758|77.4250030517578|7.254997253417997|84.6800003051758|77.4250030517578|\n",
      "|    PLTR |2024|   12|82.38|82.43|82.28|82.35|  NULL|2024-12-23|09:06:00| 23|84.6800003051758|77.4250030517578|  52|84.6800003051758|77.4250030517578|7.254997253417997|84.6800003051758|77.4250030517578|\n",
      "|    PLTR |2024|   12|82.35|82.72|82.35|82.69|  NULL|2024-12-23|09:07:00| 23|84.6800003051758|77.4250030517578|  52|84.6800003051758|77.4250030517578|7.254997253417997|84.6800003051758|77.4250030517578|\n",
      "|    PLTR |2024|   12|82.69| 82.8|82.69|82.75|  NULL|2024-12-23|09:08:00| 23|84.6800003051758|77.4250030517578|  52|84.6800003051758|77.4250030517578|7.254997253417997|84.6800003051758|77.4250030517578|\n",
      "|    PLTR |2024|   12|82.75|82.75|82.54|82.63|  NULL|2024-12-23|09:09:00| 23|84.6800003051758|77.4250030517578|  52|84.6800003051758|77.4250030517578|7.254997253417997|84.6800003051758|77.4250030517578|\n",
      "|    PLTR |2024|   12|82.63|82.66| 82.5|82.55|  NULL|2024-12-23|09:10:00| 23|84.6800003051758|77.4250030517578|  52|84.6800003051758|77.4250030517578|7.254997253417997|84.6800003051758|77.4250030517578|\n",
      "|    PLTR |2024|   12|82.56|82.58|82.49| 82.5|  NULL|2024-12-23|09:11:00| 23|84.6800003051758|77.4250030517578|  52|84.6800003051758|77.4250030517578|7.254997253417997|84.6800003051758|77.4250030517578|\n",
      "|    PLTR |2024|   12|82.49|82.49|82.35|82.47|  NULL|2024-12-23|09:12:00| 23|84.6800003051758|77.4250030517578|  52|84.6800003051758|77.4250030517578|7.254997253417997|84.6800003051758|77.4250030517578|\n",
      "|    PLTR |2024|   12| 82.5| 82.5|82.37|82.46|  NULL|2024-12-23|09:13:00| 23|84.6800003051758|77.4250030517578|  52|84.6800003051758|77.4250030517578|7.254997253417997|84.6800003051758|77.4250030517578|\n",
      "|    PLTR |2024|   12|82.43|82.53|82.42|82.52|  NULL|2024-12-23|09:14:00| 23|84.6800003051758|77.4250030517578|  52|84.6800003051758|77.4250030517578|7.254997253417997|84.6800003051758|77.4250030517578|\n",
      "|    PLTR |2024|   12|82.52|82.63|82.52|82.63|  NULL|2024-12-23|09:15:00| 23|84.6800003051758|77.4250030517578|  52|84.6800003051758|77.4250030517578|7.254997253417997|84.6800003051758|77.4250030517578|\n",
      "|    PLTR |2024|   12|82.63|82.65|82.55|82.65|  NULL|2024-12-23|09:16:00| 23|84.6800003051758|77.4250030517578|  52|84.6800003051758|77.4250030517578|7.254997253417997|84.6800003051758|77.4250030517578|\n",
      "|    PLTR |2024|   12| 82.7|82.86| 82.7|82.86|  NULL|2024-12-23|09:17:00| 23|84.6800003051758|77.4250030517578|  52|84.6800003051758|77.4250030517578|7.254997253417997|84.6800003051758|77.4250030517578|\n",
      "|    PLTR |2024|   12|82.86|82.91|82.75|82.76|  NULL|2024-12-23|09:18:00| 23|84.6800003051758|77.4250030517578|  52|84.6800003051758|77.4250030517578|7.254997253417997|84.6800003051758|77.4250030517578|\n",
      "|    PLTR |2024|   12| 82.7|82.76|82.66|82.72|  NULL|2024-12-23|09:19:00| 23|84.6800003051758|77.4250030517578|  52|84.6800003051758|77.4250030517578|7.254997253417997|84.6800003051758|77.4250030517578|\n",
      "+---------+----+-----+-----+-----+-----+-----+------+----------+--------+---+----------------+----------------+----+----------------+----------------+-----------------+----------------+----------------+\n",
      "only showing top 20 rows\n",
      "\n"
     ]
    }
   ],
   "source": [
    "historic_stocks = historic_stocks.join(\n",
    "    monthly, [\n",
    "        'stockname', \n",
    "        'Year', \n",
    "        'Month'\n",
    "    ]\n",
    ")\n",
    "historic_stocks.show()"
   ]
  },
  {
   "cell_type": "code",
   "execution_count": 86,
   "metadata": {},
   "outputs": [],
   "source": [
    "final_stocks = historic_stocks.select(\n",
    "    [\n",
    "        'stockname', \n",
    "        'Year',\n",
    "        'Month', \n",
    "        'Day', \n",
    "        'Week', \n",
    "        'Volume',\n",
    "        'Open',\n",
    "        'Low',\n",
    "        'High',\n",
    "        'Close', \n",
    "        'YearlHigh',\n",
    "        'YearlyLow',\n",
    "        'WeekHigh',\n",
    "        'WeekLow',\n",
    "        'MonthHigh',\n",
    "        'MonthLow'\n",
    "    ]\n",
    ")"
   ]
  },
  {
   "cell_type": "code",
   "execution_count": 87,
   "metadata": {},
   "outputs": [
    {
     "name": "stderr",
     "output_type": "stream",
     "text": [
      "                                                                                \r"
     ]
    },
    {
     "name": "stdout",
     "output_type": "stream",
     "text": [
      "+---------+----+-----+---+----+------+-----+-----+-----+-----+----------------+----------------+----------------+----------------+----------------+----------------+\n",
      "|stockname|Year|Month|Day|Week|Volume| Open|  Low| High|Close|       YearlHigh|       YearlyLow|        WeekHigh|         WeekLow|       MonthHigh|        MonthLow|\n",
      "+---------+----+-----+---+----+------+-----+-----+-----+-----+----------------+----------------+----------------+----------------+----------------+----------------+\n",
      "|    PLTR |2024|   12| 23|  52|  NULL|81.94|81.16|81.95|81.44|84.6800003051758|77.4250030517578|84.6800003051758|77.4250030517578|84.6800003051758|77.4250030517578|\n",
      "|    PLTR |2024|   12| 23|  52|  NULL|81.39|81.37|82.02|82.01|84.6800003051758|77.4250030517578|84.6800003051758|77.4250030517578|84.6800003051758|77.4250030517578|\n",
      "|    PLTR |2024|   12| 23|  52|  NULL|81.96|81.95|82.16|82.13|84.6800003051758|77.4250030517578|84.6800003051758|77.4250030517578|84.6800003051758|77.4250030517578|\n",
      "|    PLTR |2024|   12| 23|  52|  NULL|82.19|82.11| 82.4|82.38|84.6800003051758|77.4250030517578|84.6800003051758|77.4250030517578|84.6800003051758|77.4250030517578|\n",
      "|    PLTR |2024|   12| 23|  52|  NULL| 82.4| 82.3| 82.5|82.32|84.6800003051758|77.4250030517578|84.6800003051758|77.4250030517578|84.6800003051758|77.4250030517578|\n",
      "+---------+----+-----+---+----+------+-----+-----+-----+-----+----------------+----------------+----------------+----------------+----------------+----------------+\n",
      "only showing top 5 rows\n",
      "\n"
     ]
    }
   ],
   "source": [
    "final_stocks.show(5)"
   ]
  },
  {
   "cell_type": "code",
   "execution_count": 88,
   "metadata": {},
   "outputs": [],
   "source": [
    "final_stocks.createOrReplaceTempView('stockData')"
   ]
  },
  {
   "cell_type": "code",
   "execution_count": 90,
   "metadata": {},
   "outputs": [
    {
     "name": "stderr",
     "output_type": "stream",
     "text": [
      "[Stage 159:>(46 + 1) / 47][Stage 161:>  (0 + 1) / 1][Stage 162:>  (0 + 1) / 1]1]\r"
     ]
    },
    {
     "name": "stdout",
     "output_type": "stream",
     "text": [
      "+---------+----+-----+---+----+------+----+---+----+-----+---------+---------+--------+-------+---------+--------+\n",
      "|stockname|Year|Month|Day|Week|Volume|Open|Low|High|Close|YearlHigh|YearlyLow|WeekHigh|WeekLow|MonthHigh|MonthLow|\n",
      "+---------+----+-----+---+----+------+----+---+----+-----+---------+---------+--------+-------+---------+--------+\n",
      "+---------+----+-----+---+----+------+----+---+----+-----+---------+---------+--------+-------+---------+--------+\n",
      "\n"
     ]
    },
    {
     "name": "stderr",
     "output_type": "stream",
     "text": [
      "[Stage 161:>                (0 + 1) / 1][Stage 162:>                (0 + 1) / 1]\r"
     ]
    },
    {
     "name": "stderr",
     "output_type": "stream",
     "text": [
      "                                                                                \r"
     ]
    }
   ],
   "source": [
    "spark.sql(\"SELECT * FROM stockData where stockname='MSFT' and Year='2023'\").show(5)"
   ]
  },
  {
   "cell_type": "markdown",
   "metadata": {},
   "source": [
    "# end"
   ]
  },
  {
   "cell_type": "markdown",
   "metadata": {},
   "source": [
    "# continue"
   ]
  }
 ],
 "metadata": {
  "kernelspec": {
   "display_name": "sparkenv",
   "language": "python",
   "name": "python3"
  },
  "language_info": {
   "codemirror_mode": {
    "name": "ipython",
    "version": 3
   },
   "file_extension": ".py",
   "mimetype": "text/x-python",
   "name": "python",
   "nbconvert_exporter": "python",
   "pygments_lexer": "ipython3",
   "version": "3.12.3"
  }
 },
 "nbformat": 4,
 "nbformat_minor": 2
}

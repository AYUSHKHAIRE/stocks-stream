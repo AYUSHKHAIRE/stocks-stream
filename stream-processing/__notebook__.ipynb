{
 "cells": [
  {
   "cell_type": "code",
   "execution_count": null,
   "metadata": {},
   "outputs": [],
   "source": [
    "import pyspark\n",
    "from pyspark.sql import SparkSession\n",
    "from IPython.display import display"
   ]
  },
  {
   "cell_type": "code",
   "execution_count": null,
   "metadata": {},
   "outputs": [
    {
     "name": "stderr",
     "output_type": "stream",
     "text": [
      "25/02/16 00:58:02 WARN Utils: Your hostname, ayushkhaire resolves to a loopback address: 127.0.1.1; using 192.168.111.69 instead (on interface enp1s0)\n",
      "25/02/16 00:58:02 WARN Utils: Set SPARK_LOCAL_IP if you need to bind to another address\n",
      "Setting default log level to \"WARN\".\n",
      "To adjust logging level use sc.setLogLevel(newLevel). For SparkR, use setLogLevel(newLevel).\n",
      "25/02/16 00:58:03 WARN NativeCodeLoader: Unable to load native-hadoop library for your platform... using builtin-java classes where applicable\n"
     ]
    },
    {
     "data": {
      "text/html": [
       "\n",
       "            <div>\n",
       "                <p><b>SparkSession - in-memory</b></p>\n",
       "                \n",
       "        <div>\n",
       "            <p><b>SparkContext</b></p>\n",
       "\n",
       "            <p><a href=\"http://192.168.111.69:4040\">Spark UI</a></p>\n",
       "\n",
       "            <dl>\n",
       "              <dt>Version</dt>\n",
       "                <dd><code>v3.5.3</code></dd>\n",
       "              <dt>Master</dt>\n",
       "                <dd><code>local[*]</code></dd>\n",
       "              <dt>AppName</dt>\n",
       "                <dd><code>stocksly</code></dd>\n",
       "            </dl>\n",
       "        </div>\n",
       "        \n",
       "            </div>\n",
       "        "
      ],
      "text/plain": [
       "<pyspark.sql.session.SparkSession at 0x7ccb5451b9e0>"
      ]
     },
     "execution_count": 4,
     "metadata": {},
     "output_type": "execute_result"
    }
   ],
   "source": [
    "spark = SparkSession.builder.appName(\"stocksly\").getOrCreate()\n",
    "spark"
   ]
  },
  {
   "cell_type": "code",
   "execution_count": null,
   "metadata": {},
   "outputs": [
    {
     "name": "stderr",
     "output_type": "stream",
     "text": [
      "                                                                                \r"
     ]
    },
    {
     "data": {
      "text/plain": [
       "DataFrame[_c0: int, stockname: string, timestamp: timestamp, open: double, high: double, low: double, close: double, volume: double]"
      ]
     },
     "execution_count": 6,
     "metadata": {},
     "output_type": "execute_result"
    }
   ],
   "source": [
    "stocks = spark.read.csv(\n",
    "    \"../data_sourcing/source/stocks.csv\", \n",
    "    header=True, \n",
    "    inferSchema=True\n",
    ")"
   ]
  },
  {
   "cell_type": "code",
   "execution_count": 9,
   "metadata": {},
   "outputs": [
    {
     "name": "stdout",
     "output_type": "stream",
     "text": [
      "+---+---------+-------------------+-----+-----+-----+-----+------+\n",
      "|_c0|stockname|          timestamp| open| high|  low|close|volume|\n",
      "+---+---------+-------------------+-----+-----+-----+-----+------+\n",
      "|  0|    PLTR |2024-12-23 09:00:00|81.94|81.95|81.16|81.44|  NULL|\n",
      "|  1|    PLTR |2024-12-23 09:01:00|81.39|82.02|81.37|82.01|  NULL|\n",
      "|  2|    PLTR |2024-12-23 09:02:00|81.96|82.16|81.95|82.13|  NULL|\n",
      "|  3|    PLTR |2024-12-23 09:03:00|82.19| 82.4|82.11|82.38|  NULL|\n",
      "|  4|    PLTR |2024-12-23 09:04:00| 82.4| 82.5| 82.3|82.32|  NULL|\n",
      "+---+---------+-------------------+-----+-----+-----+-----+------+\n",
      "only showing top 5 rows\n",
      "\n"
     ]
    },
    {
     "name": "stderr",
     "output_type": "stream",
     "text": [
      "25/02/16 01:08:35 WARN CSVHeaderChecker: CSV header does not conform to the schema.\n",
      " Header: , stockname, timestamp, open, high, low, close, volume\n",
      " Schema: _c0, stockname, timestamp, open, high, low, close, volume\n",
      "Expected: _c0 but found: \n",
      "CSV file: file:///home/ayushkhaire/code/dataennginneerinng/stocksly/data_sourcing/source/stocks.csv\n"
     ]
    }
   ],
   "source": [
    "stocks.show(5)"
   ]
  },
  {
   "cell_type": "code",
   "execution_count": 10,
   "metadata": {},
   "outputs": [
    {
     "name": "stdout",
     "output_type": "stream",
     "text": [
      "root\n",
      " |-- _c0: integer (nullable = true)\n",
      " |-- stockname: string (nullable = true)\n",
      " |-- timestamp: timestamp (nullable = true)\n",
      " |-- open: double (nullable = true)\n",
      " |-- high: double (nullable = true)\n",
      " |-- low: double (nullable = true)\n",
      " |-- close: double (nullable = true)\n",
      " |-- volume: double (nullable = true)\n",
      "\n"
     ]
    }
   ],
   "source": [
    "stocks.printSchema()"
   ]
  },
  {
   "cell_type": "code",
   "execution_count": 15,
   "metadata": {},
   "outputs": [
    {
     "name": "stdout",
     "output_type": "stream",
     "text": [
      "+---------+\n",
      "|stockname|\n",
      "+---------+\n",
      "|    PLTR |\n",
      "|    PLTR |\n",
      "|    PLTR |\n",
      "|    PLTR |\n",
      "|    PLTR |\n",
      "+---------+\n",
      "only showing top 5 rows\n",
      "\n"
     ]
    }
   ],
   "source": [
    "stocks.select(\"stockname\").show(5)"
   ]
  },
  {
   "cell_type": "code",
   "execution_count": null,
   "metadata": {},
   "outputs": [
    {
     "name": "stdout",
     "output_type": "stream",
     "text": [
      "+---------+-----+-----+\n",
      "|stockname| open|close|\n",
      "+---------+-----+-----+\n",
      "|    PLTR |81.94|81.44|\n",
      "|    PLTR |81.39|82.01|\n",
      "|    PLTR |81.96|82.13|\n",
      "|    PLTR |82.19|82.38|\n",
      "|    PLTR | 82.4|82.32|\n",
      "+---------+-----+-----+\n",
      "only showing top 5 rows\n",
      "\n"
     ]
    }
   ],
   "source": [
    "stocks.select(\n",
    "    [\"stockname\",\"open\", \"close\"]\n",
    ").show(5)"
   ]
  },
  {
   "cell_type": "code",
   "execution_count": null,
   "metadata": {},
   "outputs": [
    {
     "name": "stderr",
     "output_type": "stream",
     "text": [
      "25/02/16 01:18:16 WARN CSVHeaderChecker: CSV header does not conform to the schema.\n",
      " Header: , stockname, timestamp, open, high, low, close, volume\n",
      " Schema: _c0, stockname, timestamp, open, high, low, close, volume\n",
      "Expected: _c0 but found: \n",
      "CSV file: file:///home/ayushkhaire/code/dataennginneerinng/stocksly/data_sourcing/source/stocks.csv\n"
     ]
    },
    {
     "name": "stdout",
     "output_type": "stream",
     "text": [
      "+------+---------+-------------------+------+------+------+------+------+\n",
      "|   _c0|stockname|          timestamp|  open|  high|   low| close|volume|\n",
      "+------+---------+-------------------+------+------+------+------+------+\n",
      "|354692|     TSLA|2024-12-23 09:00:00| 431.6| 434.2|431.28|434.19|  NULL|\n",
      "|354693|     TSLA|2024-12-23 09:01:00|434.19|435.13|433.53| 434.5|  NULL|\n",
      "|354694|     TSLA|2024-12-23 09:02:00|434.63|434.86|433.02| 433.7|  NULL|\n",
      "|354695|     TSLA|2024-12-23 09:03:00|433.69|433.97|433.29| 433.6|  NULL|\n",
      "|354696|     TSLA|2024-12-23 09:04:00|433.57| 433.6|432.61|433.28|  NULL|\n",
      "+------+---------+-------------------+------+------+------+------+------+\n",
      "only showing top 5 rows\n",
      "\n"
     ]
    }
   ],
   "source": [
    "stocks.filter(\n",
    "    stocks.stockname == \"TSLA\"\n",
    ").show(5)"
   ]
  },
  {
   "cell_type": "code",
   "execution_count": 31,
   "metadata": {},
   "outputs": [
    {
     "name": "stderr",
     "output_type": "stream",
     "text": [
      "25/02/16 01:34:34 WARN CSVHeaderChecker: CSV header does not conform to the schema.\n",
      " Header: , stockname, timestamp, open, high, low, close, volume\n",
      " Schema: _c0, stockname, timestamp, open, high, low, close, volume\n",
      "Expected: _c0 but found: \n",
      "CSV file: file:///home/ayushkhaire/code/dataennginneerinng/stocksly/data_sourcing/source/stocks.csv\n",
      "[Stage 40:=====================================================>  (21 + 1) / 22]\r"
     ]
    },
    {
     "name": "stdout",
     "output_type": "stream",
     "text": [
      "+-------+---------+-------------------+-----+-----+------+------+------+\n",
      "|    _c0|stockname|          timestamp| open| high|   low| close|volume|\n",
      "+-------+---------+-------------------+-----+-----+------+------+------+\n",
      "| 354692|     TSLA|2024-12-23 09:00:00|431.6|434.2|431.28|434.19|  NULL|\n",
      "|5149233|     PLTR|2024-12-23 09:00:00|81.94|81.95| 81.16| 81.44|   0.0|\n",
      "+-------+---------+-------------------+-----+-----+------+------+------+\n",
      "\n"
     ]
    },
    {
     "name": "stderr",
     "output_type": "stream",
     "text": [
      "                                                                                \r"
     ]
    }
   ],
   "source": [
    "stocks.filter(\n",
    "    (\n",
    "        (stocks.stockname == \"TSLA\") |\n",
    "        (stocks.stockname == \"PLTR\")\n",
    "    ) & (\n",
    "    stocks.timestamp == \"2024-12-23 09:00:00\")\n",
    ").show()"
   ]
  },
  {
   "cell_type": "code",
   "execution_count": 32,
   "metadata": {},
   "outputs": [
    {
     "name": "stderr",
     "output_type": "stream",
     "text": [
      "25/02/16 01:36:37 WARN CSVHeaderChecker: CSV header does not conform to the schema.\n",
      " Header: , stockname, timestamp, open, high, low, close, volume\n",
      " Schema: _c0, stockname, timestamp, open, high, low, close, volume\n",
      "Expected: _c0 but found: \n",
      "CSV file: file:///home/ayushkhaire/code/dataennginneerinng/stocksly/data_sourcing/source/stocks.csv\n",
      "[Stage 44:=====================================================>  (21 + 1) / 22]\r"
     ]
    },
    {
     "name": "stdout",
     "output_type": "stream",
     "text": [
      "+-------+---------+-------------------+-----+-----+------+------+------+\n",
      "|    _c0|stockname|          timestamp| open| high|   low| close|volume|\n",
      "+-------+---------+-------------------+-----+-----+------+------+------+\n",
      "| 354692|     TSLA|2024-12-23 09:00:00|431.6|434.2|431.28|434.19|  NULL|\n",
      "|5149233|     PLTR|2024-12-23 09:00:00|81.94|81.95| 81.16| 81.44|   0.0|\n",
      "+-------+---------+-------------------+-----+-----+------+------+------+\n",
      "\n"
     ]
    },
    {
     "name": "stderr",
     "output_type": "stream",
     "text": [
      "                                                                                \r"
     ]
    }
   ],
   "source": [
    "stocks.filter(\n",
    "    stocks.stockname.isin(\"TSLA\", \"PLTR\") &\n",
    "    (stocks.timestamp == \"2024-12-23 09:00:00\")\n",
    ").show()"
   ]
  }
 ],
 "metadata": {
  "kernelspec": {
   "display_name": "sparkenv",
   "language": "python",
   "name": "python3"
  },
  "language_info": {
   "codemirror_mode": {
    "name": "ipython",
    "version": 3
   },
   "file_extension": ".py",
   "mimetype": "text/x-python",
   "name": "python",
   "nbconvert_exporter": "python",
   "pygments_lexer": "ipython3",
   "version": "3.12.3"
  }
 },
 "nbformat": 4,
 "nbformat_minor": 2
}

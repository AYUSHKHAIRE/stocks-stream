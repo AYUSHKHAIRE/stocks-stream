{
 "cells": [
  {
   "cell_type": "code",
   "execution_count": 85,
   "metadata": {},
   "outputs": [],
   "source": [
    "import pyspark\n",
    "from pyspark.sql import SparkSession\n",
    "from IPython.display import display\n",
    "from pyspark.sql.functions import udf ,col ,split \n",
    "from pyspark.sql.types import DateType,StringType\n",
    "from datetime import datetime"
   ]
  },
  {
   "cell_type": "markdown",
   "metadata": {},
   "source": [
    "# Basic operations"
   ]
  },
  {
   "cell_type": "code",
   "execution_count": 69,
   "metadata": {},
   "outputs": [
    {
     "data": {
      "text/html": [
       "\n",
       "            <div>\n",
       "                <p><b>SparkSession - in-memory</b></p>\n",
       "                \n",
       "        <div>\n",
       "            <p><b>SparkContext</b></p>\n",
       "\n",
       "            <p><a href=\"http://192.168.111.69:4040\">Spark UI</a></p>\n",
       "\n",
       "            <dl>\n",
       "              <dt>Version</dt>\n",
       "                <dd><code>v3.5.3</code></dd>\n",
       "              <dt>Master</dt>\n",
       "                <dd><code>local[*]</code></dd>\n",
       "              <dt>AppName</dt>\n",
       "                <dd><code>stocksly</code></dd>\n",
       "            </dl>\n",
       "        </div>\n",
       "        \n",
       "            </div>\n",
       "        "
      ],
      "text/plain": [
       "<pyspark.sql.session.SparkSession at 0x7ccb5451b9e0>"
      ]
     },
     "execution_count": 69,
     "metadata": {},
     "output_type": "execute_result"
    }
   ],
   "source": [
    "spark = SparkSession.builder.appName(\"stocksly\").getOrCreate()\n",
    "spark"
   ]
  },
  {
   "cell_type": "code",
   "execution_count": 70,
   "metadata": {},
   "outputs": [
    {
     "name": "stderr",
     "output_type": "stream",
     "text": [
      "                                                                                \r"
     ]
    }
   ],
   "source": [
    "stocks = spark.read.csv(\n",
    "    \"../data_sourcing/source/stocks.csv\", \n",
    "    header=True, \n",
    "    inferSchema=True\n",
    ")"
   ]
  },
  {
   "cell_type": "code",
   "execution_count": 71,
   "metadata": {},
   "outputs": [
    {
     "name": "stdout",
     "output_type": "stream",
     "text": [
      "+---+---------+-------------------+-----+-----+-----+-----+------+\n",
      "|_c0|stockname|          timestamp| open| high|  low|close|volume|\n",
      "+---+---------+-------------------+-----+-----+-----+-----+------+\n",
      "|  0|    PLTR |2024-12-23 09:00:00|81.94|81.95|81.16|81.44|  NULL|\n",
      "|  1|    PLTR |2024-12-23 09:01:00|81.39|82.02|81.37|82.01|  NULL|\n",
      "|  2|    PLTR |2024-12-23 09:02:00|81.96|82.16|81.95|82.13|  NULL|\n",
      "|  3|    PLTR |2024-12-23 09:03:00|82.19| 82.4|82.11|82.38|  NULL|\n",
      "|  4|    PLTR |2024-12-23 09:04:00| 82.4| 82.5| 82.3|82.32|  NULL|\n",
      "+---+---------+-------------------+-----+-----+-----+-----+------+\n",
      "only showing top 5 rows\n",
      "\n"
     ]
    },
    {
     "name": "stderr",
     "output_type": "stream",
     "text": [
      "25/02/16 02:46:36 WARN CSVHeaderChecker: CSV header does not conform to the schema.\n",
      " Header: , stockname, timestamp, open, high, low, close, volume\n",
      " Schema: _c0, stockname, timestamp, open, high, low, close, volume\n",
      "Expected: _c0 but found: \n",
      "CSV file: file:///home/ayushkhaire/code/dataennginneerinng/stocksly/data_sourcing/source/stocks.csv\n"
     ]
    }
   ],
   "source": [
    "stocks.show(5)"
   ]
  },
  {
   "cell_type": "code",
   "execution_count": 72,
   "metadata": {},
   "outputs": [
    {
     "name": "stdout",
     "output_type": "stream",
     "text": [
      "root\n",
      " |-- _c0: integer (nullable = true)\n",
      " |-- stockname: string (nullable = true)\n",
      " |-- timestamp: timestamp (nullable = true)\n",
      " |-- open: double (nullable = true)\n",
      " |-- high: double (nullable = true)\n",
      " |-- low: double (nullable = true)\n",
      " |-- close: double (nullable = true)\n",
      " |-- volume: double (nullable = true)\n",
      "\n"
     ]
    }
   ],
   "source": [
    "stocks.printSchema()"
   ]
  },
  {
   "cell_type": "code",
   "execution_count": 73,
   "metadata": {},
   "outputs": [
    {
     "name": "stdout",
     "output_type": "stream",
     "text": [
      "+---------+\n",
      "|stockname|\n",
      "+---------+\n",
      "|    PLTR |\n",
      "|    PLTR |\n",
      "|    PLTR |\n",
      "|    PLTR |\n",
      "|    PLTR |\n",
      "+---------+\n",
      "only showing top 5 rows\n",
      "\n"
     ]
    }
   ],
   "source": [
    "stocks.select(\"stockname\").show(5)"
   ]
  },
  {
   "cell_type": "code",
   "execution_count": 74,
   "metadata": {},
   "outputs": [
    {
     "name": "stdout",
     "output_type": "stream",
     "text": [
      "+---------+-----+-----+\n",
      "|stockname| open|close|\n",
      "+---------+-----+-----+\n",
      "|    PLTR |81.94|81.44|\n",
      "|    PLTR |81.39|82.01|\n",
      "|    PLTR |81.96|82.13|\n",
      "|    PLTR |82.19|82.38|\n",
      "|    PLTR | 82.4|82.32|\n",
      "+---------+-----+-----+\n",
      "only showing top 5 rows\n",
      "\n"
     ]
    }
   ],
   "source": [
    "stocks.select(\n",
    "    [\"stockname\",\"open\", \"close\"]\n",
    ").show(5)"
   ]
  },
  {
   "cell_type": "code",
   "execution_count": 75,
   "metadata": {},
   "outputs": [
    {
     "name": "stderr",
     "output_type": "stream",
     "text": [
      "25/02/16 02:46:36 WARN CSVHeaderChecker: CSV header does not conform to the schema.\n",
      " Header: , stockname, timestamp, open, high, low, close, volume\n",
      " Schema: _c0, stockname, timestamp, open, high, low, close, volume\n",
      "Expected: _c0 but found: \n",
      "CSV file: file:///home/ayushkhaire/code/dataennginneerinng/stocksly/data_sourcing/source/stocks.csv\n"
     ]
    },
    {
     "name": "stdout",
     "output_type": "stream",
     "text": [
      "+------+---------+-------------------+------+------+------+------+------+\n",
      "|   _c0|stockname|          timestamp|  open|  high|   low| close|volume|\n",
      "+------+---------+-------------------+------+------+------+------+------+\n",
      "|354692|     TSLA|2024-12-23 09:00:00| 431.6| 434.2|431.28|434.19|  NULL|\n",
      "|354693|     TSLA|2024-12-23 09:01:00|434.19|435.13|433.53| 434.5|  NULL|\n",
      "|354694|     TSLA|2024-12-23 09:02:00|434.63|434.86|433.02| 433.7|  NULL|\n",
      "|354695|     TSLA|2024-12-23 09:03:00|433.69|433.97|433.29| 433.6|  NULL|\n",
      "|354696|     TSLA|2024-12-23 09:04:00|433.57| 433.6|432.61|433.28|  NULL|\n",
      "+------+---------+-------------------+------+------+------+------+------+\n",
      "only showing top 5 rows\n",
      "\n"
     ]
    }
   ],
   "source": [
    "stocks.filter(\n",
    "    stocks.stockname == \"TSLA\"\n",
    ").show(5)"
   ]
  },
  {
   "cell_type": "code",
   "execution_count": 76,
   "metadata": {},
   "outputs": [
    {
     "name": "stderr",
     "output_type": "stream",
     "text": [
      "25/02/16 02:46:36 WARN CSVHeaderChecker: CSV header does not conform to the schema.\n",
      " Header: , stockname, timestamp, open, high, low, close, volume\n",
      " Schema: _c0, stockname, timestamp, open, high, low, close, volume\n",
      "Expected: _c0 but found: \n",
      "CSV file: file:///home/ayushkhaire/code/dataennginneerinng/stocksly/data_sourcing/source/stocks.csv\n",
      "[Stage 72:=====================================================>  (21 + 1) / 22]\r"
     ]
    },
    {
     "name": "stdout",
     "output_type": "stream",
     "text": [
      "+-------+---------+-------------------+-----+-----+------+------+------+\n",
      "|    _c0|stockname|          timestamp| open| high|   low| close|volume|\n",
      "+-------+---------+-------------------+-----+-----+------+------+------+\n",
      "| 354692|     TSLA|2024-12-23 09:00:00|431.6|434.2|431.28|434.19|  NULL|\n",
      "|5149233|     PLTR|2024-12-23 09:00:00|81.94|81.95| 81.16| 81.44|   0.0|\n",
      "+-------+---------+-------------------+-----+-----+------+------+------+\n",
      "\n"
     ]
    },
    {
     "name": "stderr",
     "output_type": "stream",
     "text": [
      "                                                                                \r"
     ]
    }
   ],
   "source": [
    "stocks.filter(\n",
    "    (\n",
    "        (stocks.stockname == \"TSLA\") |\n",
    "        (stocks.stockname == \"PLTR\")\n",
    "    ) & (\n",
    "    stocks.timestamp == \"2024-12-23 09:00:00\")\n",
    ").show()"
   ]
  },
  {
   "cell_type": "code",
   "execution_count": 77,
   "metadata": {},
   "outputs": [
    {
     "name": "stderr",
     "output_type": "stream",
     "text": [
      "25/02/16 02:47:24 WARN CSVHeaderChecker: CSV header does not conform to the schema.\n",
      " Header: , stockname, timestamp, open, high, low, close, volume\n",
      " Schema: _c0, stockname, timestamp, open, high, low, close, volume\n",
      "Expected: _c0 but found: \n",
      "CSV file: file:///home/ayushkhaire/code/dataennginneerinng/stocksly/data_sourcing/source/stocks.csv\n",
      "[Stage 76:=====================================================>  (21 + 1) / 22]\r"
     ]
    },
    {
     "name": "stdout",
     "output_type": "stream",
     "text": [
      "+-------+---------+-------------------+-----+-----+------+------+------+\n",
      "|    _c0|stockname|          timestamp| open| high|   low| close|volume|\n",
      "+-------+---------+-------------------+-----+-----+------+------+------+\n",
      "| 354692|     TSLA|2024-12-23 09:00:00|431.6|434.2|431.28|434.19|  NULL|\n",
      "|5149233|     PLTR|2024-12-23 09:00:00|81.94|81.95| 81.16| 81.44|   0.0|\n",
      "+-------+---------+-------------------+-----+-----+------+------+------+\n",
      "\n"
     ]
    },
    {
     "name": "stderr",
     "output_type": "stream",
     "text": [
      "                                                                                \r"
     ]
    }
   ],
   "source": [
    "stocks.filter(\n",
    "    stocks.stockname.isin(\"TSLA\", \"PLTR\") &\n",
    "    (stocks.timestamp == \"2024-12-23 09:00:00\")\n",
    ").show()"
   ]
  },
  {
   "cell_type": "code",
   "execution_count": 78,
   "metadata": {},
   "outputs": [
    {
     "name": "stdout",
     "output_type": "stream",
     "text": [
      "+---+---------+-------------------+-----+-----+-----+-----+------+----------+--------+\n",
      "|_c0|stockname|          timestamp| open| high|  low|close|volume|      date|    time|\n",
      "+---+---------+-------------------+-----+-----+-----+-----+------+----------+--------+\n",
      "|  0|    PLTR |2024-12-23 09:00:00|81.94|81.95|81.16|81.44|  NULL|2024-12-23|09:00:00|\n",
      "|  1|    PLTR |2024-12-23 09:01:00|81.39|82.02|81.37|82.01|  NULL|2024-12-23|09:01:00|\n",
      "|  2|    PLTR |2024-12-23 09:02:00|81.96|82.16|81.95|82.13|  NULL|2024-12-23|09:02:00|\n",
      "|  3|    PLTR |2024-12-23 09:03:00|82.19| 82.4|82.11|82.38|  NULL|2024-12-23|09:03:00|\n",
      "|  4|    PLTR |2024-12-23 09:04:00| 82.4| 82.5| 82.3|82.32|  NULL|2024-12-23|09:04:00|\n",
      "+---+---------+-------------------+-----+-----+-----+-----+------+----------+--------+\n",
      "only showing top 5 rows\n",
      "\n"
     ]
    },
    {
     "name": "stderr",
     "output_type": "stream",
     "text": [
      "25/02/16 02:48:13 WARN CSVHeaderChecker: CSV header does not conform to the schema.\n",
      " Header: , stockname, timestamp, open, high, low, close, volume\n",
      " Schema: _c0, stockname, timestamp, open, high, low, close, volume\n",
      "Expected: _c0 but found: \n",
      "CSV file: file:///home/ayushkhaire/code/dataennginneerinng/stocksly/data_sourcing/source/stocks.csv\n"
     ]
    }
   ],
   "source": [
    "stocks = stocks.withColumn(\n",
    "    \"date\", split(\n",
    "        col(\"timestamp\"), \n",
    "    \" \")[0]\n",
    "    )\n",
    "stocks = stocks.withColumn(\n",
    "    \"time\", split(\n",
    "        col(\"timestamp\"), \n",
    "    \" \")[1]\n",
    "    )\n",
    "stocks.show(5)"
   ]
  },
  {
   "cell_type": "code",
   "execution_count": 79,
   "metadata": {},
   "outputs": [],
   "source": [
    "date_parser = udf(\n",
    "    lambda date : datetime.strptime(date, \"%Y-%m-%d\"),DateType()\n",
    ")"
   ]
  },
  {
   "cell_type": "code",
   "execution_count": 80,
   "metadata": {},
   "outputs": [
    {
     "name": "stderr",
     "output_type": "stream",
     "text": [
      "25/02/16 02:48:13 WARN CSVHeaderChecker: CSV header does not conform to the schema.\n",
      " Header: , stockname, timestamp, open, high, low, close, volume\n",
      " Schema: _c0, stockname, timestamp, open, high, low, close, volume\n",
      "Expected: _c0 but found: \n",
      "CSV file: file:///home/ayushkhaire/code/dataennginneerinng/stocksly/data_sourcing/source/stocks.csv\n"
     ]
    },
    {
     "name": "stdout",
     "output_type": "stream",
     "text": [
      "+---+---------+-------------------+-----+-----+-----+-----+------+----------+--------+----------+\n",
      "|_c0|stockname|          timestamp| open| high|  low|close|volume|      date|    time|  new_date|\n",
      "+---+---------+-------------------+-----+-----+-----+-----+------+----------+--------+----------+\n",
      "|  0|    PLTR |2024-12-23 09:00:00|81.94|81.95|81.16|81.44|  NULL|2024-12-23|09:00:00|2024-12-23|\n",
      "|  1|    PLTR |2024-12-23 09:01:00|81.39|82.02|81.37|82.01|  NULL|2024-12-23|09:01:00|2024-12-23|\n",
      "|  2|    PLTR |2024-12-23 09:02:00|81.96|82.16|81.95|82.13|  NULL|2024-12-23|09:02:00|2024-12-23|\n",
      "|  3|    PLTR |2024-12-23 09:03:00|82.19| 82.4|82.11|82.38|  NULL|2024-12-23|09:03:00|2024-12-23|\n",
      "|  4|    PLTR |2024-12-23 09:04:00| 82.4| 82.5| 82.3|82.32|  NULL|2024-12-23|09:04:00|2024-12-23|\n",
      "+---+---------+-------------------+-----+-----+-----+-----+------+----------+--------+----------+\n",
      "only showing top 5 rows\n",
      "\n"
     ]
    }
   ],
   "source": [
    "stocks = stocks.withColumn(\n",
    "    \"new_date\",\n",
    "    date_parser(stocks.date)  \n",
    ")\n",
    "\n",
    "stocks.show(5)"
   ]
  },
  {
   "cell_type": "code",
   "execution_count": 81,
   "metadata": {},
   "outputs": [
    {
     "name": "stdout",
     "output_type": "stream",
     "text": [
      "+---+---------+-------------------+-----+-----+-----+-----+------+----------+--------+----------+\n",
      "|_c0|stockname|          timestamp| open| high|  low|close|volume|      date|    time|  new_date|\n",
      "+---+---------+-------------------+-----+-----+-----+-----+------+----------+--------+----------+\n",
      "|  0|    PLTR |2024-12-23 09:00:00|81.94|81.95|81.16|81.44|  NULL|2024-12-23|09:00:00|2024-12-23|\n",
      "|  1|    PLTR |2024-12-23 09:01:00|81.39|82.02|81.37|82.01|  NULL|2024-12-23|09:01:00|2024-12-23|\n",
      "|  2|    PLTR |2024-12-23 09:02:00|81.96|82.16|81.95|82.13|  NULL|2024-12-23|09:02:00|2024-12-23|\n",
      "|  3|    PLTR |2024-12-23 09:03:00|82.19| 82.4|82.11|82.38|  NULL|2024-12-23|09:03:00|2024-12-23|\n",
      "|  4|    PLTR |2024-12-23 09:04:00| 82.4| 82.5| 82.3|82.32|  NULL|2024-12-23|09:04:00|2024-12-23|\n",
      "+---+---------+-------------------+-----+-----+-----+-----+------+----------+--------+----------+\n",
      "only showing top 5 rows\n",
      "\n"
     ]
    },
    {
     "name": "stderr",
     "output_type": "stream",
     "text": [
      "25/02/16 02:48:14 WARN CSVHeaderChecker: CSV header does not conform to the schema.\n",
      " Header: , stockname, timestamp, open, high, low, close, volume\n",
      " Schema: _c0, stockname, timestamp, open, high, low, close, volume\n",
      "Expected: _c0 but found: \n",
      "CSV file: file:///home/ayushkhaire/code/dataennginneerinng/stocksly/data_sourcing/source/stocks.csv\n"
     ]
    }
   ],
   "source": [
    "stocks.show(5)"
   ]
  },
  {
   "cell_type": "code",
   "execution_count": 86,
   "metadata": {},
   "outputs": [],
   "source": [
    "def upper_turner(stockname):\n",
    "    return stockname.upper()\n",
    "\n",
    "upper_turner = udf(\n",
    "    upper_turner, StringType()\n",
    ")"
   ]
  },
  {
   "cell_type": "code",
   "execution_count": 87,
   "metadata": {},
   "outputs": [
    {
     "name": "stdout",
     "output_type": "stream",
     "text": [
      "+---+---------+-------------------+-----+-----+-----+-----+------+----------+--------+----------+\n",
      "|_c0|stockname|          timestamp| open| high|  low|close|volume|      date|    time|  new_date|\n",
      "+---+---------+-------------------+-----+-----+-----+-----+------+----------+--------+----------+\n",
      "|  0|    PLTR |2024-12-23 09:00:00|81.94|81.95|81.16|81.44|  NULL|2024-12-23|09:00:00|2024-12-23|\n",
      "|  1|    PLTR |2024-12-23 09:01:00|81.39|82.02|81.37|82.01|  NULL|2024-12-23|09:01:00|2024-12-23|\n",
      "|  2|    PLTR |2024-12-23 09:02:00|81.96|82.16|81.95|82.13|  NULL|2024-12-23|09:02:00|2024-12-23|\n",
      "|  3|    PLTR |2024-12-23 09:03:00|82.19| 82.4|82.11|82.38|  NULL|2024-12-23|09:03:00|2024-12-23|\n",
      "|  4|    PLTR |2024-12-23 09:04:00| 82.4| 82.5| 82.3|82.32|  NULL|2024-12-23|09:04:00|2024-12-23|\n",
      "+---+---------+-------------------+-----+-----+-----+-----+------+----------+--------+----------+\n",
      "only showing top 5 rows\n",
      "\n"
     ]
    },
    {
     "name": "stderr",
     "output_type": "stream",
     "text": [
      "25/02/16 03:02:32 WARN CSVHeaderChecker: CSV header does not conform to the schema.\n",
      " Header: , stockname, timestamp, open, high, low, close, volume\n",
      " Schema: _c0, stockname, timestamp, open, high, low, close, volume\n",
      "Expected: _c0 but found: \n",
      "CSV file: file:///home/ayushkhaire/code/dataennginneerinng/stocksly/data_sourcing/source/stocks.csv\n"
     ]
    }
   ],
   "source": [
    "stocks = stocks.withColumn(\n",
    "    \"stockname\",upper_turner(stocks.stockname)\n",
    ")\n",
    "stocks.show(5)"
   ]
  },
  {
   "cell_type": "code",
   "execution_count": 88,
   "metadata": {},
   "outputs": [
    {
     "name": "stdout",
     "output_type": "stream",
     "text": [
      "root\n",
      " |-- _c0: integer (nullable = true)\n",
      " |-- stockname: string (nullable = true)\n",
      " |-- timestamp: timestamp (nullable = true)\n",
      " |-- open: double (nullable = true)\n",
      " |-- high: double (nullable = true)\n",
      " |-- low: double (nullable = true)\n",
      " |-- close: double (nullable = true)\n",
      " |-- volume: double (nullable = true)\n",
      " |-- date: string (nullable = true)\n",
      " |-- time: string (nullable = true)\n",
      " |-- new_date: date (nullable = true)\n",
      "\n"
     ]
    }
   ],
   "source": [
    "stocks.printSchema()"
   ]
  },
  {
   "cell_type": "code",
   "execution_count": 89,
   "metadata": {},
   "outputs": [],
   "source": [
    "new_stocks = stocks.select(\n",
    "    \"stockname\",\n",
    "    \"open\",\n",
    "    \"high\",\n",
    "    \"low\",\n",
    "    \"close\",\n",
    "    \"volume\",\n",
    "    \"new_date\",\n",
    "    \"time\"\n",
    ")"
   ]
  },
  {
   "cell_type": "code",
   "execution_count": 90,
   "metadata": {},
   "outputs": [
    {
     "name": "stdout",
     "output_type": "stream",
     "text": [
      "+---------+-----+-----+-----+-----+------+----------+--------+\n",
      "|stockname| open| high|  low|close|volume|  new_date|    time|\n",
      "+---------+-----+-----+-----+-----+------+----------+--------+\n",
      "|    PLTR |81.94|81.95|81.16|81.44|  NULL|2024-12-23|09:00:00|\n",
      "|    PLTR |81.39|82.02|81.37|82.01|  NULL|2024-12-23|09:01:00|\n",
      "|    PLTR |81.96|82.16|81.95|82.13|  NULL|2024-12-23|09:02:00|\n",
      "|    PLTR |82.19| 82.4|82.11|82.38|  NULL|2024-12-23|09:03:00|\n",
      "|    PLTR | 82.4| 82.5| 82.3|82.32|  NULL|2024-12-23|09:04:00|\n",
      "+---------+-----+-----+-----+-----+------+----------+--------+\n",
      "only showing top 5 rows\n",
      "\n"
     ]
    }
   ],
   "source": [
    "new_stocks.show(5)"
   ]
  },
  {
   "cell_type": "code",
   "execution_count": 92,
   "metadata": {},
   "outputs": [
    {
     "name": "stderr",
     "output_type": "stream",
     "text": [
      "25/02/16 03:11:44 WARN SparkStringUtils: Truncated the string representation of a plan since it was too large. This behavior can be adjusted by setting 'spark.sql.debug.maxToStringFields'.\n",
      "[Stage 82:======================================================> (46 + 1) / 47]\r"
     ]
    },
    {
     "name": "stdout",
     "output_type": "stream",
     "text": [
      "+-------+---------+------------------+------------------+------------------+------------------+-----------------+--------+\n",
      "|summary|stockname|              open|              high|               low|             close|           volume|    time|\n",
      "+-------+---------+------------------+------------------+------------------+------------------+-----------------+--------+\n",
      "|  count| 69242798|          63772250|          63772250|          63772250|          63772250|         60931060|69242798|\n",
      "|   mean|     NULL|157.51115919261184|157.55508494635941| 157.4645094963356|157.51097045883867|55927.47375937658|    NULL|\n",
      "| stddev|     NULL|3076.7758426276955|3076.7765233488894| 3076.775057143922|3076.7758180089277|7578621.679077058|    NULL|\n",
      "|    min|      AAL| 0.002199999988079| 0.002199999988079|0.0020999999251216|0.0020999999251216|              0.0|00:00:00|\n",
      "|    max|      ZK |     109110.390625|     109110.390625|     109110.390625|     109110.390625|   4.590406656E10|23:59:10|\n",
      "+-------+---------+------------------+------------------+------------------+------------------+-----------------+--------+\n",
      "\n"
     ]
    },
    {
     "name": "stderr",
     "output_type": "stream",
     "text": [
      "                                                                                \r"
     ]
    }
   ],
   "source": [
    "new_stocks.describe().show()"
   ]
  }
 ],
 "metadata": {
  "kernelspec": {
   "display_name": "sparkenv",
   "language": "python",
   "name": "python3"
  },
  "language_info": {
   "codemirror_mode": {
    "name": "ipython",
    "version": 3
   },
   "file_extension": ".py",
   "mimetype": "text/x-python",
   "name": "python",
   "nbconvert_exporter": "python",
   "pygments_lexer": "ipython3",
   "version": "3.12.3"
  }
 },
 "nbformat": 4,
 "nbformat_minor": 2
}

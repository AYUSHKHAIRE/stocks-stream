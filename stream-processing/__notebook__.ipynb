{
 "cells": [
  {
   "cell_type": "markdown",
   "metadata": {},
   "source": [
    "#### Imports"
   ]
  },
  {
   "cell_type": "code",
   "execution_count": 48,
   "metadata": {},
   "outputs": [],
   "source": [
    "import pyspark\n",
    "from pyspark.sql import SparkSession\n",
    "from IPython.display import display\n",
    "from pyspark.sql.functions import udf ,col , split, max, min, sum,year,month,dayofmonth,weekofyear\n",
    "from pyspark.sql.types import DateType,StringType\n",
    "from datetime import datetime"
   ]
  },
  {
   "cell_type": "markdown",
   "metadata": {},
   "source": [
    "# Basic operations"
   ]
  },
  {
   "cell_type": "code",
   "execution_count": 3,
   "metadata": {},
   "outputs": [
    {
     "name": "stderr",
     "output_type": "stream",
     "text": [
      "25/02/17 18:23:31 WARN Utils: Your hostname, ayushkhaire resolves to a loopback address: 127.0.1.1; using 192.168.2.14 instead (on interface wlp2s0)\n",
      "25/02/17 18:23:31 WARN Utils: Set SPARK_LOCAL_IP if you need to bind to another address\n",
      "Setting default log level to \"WARN\".\n",
      "To adjust logging level use sc.setLogLevel(newLevel). For SparkR, use setLogLevel(newLevel).\n",
      "25/02/17 18:23:32 WARN NativeCodeLoader: Unable to load native-hadoop library for your platform... using builtin-java classes where applicable\n"
     ]
    },
    {
     "data": {
      "text/html": [
       "\n",
       "            <div>\n",
       "                <p><b>SparkSession - in-memory</b></p>\n",
       "                \n",
       "        <div>\n",
       "            <p><b>SparkContext</b></p>\n",
       "\n",
       "            <p><a href=\"http://192.168.2.14:4040\">Spark UI</a></p>\n",
       "\n",
       "            <dl>\n",
       "              <dt>Version</dt>\n",
       "                <dd><code>v3.5.3</code></dd>\n",
       "              <dt>Master</dt>\n",
       "                <dd><code>local[*]</code></dd>\n",
       "              <dt>AppName</dt>\n",
       "                <dd><code>stocksly</code></dd>\n",
       "            </dl>\n",
       "        </div>\n",
       "        \n",
       "            </div>\n",
       "        "
      ],
      "text/plain": [
       "<pyspark.sql.session.SparkSession at 0x70aaec3ecef0>"
      ]
     },
     "execution_count": 3,
     "metadata": {},
     "output_type": "execute_result"
    }
   ],
   "source": [
    "spark = SparkSession.builder.appName(\"stocksly\").getOrCreate()\n",
    "spark"
   ]
  },
  {
   "cell_type": "code",
   "execution_count": 4,
   "metadata": {},
   "outputs": [
    {
     "name": "stderr",
     "output_type": "stream",
     "text": [
      "                                                                                \r"
     ]
    }
   ],
   "source": [
    "stocks = spark.read.csv(\n",
    "    \"../data_sourcing/source/stocks.csv\", \n",
    "    header=True, \n",
    "    inferSchema=True\n",
    ")"
   ]
  },
  {
   "cell_type": "code",
   "execution_count": 5,
   "metadata": {},
   "outputs": [
    {
     "name": "stdout",
     "output_type": "stream",
     "text": [
      "+---+---------+-------------------+-----+-----+-----+-----+------+\n",
      "|_c0|stockname|          timestamp| open| high|  low|close|volume|\n",
      "+---+---------+-------------------+-----+-----+-----+-----+------+\n",
      "|  0|    PLTR |2024-12-23 09:00:00|81.94|81.95|81.16|81.44|  NULL|\n",
      "|  1|    PLTR |2024-12-23 09:01:00|81.39|82.02|81.37|82.01|  NULL|\n",
      "|  2|    PLTR |2024-12-23 09:02:00|81.96|82.16|81.95|82.13|  NULL|\n",
      "|  3|    PLTR |2024-12-23 09:03:00|82.19| 82.4|82.11|82.38|  NULL|\n",
      "|  4|    PLTR |2024-12-23 09:04:00| 82.4| 82.5| 82.3|82.32|  NULL|\n",
      "+---+---------+-------------------+-----+-----+-----+-----+------+\n",
      "only showing top 5 rows\n",
      "\n"
     ]
    },
    {
     "name": "stderr",
     "output_type": "stream",
     "text": [
      "25/02/17 18:25:07 WARN CSVHeaderChecker: CSV header does not conform to the schema.\n",
      " Header: , stockname, timestamp, open, high, low, close, volume\n",
      " Schema: _c0, stockname, timestamp, open, high, low, close, volume\n",
      "Expected: _c0 but found: \n",
      "CSV file: file:///home/ayushkhaire/code/dataennginneerinng/stocksly/data_sourcing/source/stocks.csv\n"
     ]
    }
   ],
   "source": [
    "stocks.show(5)"
   ]
  },
  {
   "cell_type": "code",
   "execution_count": 6,
   "metadata": {},
   "outputs": [
    {
     "name": "stdout",
     "output_type": "stream",
     "text": [
      "root\n",
      " |-- _c0: integer (nullable = true)\n",
      " |-- stockname: string (nullable = true)\n",
      " |-- timestamp: timestamp (nullable = true)\n",
      " |-- open: double (nullable = true)\n",
      " |-- high: double (nullable = true)\n",
      " |-- low: double (nullable = true)\n",
      " |-- close: double (nullable = true)\n",
      " |-- volume: double (nullable = true)\n",
      "\n"
     ]
    }
   ],
   "source": [
    "stocks.printSchema()"
   ]
  },
  {
   "cell_type": "code",
   "execution_count": 7,
   "metadata": {},
   "outputs": [
    {
     "name": "stdout",
     "output_type": "stream",
     "text": [
      "+---------+\n",
      "|stockname|\n",
      "+---------+\n",
      "|    PLTR |\n",
      "|    PLTR |\n",
      "|    PLTR |\n",
      "|    PLTR |\n",
      "|    PLTR |\n",
      "+---------+\n",
      "only showing top 5 rows\n",
      "\n"
     ]
    }
   ],
   "source": [
    "stocks.select(\"stockname\").show(5)"
   ]
  },
  {
   "cell_type": "code",
   "execution_count": 8,
   "metadata": {},
   "outputs": [
    {
     "name": "stdout",
     "output_type": "stream",
     "text": [
      "+---------+-----+-----+\n",
      "|stockname| open|close|\n",
      "+---------+-----+-----+\n",
      "|    PLTR |81.94|81.44|\n",
      "|    PLTR |81.39|82.01|\n",
      "|    PLTR |81.96|82.13|\n",
      "|    PLTR |82.19|82.38|\n",
      "|    PLTR | 82.4|82.32|\n",
      "+---------+-----+-----+\n",
      "only showing top 5 rows\n",
      "\n"
     ]
    }
   ],
   "source": [
    "stocks.select(\n",
    "    [\"stockname\",\"open\", \"close\"]\n",
    ").show(5)"
   ]
  },
  {
   "cell_type": "code",
   "execution_count": 9,
   "metadata": {},
   "outputs": [
    {
     "name": "stderr",
     "output_type": "stream",
     "text": [
      "25/02/17 18:25:08 WARN CSVHeaderChecker: CSV header does not conform to the schema.\n",
      " Header: , stockname, timestamp, open, high, low, close, volume\n",
      " Schema: _c0, stockname, timestamp, open, high, low, close, volume\n",
      "Expected: _c0 but found: \n",
      "CSV file: file:///home/ayushkhaire/code/dataennginneerinng/stocksly/data_sourcing/source/stocks.csv\n",
      "[Stage 5:>                                                          (0 + 1) / 1]\r"
     ]
    },
    {
     "name": "stdout",
     "output_type": "stream",
     "text": [
      "+------+---------+-------------------+------+------+------+------+------+\n",
      "|   _c0|stockname|          timestamp|  open|  high|   low| close|volume|\n",
      "+------+---------+-------------------+------+------+------+------+------+\n",
      "|354692|     TSLA|2024-12-23 09:00:00| 431.6| 434.2|431.28|434.19|  NULL|\n",
      "|354693|     TSLA|2024-12-23 09:01:00|434.19|435.13|433.53| 434.5|  NULL|\n",
      "|354694|     TSLA|2024-12-23 09:02:00|434.63|434.86|433.02| 433.7|  NULL|\n",
      "|354695|     TSLA|2024-12-23 09:03:00|433.69|433.97|433.29| 433.6|  NULL|\n",
      "|354696|     TSLA|2024-12-23 09:04:00|433.57| 433.6|432.61|433.28|  NULL|\n",
      "+------+---------+-------------------+------+------+------+------+------+\n",
      "only showing top 5 rows\n",
      "\n"
     ]
    },
    {
     "name": "stderr",
     "output_type": "stream",
     "text": [
      "                                                                                \r"
     ]
    }
   ],
   "source": [
    "stocks.filter(\n",
    "    stocks.stockname == \"TSLA\"\n",
    ").show(5)"
   ]
  },
  {
   "cell_type": "code",
   "execution_count": 10,
   "metadata": {},
   "outputs": [
    {
     "name": "stderr",
     "output_type": "stream",
     "text": [
      "25/02/17 18:25:08 WARN CSVHeaderChecker: CSV header does not conform to the schema.\n",
      " Header: , stockname, timestamp, open, high, low, close, volume\n",
      " Schema: _c0, stockname, timestamp, open, high, low, close, volume\n",
      "Expected: _c0 but found: \n",
      "CSV file: file:///home/ayushkhaire/code/dataennginneerinng/stocksly/data_sourcing/source/stocks.csv\n",
      "[Stage 9:======================================================>  (21 + 1) / 22]\r"
     ]
    },
    {
     "name": "stdout",
     "output_type": "stream",
     "text": [
      "+-------+---------+-------------------+-----+-----+------+------+------+\n",
      "|    _c0|stockname|          timestamp| open| high|   low| close|volume|\n",
      "+-------+---------+-------------------+-----+-----+------+------+------+\n",
      "| 354692|     TSLA|2024-12-23 09:00:00|431.6|434.2|431.28|434.19|  NULL|\n",
      "|5149233|     PLTR|2024-12-23 09:00:00|81.94|81.95| 81.16| 81.44|   0.0|\n",
      "+-------+---------+-------------------+-----+-----+------+------+------+\n",
      "\n"
     ]
    },
    {
     "name": "stderr",
     "output_type": "stream",
     "text": [
      "                                                                                \r"
     ]
    }
   ],
   "source": [
    "stocks.filter(\n",
    "    (\n",
    "        (stocks.stockname == \"TSLA\") |\n",
    "        (stocks.stockname == \"PLTR\")\n",
    "    ) & (\n",
    "    stocks.timestamp == \"2024-12-23 09:00:00\")\n",
    ").show()"
   ]
  },
  {
   "cell_type": "code",
   "execution_count": 11,
   "metadata": {},
   "outputs": [
    {
     "name": "stderr",
     "output_type": "stream",
     "text": [
      "25/02/17 18:25:45 WARN CSVHeaderChecker: CSV header does not conform to the schema.\n",
      " Header: , stockname, timestamp, open, high, low, close, volume\n",
      " Schema: _c0, stockname, timestamp, open, high, low, close, volume\n",
      "Expected: _c0 but found: \n",
      "CSV file: file:///home/ayushkhaire/code/dataennginneerinng/stocksly/data_sourcing/source/stocks.csv\n",
      "[Stage 13:=====================================================>  (21 + 1) / 22]\r"
     ]
    },
    {
     "name": "stdout",
     "output_type": "stream",
     "text": [
      "+-------+---------+-------------------+-----+-----+------+------+------+\n",
      "|    _c0|stockname|          timestamp| open| high|   low| close|volume|\n",
      "+-------+---------+-------------------+-----+-----+------+------+------+\n",
      "| 354692|     TSLA|2024-12-23 09:00:00|431.6|434.2|431.28|434.19|  NULL|\n",
      "|5149233|     PLTR|2024-12-23 09:00:00|81.94|81.95| 81.16| 81.44|   0.0|\n",
      "+-------+---------+-------------------+-----+-----+------+------+------+\n",
      "\n"
     ]
    },
    {
     "name": "stderr",
     "output_type": "stream",
     "text": [
      "                                                                                \r"
     ]
    }
   ],
   "source": [
    "stocks.filter(\n",
    "    stocks.stockname.isin(\"TSLA\", \"PLTR\") &\n",
    "    (stocks.timestamp == \"2024-12-23 09:00:00\")\n",
    ").show()"
   ]
  },
  {
   "cell_type": "code",
   "execution_count": 12,
   "metadata": {},
   "outputs": [
    {
     "name": "stderr",
     "output_type": "stream",
     "text": [
      "25/02/17 18:26:22 WARN CSVHeaderChecker: CSV header does not conform to the schema.\n",
      " Header: , stockname, timestamp, open, high, low, close, volume\n",
      " Schema: _c0, stockname, timestamp, open, high, low, close, volume\n",
      "Expected: _c0 but found: \n",
      "CSV file: file:///home/ayushkhaire/code/dataennginneerinng/stocksly/data_sourcing/source/stocks.csv\n"
     ]
    },
    {
     "name": "stdout",
     "output_type": "stream",
     "text": [
      "+---+---------+-------------------+-----+-----+-----+-----+------+----------+--------+\n",
      "|_c0|stockname|          timestamp| open| high|  low|close|volume|      date|    time|\n",
      "+---+---------+-------------------+-----+-----+-----+-----+------+----------+--------+\n",
      "|  0|    PLTR |2024-12-23 09:00:00|81.94|81.95|81.16|81.44|  NULL|2024-12-23|09:00:00|\n",
      "|  1|    PLTR |2024-12-23 09:01:00|81.39|82.02|81.37|82.01|  NULL|2024-12-23|09:01:00|\n",
      "|  2|    PLTR |2024-12-23 09:02:00|81.96|82.16|81.95|82.13|  NULL|2024-12-23|09:02:00|\n",
      "|  3|    PLTR |2024-12-23 09:03:00|82.19| 82.4|82.11|82.38|  NULL|2024-12-23|09:03:00|\n",
      "|  4|    PLTR |2024-12-23 09:04:00| 82.4| 82.5| 82.3|82.32|  NULL|2024-12-23|09:04:00|\n",
      "+---+---------+-------------------+-----+-----+-----+-----+------+----------+--------+\n",
      "only showing top 5 rows\n",
      "\n"
     ]
    }
   ],
   "source": [
    "stocks = stocks.withColumn(\n",
    "    \"date\", split(\n",
    "        col(\"timestamp\"), \n",
    "    \" \")[0]\n",
    "    )\n",
    "stocks = stocks.withColumn(\n",
    "    \"time\", split(\n",
    "        col(\"timestamp\"), \n",
    "    \" \")[1]\n",
    "    )\n",
    "stocks.show(5)"
   ]
  },
  {
   "cell_type": "code",
   "execution_count": 13,
   "metadata": {},
   "outputs": [],
   "source": [
    "date_parser = udf(\n",
    "    lambda date : datetime.strptime(date, \"%Y-%m-%d\"),DateType()\n",
    ")"
   ]
  },
  {
   "cell_type": "code",
   "execution_count": 14,
   "metadata": {},
   "outputs": [
    {
     "name": "stdout",
     "output_type": "stream",
     "text": [
      "+---+---------+-------------------+-----+-----+-----+-----+------+----------+--------+----------+\n",
      "|_c0|stockname|          timestamp| open| high|  low|close|volume|      date|    time|  new_date|\n",
      "+---+---------+-------------------+-----+-----+-----+-----+------+----------+--------+----------+\n",
      "|  0|    PLTR |2024-12-23 09:00:00|81.94|81.95|81.16|81.44|  NULL|2024-12-23|09:00:00|2024-12-23|\n",
      "|  1|    PLTR |2024-12-23 09:01:00|81.39|82.02|81.37|82.01|  NULL|2024-12-23|09:01:00|2024-12-23|\n",
      "|  2|    PLTR |2024-12-23 09:02:00|81.96|82.16|81.95|82.13|  NULL|2024-12-23|09:02:00|2024-12-23|\n",
      "|  3|    PLTR |2024-12-23 09:03:00|82.19| 82.4|82.11|82.38|  NULL|2024-12-23|09:03:00|2024-12-23|\n",
      "|  4|    PLTR |2024-12-23 09:04:00| 82.4| 82.5| 82.3|82.32|  NULL|2024-12-23|09:04:00|2024-12-23|\n",
      "+---+---------+-------------------+-----+-----+-----+-----+------+----------+--------+----------+\n",
      "only showing top 5 rows\n",
      "\n"
     ]
    },
    {
     "name": "stderr",
     "output_type": "stream",
     "text": [
      "25/02/17 18:26:23 WARN CSVHeaderChecker: CSV header does not conform to the schema.\n",
      " Header: , stockname, timestamp, open, high, low, close, volume\n",
      " Schema: _c0, stockname, timestamp, open, high, low, close, volume\n",
      "Expected: _c0 but found: \n",
      "CSV file: file:///home/ayushkhaire/code/dataennginneerinng/stocksly/data_sourcing/source/stocks.csv\n",
      "                                                                                \r"
     ]
    }
   ],
   "source": [
    "stocks = stocks.withColumn(\n",
    "    \"new_date\",\n",
    "    date_parser(stocks.date)  \n",
    ")\n",
    "\n",
    "stocks.show(5)"
   ]
  },
  {
   "cell_type": "code",
   "execution_count": 15,
   "metadata": {},
   "outputs": [
    {
     "name": "stdout",
     "output_type": "stream",
     "text": [
      "+---+---------+-------------------+-----+-----+-----+-----+------+----------+--------+----------+\n",
      "|_c0|stockname|          timestamp| open| high|  low|close|volume|      date|    time|  new_date|\n",
      "+---+---------+-------------------+-----+-----+-----+-----+------+----------+--------+----------+\n",
      "|  0|    PLTR |2024-12-23 09:00:00|81.94|81.95|81.16|81.44|  NULL|2024-12-23|09:00:00|2024-12-23|\n",
      "|  1|    PLTR |2024-12-23 09:01:00|81.39|82.02|81.37|82.01|  NULL|2024-12-23|09:01:00|2024-12-23|\n",
      "|  2|    PLTR |2024-12-23 09:02:00|81.96|82.16|81.95|82.13|  NULL|2024-12-23|09:02:00|2024-12-23|\n",
      "|  3|    PLTR |2024-12-23 09:03:00|82.19| 82.4|82.11|82.38|  NULL|2024-12-23|09:03:00|2024-12-23|\n",
      "|  4|    PLTR |2024-12-23 09:04:00| 82.4| 82.5| 82.3|82.32|  NULL|2024-12-23|09:04:00|2024-12-23|\n",
      "+---+---------+-------------------+-----+-----+-----+-----+------+----------+--------+----------+\n",
      "only showing top 5 rows\n",
      "\n"
     ]
    },
    {
     "name": "stderr",
     "output_type": "stream",
     "text": [
      "25/02/17 18:26:23 WARN CSVHeaderChecker: CSV header does not conform to the schema.\n",
      " Header: , stockname, timestamp, open, high, low, close, volume\n",
      " Schema: _c0, stockname, timestamp, open, high, low, close, volume\n",
      "Expected: _c0 but found: \n",
      "CSV file: file:///home/ayushkhaire/code/dataennginneerinng/stocksly/data_sourcing/source/stocks.csv\n"
     ]
    }
   ],
   "source": [
    "stocks.show(5)"
   ]
  },
  {
   "cell_type": "code",
   "execution_count": 16,
   "metadata": {},
   "outputs": [],
   "source": [
    "def upper_turner(stockname):\n",
    "    return stockname.upper()\n",
    "\n",
    "upper_turner = udf(\n",
    "    upper_turner, StringType()\n",
    ")"
   ]
  },
  {
   "cell_type": "code",
   "execution_count": 17,
   "metadata": {},
   "outputs": [
    {
     "name": "stdout",
     "output_type": "stream",
     "text": [
      "+---+---------+-------------------+-----+-----+-----+-----+------+----------+--------+----------+\n",
      "|_c0|stockname|          timestamp| open| high|  low|close|volume|      date|    time|  new_date|\n",
      "+---+---------+-------------------+-----+-----+-----+-----+------+----------+--------+----------+\n",
      "|  0|    PLTR |2024-12-23 09:00:00|81.94|81.95|81.16|81.44|  NULL|2024-12-23|09:00:00|2024-12-23|\n",
      "|  1|    PLTR |2024-12-23 09:01:00|81.39|82.02|81.37|82.01|  NULL|2024-12-23|09:01:00|2024-12-23|\n",
      "|  2|    PLTR |2024-12-23 09:02:00|81.96|82.16|81.95|82.13|  NULL|2024-12-23|09:02:00|2024-12-23|\n",
      "|  3|    PLTR |2024-12-23 09:03:00|82.19| 82.4|82.11|82.38|  NULL|2024-12-23|09:03:00|2024-12-23|\n",
      "|  4|    PLTR |2024-12-23 09:04:00| 82.4| 82.5| 82.3|82.32|  NULL|2024-12-23|09:04:00|2024-12-23|\n",
      "+---+---------+-------------------+-----+-----+-----+-----+------+----------+--------+----------+\n",
      "only showing top 5 rows\n",
      "\n"
     ]
    },
    {
     "name": "stderr",
     "output_type": "stream",
     "text": [
      "25/02/17 18:26:24 WARN CSVHeaderChecker: CSV header does not conform to the schema.\n",
      " Header: , stockname, timestamp, open, high, low, close, volume\n",
      " Schema: _c0, stockname, timestamp, open, high, low, close, volume\n",
      "Expected: _c0 but found: \n",
      "CSV file: file:///home/ayushkhaire/code/dataennginneerinng/stocksly/data_sourcing/source/stocks.csv\n"
     ]
    }
   ],
   "source": [
    "stocks = stocks.withColumn(\n",
    "    \"stockname\",upper_turner(stocks.stockname)\n",
    ")\n",
    "stocks.show(5)"
   ]
  },
  {
   "cell_type": "code",
   "execution_count": 18,
   "metadata": {},
   "outputs": [
    {
     "name": "stdout",
     "output_type": "stream",
     "text": [
      "root\n",
      " |-- _c0: integer (nullable = true)\n",
      " |-- stockname: string (nullable = true)\n",
      " |-- timestamp: timestamp (nullable = true)\n",
      " |-- open: double (nullable = true)\n",
      " |-- high: double (nullable = true)\n",
      " |-- low: double (nullable = true)\n",
      " |-- close: double (nullable = true)\n",
      " |-- volume: double (nullable = true)\n",
      " |-- date: string (nullable = true)\n",
      " |-- time: string (nullable = true)\n",
      " |-- new_date: date (nullable = true)\n",
      "\n"
     ]
    }
   ],
   "source": [
    "stocks.printSchema()"
   ]
  },
  {
   "cell_type": "code",
   "execution_count": 19,
   "metadata": {},
   "outputs": [],
   "source": [
    "new_stocks = stocks.select(\n",
    "    \"stockname\",\n",
    "    \"open\",\n",
    "    \"high\",\n",
    "    \"low\",\n",
    "    \"close\",\n",
    "    \"volume\",\n",
    "    \"new_date\",\n",
    "    \"time\"\n",
    ")"
   ]
  },
  {
   "cell_type": "code",
   "execution_count": 20,
   "metadata": {},
   "outputs": [
    {
     "name": "stdout",
     "output_type": "stream",
     "text": [
      "+---------+-----+-----+-----+-----+------+----------+--------+\n",
      "|stockname| open| high|  low|close|volume|  new_date|    time|\n",
      "+---------+-----+-----+-----+-----+------+----------+--------+\n",
      "|    PLTR |81.94|81.95|81.16|81.44|  NULL|2024-12-23|09:00:00|\n",
      "|    PLTR |81.39|82.02|81.37|82.01|  NULL|2024-12-23|09:01:00|\n",
      "|    PLTR |81.96|82.16|81.95|82.13|  NULL|2024-12-23|09:02:00|\n",
      "|    PLTR |82.19| 82.4|82.11|82.38|  NULL|2024-12-23|09:03:00|\n",
      "|    PLTR | 82.4| 82.5| 82.3|82.32|  NULL|2024-12-23|09:04:00|\n",
      "+---------+-----+-----+-----+-----+------+----------+--------+\n",
      "only showing top 5 rows\n",
      "\n"
     ]
    }
   ],
   "source": [
    "new_stocks.show(5)"
   ]
  },
  {
   "cell_type": "code",
   "execution_count": 21,
   "metadata": {},
   "outputs": [
    {
     "name": "stderr",
     "output_type": "stream",
     "text": [
      "25/02/17 18:26:24 WARN SparkStringUtils: Truncated the string representation of a plan since it was too large. This behavior can be adjusted by setting 'spark.sql.debug.maxToStringFields'.\n",
      "[Stage 19:======================================================> (46 + 1) / 47]\r"
     ]
    },
    {
     "name": "stdout",
     "output_type": "stream",
     "text": [
      "+-------+---------+------------------+------------------+------------------+------------------+-----------------+--------+\n",
      "|summary|stockname|              open|              high|               low|             close|           volume|    time|\n",
      "+-------+---------+------------------+------------------+------------------+------------------+-----------------+--------+\n",
      "|  count| 69242798|          63772250|          63772250|          63772250|          63772250|         60931060|69242798|\n",
      "|   mean|     NULL|157.51115919261184|157.55508494635941| 157.4645094963356|157.51097045883867|55927.47375937658|    NULL|\n",
      "| stddev|     NULL|3076.7758426276955|3076.7765233488894| 3076.775057143922|3076.7758180089277|7578621.679077058|    NULL|\n",
      "|    min|      AAL| 0.002199999988079| 0.002199999988079|0.0020999999251216|0.0020999999251216|              0.0|00:00:00|\n",
      "|    max|      ZK |     109110.390625|     109110.390625|     109110.390625|     109110.390625|   4.590406656E10|23:59:10|\n",
      "+-------+---------+------------------+------------------+------------------+------------------+-----------------+--------+\n",
      "\n"
     ]
    },
    {
     "name": "stderr",
     "output_type": "stream",
     "text": [
      "                                                                                \r"
     ]
    }
   ],
   "source": [
    "new_stocks.describe().show()"
   ]
  },
  {
   "cell_type": "markdown",
   "metadata": {},
   "source": [
    "# Basic stock analysis"
   ]
  },
  {
   "cell_type": "code",
   "execution_count": 27,
   "metadata": {},
   "outputs": [
    {
     "name": "stderr",
     "output_type": "stream",
     "text": [
      "[Stage 24:======================================================> (46 + 1) / 47]\r"
     ]
    },
    {
     "name": "stdout",
     "output_type": "stream",
     "text": [
      "+---------+------------------+\n",
      "|stockname|         max(Open)|\n",
      "+---------+------------------+\n",
      "|    ACHR |  11.6099996566772|\n",
      "|    GRAB |  5.03000020980835|\n",
      "|     LMND| 46.93000030517578|\n",
      "|      CRS|            220.12|\n",
      "|    PSTG |              65.8|\n",
      "|    OMAB |             72.85|\n",
      "|      CXM| 9.484999656677246|\n",
      "|      NN |             18.54|\n",
      "|     CVNA|            264.85|\n",
      "|    BTSG |             19.99|\n",
      "|     ODD |             51.01|\n",
      "|     AFRM| 76.78990173339844|\n",
      "|     DYN |             25.99|\n",
      "| DOGE-USD|0.4332814216613769|\n",
      "|   LNVGY |  27.0599994659424|\n",
      "+---------+------------------+\n",
      "only showing top 15 rows\n",
      "\n"
     ]
    },
    {
     "name": "stderr",
     "output_type": "stream",
     "text": [
      "                                                                                \r"
     ]
    }
   ],
   "source": [
    "new_stocks.groupBy(\"stockname\").max(\"Open\").show(15)"
   ]
  },
  {
   "cell_type": "code",
   "execution_count": 28,
   "metadata": {},
   "outputs": [
    {
     "name": "stderr",
     "output_type": "stream",
     "text": [
      "[Stage 27:======================================================> (46 + 1) / 47]\r"
     ]
    },
    {
     "name": "stdout",
     "output_type": "stream",
     "text": [
      "+---------+------------------+\n",
      "|stockname|     MaxStockPrice|\n",
      "+---------+------------------+\n",
      "|    ACHR |  11.6099996566772|\n",
      "|    GRAB |  5.03000020980835|\n",
      "|     LMND| 46.93000030517578|\n",
      "|      CRS|            220.12|\n",
      "|    PSTG |              65.8|\n",
      "|    OMAB |             72.85|\n",
      "|      CXM| 9.484999656677246|\n",
      "|      NN |             18.54|\n",
      "|     CVNA|            264.85|\n",
      "|    BTSG |             19.99|\n",
      "|     ODD |             51.01|\n",
      "|     AFRM| 76.78990173339844|\n",
      "|     DYN |             25.99|\n",
      "| DOGE-USD|0.4332814216613769|\n",
      "|   LNVGY |  27.0599994659424|\n",
      "+---------+------------------+\n",
      "only showing top 15 rows\n",
      "\n"
     ]
    },
    {
     "name": "stderr",
     "output_type": "stream",
     "text": [
      "                                                                                \r"
     ]
    }
   ],
   "source": [
    "new_stocks.groupBy(\"stockname\").max(\"Open\").withColumnRenamed(\"max(Open)\", \"MaxStockPrice\").show(15)"
   ]
  },
  {
   "cell_type": "code",
   "execution_count": 31,
   "metadata": {},
   "outputs": [
    {
     "name": "stderr",
     "output_type": "stream",
     "text": [
      "[Stage 30:======================================================> (46 + 1) / 47]\r"
     ]
    },
    {
     "name": "stdout",
     "output_type": "stream",
     "text": [
      "+---------+------------------+\n",
      "|stockname|     MaxStockPrice|\n",
      "+---------+------------------+\n",
      "|    ACHR |  11.6099996566772|\n",
      "|    GRAB |  5.03000020980835|\n",
      "|     LMND| 46.93000030517578|\n",
      "|      CRS|            220.12|\n",
      "|    PSTG |              65.8|\n",
      "|    OMAB |             72.85|\n",
      "|      CXM| 9.484999656677246|\n",
      "|      NN |             18.54|\n",
      "|     CVNA|            264.85|\n",
      "|    BTSG |             19.99|\n",
      "|     ODD |             51.01|\n",
      "|     AFRM| 76.78990173339844|\n",
      "|     DYN |             25.99|\n",
      "| DOGE-USD|0.4332814216613769|\n",
      "|   LNVGY |  27.0599994659424|\n",
      "+---------+------------------+\n",
      "only showing top 15 rows\n",
      "\n"
     ]
    },
    {
     "name": "stderr",
     "output_type": "stream",
     "text": [
      "                                                                                \r"
     ]
    }
   ],
   "source": [
    "new_stocks.groupBy(\"stockname\").agg(max(\"Open\").alias(\"MaxStockPrice\")).show(15)"
   ]
  },
  {
   "cell_type": "code",
   "execution_count": 36,
   "metadata": {},
   "outputs": [
    {
     "name": "stderr",
     "output_type": "stream",
     "text": [
      "[Stage 33:======================================================> (46 + 1) / 47]\r"
     ]
    },
    {
     "name": "stdout",
     "output_type": "stream",
     "text": [
      "+---------+------------------+--------------+\n",
      "|stockname|     MaxStockPrice|   TotalVolume|\n",
      "+---------+------------------+--------------+\n",
      "|    ACHR |  11.6099996566772|          NULL|\n",
      "|    GRAB |  5.03000020980835|          NULL|\n",
      "|     LMND| 46.93000030517578|  6.20761353E8|\n",
      "|      CRS|            220.12|  3.01765302E8|\n",
      "|    PSTG |              65.8|          NULL|\n",
      "|    OMAB |             72.85|          NULL|\n",
      "|      CXM| 9.484999656677246|    5.241375E8|\n",
      "|      NN |             18.54|          NULL|\n",
      "|     CVNA|            264.85| 1.524912677E9|\n",
      "|    BTSG |             19.99|          NULL|\n",
      "|     ODD |             51.01|          NULL|\n",
      "|     AFRM| 76.78990173339844| 2.207234976E9|\n",
      "|     DYN |             25.99|          NULL|\n",
      "| DOGE-USD|0.4332814216613769|5.062422688E10|\n",
      "|   LNVGY |  27.0599994659424|          NULL|\n",
      "+---------+------------------+--------------+\n",
      "only showing top 15 rows\n",
      "\n"
     ]
    },
    {
     "name": "stderr",
     "output_type": "stream",
     "text": [
      "                                                                                \r"
     ]
    }
   ],
   "source": [
    "new_stocks.groupBy(\"stockname\").agg(\n",
    "    max(\"open\").alias(\"MaxStockPrice\"),\n",
    "    sum(\"volume\").alias(\"TotalVolume\")\n",
    ").show(15)"
   ]
  },
  {
   "cell_type": "code",
   "execution_count": 44,
   "metadata": {},
   "outputs": [],
   "source": [
    "new_stocks = (new_stocks.withColumn(\"Year\", year(new_stocks.new_date))\n",
    "                                .withColumn(\"Month\", month(new_stocks.new_date))\n",
    "                                .withColumn(\"Day\", dayofmonth(new_stocks.new_date))\n",
    "                                .withColumn(\"Week\", weekofyear(new_stocks.new_date))\n",
    "                 )"
   ]
  },
  {
   "cell_type": "code",
   "execution_count": 45,
   "metadata": {},
   "outputs": [
    {
     "name": "stdout",
     "output_type": "stream",
     "text": [
      "+---------+-----+-----+-----+-----+------+----------+--------+----+-----+---+----+\n",
      "|stockname| open| high|  low|close|volume|  new_date|    time|Year|Month|Day|Week|\n",
      "+---------+-----+-----+-----+-----+------+----------+--------+----+-----+---+----+\n",
      "|    PLTR |81.94|81.95|81.16|81.44|  NULL|2024-12-23|09:00:00|2024|   12| 23|  52|\n",
      "|    PLTR |81.39|82.02|81.37|82.01|  NULL|2024-12-23|09:01:00|2024|   12| 23|  52|\n",
      "|    PLTR |81.96|82.16|81.95|82.13|  NULL|2024-12-23|09:02:00|2024|   12| 23|  52|\n",
      "|    PLTR |82.19| 82.4|82.11|82.38|  NULL|2024-12-23|09:03:00|2024|   12| 23|  52|\n",
      "|    PLTR | 82.4| 82.5| 82.3|82.32|  NULL|2024-12-23|09:04:00|2024|   12| 23|  52|\n",
      "+---------+-----+-----+-----+-----+------+----------+--------+----+-----+---+----+\n",
      "only showing top 5 rows\n",
      "\n"
     ]
    }
   ],
   "source": [
    "new_stocks.show(5)"
   ]
  },
  {
   "cell_type": "code",
   "execution_count": 51,
   "metadata": {},
   "outputs": [
    {
     "name": "stderr",
     "output_type": "stream",
     "text": [
      "[Stage 40:======================================================> (46 + 1) / 47]\r"
     ]
    },
    {
     "name": "stdout",
     "output_type": "stream",
     "text": [
      "+---------+----+-----------------+-----------------+\n",
      "|stockname|Year|        YearlHigh|        YearlyLow|\n",
      "+---------+----+-----------------+-----------------+\n",
      "|     GDS |2024| 22.5249996185303|             18.5|\n",
      "|    ALAB |2024| 147.318298339844| 131.774993896484|\n",
      "|     VIK |2024|            47.49|          44.0267|\n",
      "|    XPEV |2024|          14.2266|          11.7969|\n",
      "|    PENN |2024| 20.9300003051758|            17.84|\n",
      "|    ASAN |2024|            23.13| 21.2399997711182|\n",
      "|     AMCR|2025|            10.38|             9.28|\n",
      "|    TSLA |2024| 487.917999267578|         285.0528|\n",
      "|     WULF|2024|8.475000381469727|5.091599941253662|\n",
      "|      CRS|2025|           220.12|           168.02|\n",
      "|      KGC|2024|            10.08|9.005000114440918|\n",
      "|     SMCI|2024|35.40999984741211|            29.55|\n",
      "|      CVX|2025|           163.35|         142.0615|\n",
      "|     BTSG|2024|             20.0|          15.9801|\n",
      "|    APPN |2024|             37.0|             33.0|\n",
      "+---------+----+-----------------+-----------------+\n",
      "only showing top 15 rows\n",
      "\n"
     ]
    },
    {
     "name": "stderr",
     "output_type": "stream",
     "text": [
      "                                                                                \r"
     ]
    }
   ],
   "source": [
    "yearly = new_stocks.groupBy(\n",
    "    ['stockname', 'Year']\n",
    ").agg(\n",
    "    max(\"open\").alias(\"YearlHigh\"), \n",
    "    min(\"open\").alias(\"YearlyLow\")\n",
    ").show(15)"
   ]
  },
  {
   "cell_type": "code",
   "execution_count": 52,
   "metadata": {},
   "outputs": [
    {
     "name": "stderr",
     "output_type": "stream",
     "text": [
      "[Stage 43:======================================================> (46 + 1) / 47]\r"
     ]
    },
    {
     "name": "stdout",
     "output_type": "stream",
     "text": [
      "+---------+----+-----+------------------+------------------+\n",
      "|stockname|Year|Month|         MonthHigh|          MonthLow|\n",
      "+---------+----+-----+------------------+------------------+\n",
      "|     VRT |2024|   12|            122.52|             113.5|\n",
      "|    WRBY |2024|   12|  25.3400001525879|             22.76|\n",
      "|      PBR|2024|   12|              13.7|12.579999923706056|\n",
      "|     GOOG|2024|   12|202.69000244140625|          171.4523|\n",
      "|     OXY |2024|   12|             49.79|            45.157|\n",
      "|      PDD|2024|   12|           103.625|           92.7501|\n",
      "|    IPGP |2024|   12|              78.4|             72.47|\n",
      "|    AAPL |2024|   12|          266.1547|          225.0813|\n",
      "|      BA |2024|   12|          188.6036|  166.610000610352|\n",
      "|    PRIM |2024|   12|             82.99|  77.0800018310547|\n",
      "|     IREN|2025|    1|13.604999542236328|  9.39900016784668|\n",
      "|     SLG |2024|   12|              69.0|             64.16|\n",
      "|     VYX |2024|   12|             14.55|              13.0|\n",
      "|      NU |2024|   12|             12.04|              9.98|\n",
      "|    VICR |2024|   12|             53.36|             48.11|\n",
      "+---------+----+-----+------------------+------------------+\n",
      "only showing top 15 rows\n",
      "\n"
     ]
    },
    {
     "name": "stderr",
     "output_type": "stream",
     "text": [
      "                                                                                \r"
     ]
    }
   ],
   "source": [
    "monthly = new_stocks.groupBy(\n",
    "    ['stockname', 'Year', 'Month']\n",
    ").agg(\n",
    "    max(\"Open\").alias(\"MonthHigh\"), min(\"Open\").alias(\"MonthLow\")\n",
    ").show(15)"
   ]
  },
  {
   "cell_type": "code",
   "execution_count": 59,
   "metadata": {},
   "outputs": [
    {
     "name": "stderr",
     "output_type": "stream",
     "text": [
      "[Stage 50:======================================================> (46 + 1) / 47]\r"
     ]
    },
    {
     "name": "stdout",
     "output_type": "stream",
     "text": [
      "+---------+----+----+----------------+------------------+\n",
      "|stockname|Year|Week|        WeekHigh|           WeekLow|\n",
      "+---------+----+----+----------------+------------------+\n",
      "|    NATL |2024|  52|           36.33|             30.55|\n",
      "|    NBIS |2024|  52|29.2800006866455|  25.6700000762939|\n",
      "|     RIG |2024|  52|            3.66|  3.40000009536743|\n",
      "|     DVN |2024|  50|            33.9|             33.85|\n",
      "|     TSM |2024|  52|        221.1243|             198.6|\n",
      "|    SMTC |2024|  52|           68.23|  62.0200004577637|\n",
      "|    PATH |2024|  52|           13.62|  12.7349996566772|\n",
      "|     KHC |2024|  52|30.8199996948242|  30.2549991607666|\n",
      "|     BTG |2024|  51|            2.72|              2.43|\n",
      "|     HMC |2024|  51|           25.75|             23.43|\n",
      "|      IQ |2024|  50|          2.2985|              2.26|\n",
      "|      KHC|2025|   2|30.8799991607666|             28.51|\n",
      "|       BA|2024|   1|        197.7372|170.82000732421875|\n",
      "|     MARA|2024|   1|           18.27|16.639999389648438|\n",
      "|      GDS|2024|  52|22.5249996185303|             19.01|\n",
      "+---------+----+----+----------------+------------------+\n",
      "only showing top 15 rows\n",
      "\n"
     ]
    },
    {
     "name": "stderr",
     "output_type": "stream",
     "text": [
      "                                                                                \r"
     ]
    }
   ],
   "source": [
    "weekly = new_stocks.groupBy(\n",
    "    ['stockname', 'Year', 'Week']\n",
    ").agg(\n",
    "    max(\"Open\").alias(\"WeekHigh\"), min(\"Open\").alias(\"WeekLow\")\n",
    ")\n",
    "weekly.show(15)"
   ]
  },
  {
   "cell_type": "code",
   "execution_count": 60,
   "metadata": {},
   "outputs": [
    {
     "name": "stderr",
     "output_type": "stream",
     "text": [
      "[Stage 53:======================================================> (46 + 1) / 47]\r"
     ]
    },
    {
     "name": "stdout",
     "output_type": "stream",
     "text": [
      "+---------+----+----+------------------+------------------+-------------------+\n",
      "|stockname|Year|Week|          WeekHigh|           WeekLow|             Spread|\n",
      "+---------+----+----+------------------+------------------+-------------------+\n",
      "|    NATL |2024|  52|             36.33|             30.55|  5.779999999999998|\n",
      "|    NBIS |2024|  52|  29.2800006866455|  25.6700000762939| 3.6100006103516016|\n",
      "|     RIG |2024|  52|              3.66|  3.40000009536743| 0.2599999046325703|\n",
      "|     DVN |2024|  50|              33.9|             33.85|0.04999999999999716|\n",
      "|     TSM |2024|  52|          221.1243|             198.6|  22.52430000000001|\n",
      "|    SMTC |2024|  52|             68.23|  62.0200004577637|  6.209999542236304|\n",
      "|    PATH |2024|  52|             13.62|  12.7349996566772| 0.8850003433227993|\n",
      "|     KHC |2024|  52|  30.8199996948242|  30.2549991607666| 0.5650005340575994|\n",
      "|     BTG |2024|  51|              2.72|              2.43|0.29000000000000004|\n",
      "|     HMC |2024|  51|             25.75|             23.43| 2.3200000000000003|\n",
      "|      IQ |2024|  50|            2.2985|              2.26|0.03850000000000042|\n",
      "|      KHC|2025|   2|  30.8799991607666|             28.51|    2.3699991607666|\n",
      "|       BA|2024|   1|          197.7372|170.82000732421875|  26.91719267578125|\n",
      "|     MARA|2024|   1|             18.27|16.639999389648438|  1.630000610351562|\n",
      "|      GDS|2024|  52|  22.5249996185303|             19.01| 3.5149996185302967|\n",
      "|    ACHR |2024|  50|              8.44|              8.38|0.05999999999999872|\n",
      "|     IREN|2025|   1|11.619999885559082|              9.79| 1.8299998855590829|\n",
      "|      NKE|2024|  51|              86.2|             71.06|              15.14|\n",
      "|     LMND|2024|  51| 46.93000030517578|             36.33| 10.600000305175783|\n",
      "|     NXE |2024|  52|              7.28|  6.71990013122559| 0.5600998687744099|\n",
      "+---------+----+----+------------------+------------------+-------------------+\n",
      "only showing top 20 rows\n",
      "\n"
     ]
    },
    {
     "name": "stderr",
     "output_type": "stream",
     "text": [
      "                                                                                \r"
     ]
    }
   ],
   "source": [
    "weekly.withColumn(\n",
    "    \"Spread\", weekly['WeekHigh'] - weekly['WeekLow']\n",
    ").show()"
   ]
  },
  {
   "cell_type": "markdown",
   "metadata": {},
   "source": [
    "# The End"
   ]
  }
 ],
 "metadata": {
  "kernelspec": {
   "display_name": "sparkenv",
   "language": "python",
   "name": "python3"
  },
  "language_info": {
   "codemirror_mode": {
    "name": "ipython",
    "version": 3
   },
   "file_extension": ".py",
   "mimetype": "text/x-python",
   "name": "python",
   "nbconvert_exporter": "python",
   "pygments_lexer": "ipython3",
   "version": "3.12.3"
  }
 },
 "nbformat": 4,
 "nbformat_minor": 2
}

{
 "cells": [
  {
   "cell_type": "markdown",
   "metadata": {},
   "source": [
    "#### Imports"
   ]
  },
  {
   "cell_type": "code",
   "execution_count": 2,
   "metadata": {},
   "outputs": [],
   "source": [
    "import pyspark\n",
    "from pyspark.sql import SparkSession\n",
    "from IPython.display import display\n",
    "from pyspark.sql.functions import udf ,col , split, max, min, sum,year,month,dayofmonth,weekofyear,lag,avg,round,row_number\n",
    "from pyspark.sql.types import DateType,StringType\n",
    "from datetime import datetime\n",
    "from pyspark.sql.window import Window"
   ]
  },
  {
   "cell_type": "markdown",
   "metadata": {},
   "source": [
    "# BATCH PROCESSING"
   ]
  },
  {
   "cell_type": "markdown",
   "metadata": {},
   "source": [
    "# Basic operations"
   ]
  },
  {
   "cell_type": "code",
   "execution_count": 3,
   "metadata": {},
   "outputs": [
    {
     "name": "stderr",
     "output_type": "stream",
     "text": [
      "25/03/11 17:05:30 WARN Utils: Your hostname, ayushkhaire resolves to a loopback address: 127.0.1.1; using 192.168.107.53 instead (on interface enp1s0)\n",
      "25/03/11 17:05:30 WARN Utils: Set SPARK_LOCAL_IP if you need to bind to another address\n",
      "Setting default log level to \"WARN\".\n",
      "To adjust logging level use sc.setLogLevel(newLevel). For SparkR, use setLogLevel(newLevel).\n",
      "25/03/11 17:05:31 WARN NativeCodeLoader: Unable to load native-hadoop library for your platform... using builtin-java classes where applicable\n"
     ]
    },
    {
     "data": {
      "text/html": [
       "\n",
       "            <div>\n",
       "                <p><b>SparkSession - in-memory</b></p>\n",
       "                \n",
       "        <div>\n",
       "            <p><b>SparkContext</b></p>\n",
       "\n",
       "            <p><a href=\"http://192.168.107.53:4040\">Spark UI</a></p>\n",
       "\n",
       "            <dl>\n",
       "              <dt>Version</dt>\n",
       "                <dd><code>v3.5.3</code></dd>\n",
       "              <dt>Master</dt>\n",
       "                <dd><code>local[*]</code></dd>\n",
       "              <dt>AppName</dt>\n",
       "                <dd><code>stocksly</code></dd>\n",
       "            </dl>\n",
       "        </div>\n",
       "        \n",
       "            </div>\n",
       "        "
      ],
      "text/plain": [
       "<pyspark.sql.session.SparkSession at 0x787702ea7f80>"
      ]
     },
     "execution_count": 3,
     "metadata": {},
     "output_type": "execute_result"
    }
   ],
   "source": [
    "spark = SparkSession.builder.appName(\"stocksly\").getOrCreate()\n",
    "spark"
   ]
  },
  {
   "cell_type": "code",
   "execution_count": 4,
   "metadata": {},
   "outputs": [
    {
     "name": "stderr",
     "output_type": "stream",
     "text": [
      "                                                                                \r"
     ]
    }
   ],
   "source": [
    "stocks = spark.read.csv(\n",
    "    \"../data_sourcing/source/archive/stocks.csv\", \n",
    "    header=True, \n",
    "    inferSchema=True\n",
    ")"
   ]
  },
  {
   "cell_type": "code",
   "execution_count": 5,
   "metadata": {},
   "outputs": [
    {
     "name": "stdout",
     "output_type": "stream",
     "text": [
      "+---+----------+------------------+------------------+-----------------+-----------------+-------+-------------------+---------+\n",
      "|_c0|Unnamed: 0|               low|             close|             high|             open| volume|          timestamp|stockname|\n",
      "+---+----------+------------------+------------------+-----------------+-----------------+-------+-------------------+---------+\n",
      "|  0|         0| 37.06499862670898| 37.42499923706055|38.06999969482422|38.02999877929688|1044400|2015-01-02 14:30:00|     WSM |\n",
      "|  1|         1| 37.04999923706055|37.244998931884766|37.48500061035156|            37.25| 743200|2015-01-05 14:30:00|     WSM |\n",
      "|  2|         2|             36.75| 37.06999969482422|37.45000076293945|37.21500015258789|1776000|2015-01-06 14:30:00|     WSM |\n",
      "|  3|         3|37.310001373291016| 38.41999816894531|38.47999954223633|37.34999847412109|1719800|2015-01-07 14:30:00|     WSM |\n",
      "|  4|         4| 38.64500045776367| 38.93000030517578|39.03499984741211|38.82500076293945|1342800|2015-01-08 14:30:00|     WSM |\n",
      "+---+----------+------------------+------------------+-----------------+-----------------+-------+-------------------+---------+\n",
      "only showing top 5 rows\n",
      "\n"
     ]
    },
    {
     "name": "stderr",
     "output_type": "stream",
     "text": [
      "25/03/11 17:05:47 WARN CSVHeaderChecker: CSV header does not conform to the schema.\n",
      " Header: , Unnamed: 0, low, close, high, open, volume, timestamp, stockname\n",
      " Schema: _c0, Unnamed: 0, low, close, high, open, volume, timestamp, stockname\n",
      "Expected: _c0 but found: \n",
      "CSV file: file:///home/ayushkhaire/code/dataennginneerinng/stocksly/data_sourcing/source/archive/stocks.csv\n"
     ]
    }
   ],
   "source": [
    "stocks.show(5)"
   ]
  },
  {
   "cell_type": "code",
   "execution_count": 6,
   "metadata": {},
   "outputs": [
    {
     "name": "stdout",
     "output_type": "stream",
     "text": [
      "root\n",
      " |-- _c0: integer (nullable = true)\n",
      " |-- Unnamed: 0: integer (nullable = true)\n",
      " |-- low: double (nullable = true)\n",
      " |-- close: double (nullable = true)\n",
      " |-- high: double (nullable = true)\n",
      " |-- open: double (nullable = true)\n",
      " |-- volume: long (nullable = true)\n",
      " |-- timestamp: timestamp (nullable = true)\n",
      " |-- stockname: string (nullable = true)\n",
      "\n"
     ]
    }
   ],
   "source": [
    "stocks.printSchema()"
   ]
  },
  {
   "cell_type": "code",
   "execution_count": 7,
   "metadata": {},
   "outputs": [
    {
     "name": "stdout",
     "output_type": "stream",
     "text": [
      "+---------+\n",
      "|stockname|\n",
      "+---------+\n",
      "|     WSM |\n",
      "|     WSM |\n",
      "|     WSM |\n",
      "|     WSM |\n",
      "|     WSM |\n",
      "+---------+\n",
      "only showing top 5 rows\n",
      "\n"
     ]
    }
   ],
   "source": [
    "stocks.select(\"stockname\").show(5)"
   ]
  },
  {
   "cell_type": "code",
   "execution_count": 8,
   "metadata": {},
   "outputs": [
    {
     "name": "stdout",
     "output_type": "stream",
     "text": [
      "+---------+-----------------+------------------+\n",
      "|stockname|             open|             close|\n",
      "+---------+-----------------+------------------+\n",
      "|     WSM |38.02999877929688| 37.42499923706055|\n",
      "|     WSM |            37.25|37.244998931884766|\n",
      "|     WSM |37.21500015258789| 37.06999969482422|\n",
      "|     WSM |37.34999847412109| 38.41999816894531|\n",
      "|     WSM |38.82500076293945| 38.93000030517578|\n",
      "+---------+-----------------+------------------+\n",
      "only showing top 5 rows\n",
      "\n"
     ]
    }
   ],
   "source": [
    "stocks.select(\n",
    "    [\"stockname\",\"open\", \"close\"]\n",
    ").show(5)"
   ]
  },
  {
   "cell_type": "code",
   "execution_count": 9,
   "metadata": {},
   "outputs": [
    {
     "name": "stderr",
     "output_type": "stream",
     "text": [
      "25/03/11 17:05:48 WARN CSVHeaderChecker: CSV header does not conform to the schema.\n",
      " Header: , Unnamed: 0, low, close, high, open, volume, timestamp, stockname\n",
      " Schema: _c0, Unnamed: 0, low, close, high, open, volume, timestamp, stockname\n",
      "Expected: _c0 but found: \n",
      "CSV file: file:///home/ayushkhaire/code/dataennginneerinng/stocksly/data_sourcing/source/archive/stocks.csv\n",
      "[Stage 6:=============================>                             (2 + 2) / 4]\r"
     ]
    },
    {
     "name": "stdout",
     "output_type": "stream",
     "text": [
      "+---+----------+------------------+------------------+------------------+------------------+--------+-------------------+---------+\n",
      "|_c0|Unnamed: 0|               low|             close|              high|              open|  volume|          timestamp|stockname|\n",
      "+---+----------+------------------+------------------+------------------+------------------+--------+-------------------+---------+\n",
      "|  0|         0| 14.21733283996582|14.620667457580566|14.883333206176758|14.857999801635742|71466000|2015-01-02 14:30:00|    TSLA |\n",
      "|  1|         1|13.810667037963867|14.005999565124512| 14.43333339691162|14.303333282470703|80527500|2015-01-05 14:30:00|    TSLA |\n",
      "|  2|         2| 13.61400032043457|14.085332870483398|14.279999732971191|14.003999710083008|93928500|2015-01-06 14:30:00|    TSLA |\n",
      "|  3|         3|13.985333442687988|14.063332557678224|  14.3186674118042|14.223333358764648|44526000|2015-01-07 14:30:00|    TSLA |\n",
      "|  4|         4|14.000666618347168|14.041333198547363| 14.25333309173584|14.187333106994627|51637500|2015-01-08 14:30:00|    TSLA |\n",
      "+---+----------+------------------+------------------+------------------+------------------+--------+-------------------+---------+\n",
      "only showing top 5 rows\n",
      "\n"
     ]
    },
    {
     "name": "stderr",
     "output_type": "stream",
     "text": [
      "                                                                                \r"
     ]
    }
   ],
   "source": [
    "stocks.filter(\n",
    "    stocks.stockname == \"TSLA \"\n",
    ").show(5)"
   ]
  },
  {
   "cell_type": "code",
   "execution_count": 10,
   "metadata": {},
   "outputs": [
    {
     "name": "stderr",
     "output_type": "stream",
     "text": [
      "25/03/11 17:05:56 WARN CSVHeaderChecker: CSV header does not conform to the schema.\n",
      " Header: , Unnamed: 0, low, close, high, open, volume, timestamp, stockname\n",
      " Schema: _c0, Unnamed: 0, low, close, high, open, volume, timestamp, stockname\n",
      "Expected: _c0 but found: \n",
      "CSV file: file:///home/ayushkhaire/code/dataennginneerinng/stocksly/data_sourcing/source/archive/stocks.csv\n",
      "[Stage 8:=============================>                             (2 + 2) / 4]\r"
     ]
    },
    {
     "name": "stdout",
     "output_type": "stream",
     "text": [
      "+---+----------+------------------+------------------+-----------------+------------------+--------+-------------------+---------+\n",
      "|_c0|Unnamed: 0|               low|             close|             high|              open|  volume|          timestamp|stockname|\n",
      "+---+----------+------------------+------------------+-----------------+------------------+--------+-------------------+---------+\n",
      "|  4|         4|14.000666618347168|14.041333198547363|14.25333309173584|14.187333106994627|51637500|2015-01-08 14:30:00|    TSLA |\n",
      "+---+----------+------------------+------------------+-----------------+------------------+--------+-------------------+---------+\n",
      "\n"
     ]
    },
    {
     "name": "stderr",
     "output_type": "stream",
     "text": [
      "                                                                                \r"
     ]
    }
   ],
   "source": [
    "stocks.filter(\n",
    "    (\n",
    "        (stocks.stockname == \"TSLA \") |\n",
    "        (stocks.stockname == \"PLTR \")\n",
    "    ) & (\n",
    "    stocks.timestamp == \"2015-01-08 14:30:00\")\n",
    ").show()"
   ]
  },
  {
   "cell_type": "code",
   "execution_count": 11,
   "metadata": {},
   "outputs": [
    {
     "name": "stderr",
     "output_type": "stream",
     "text": [
      "25/03/11 17:06:05 WARN CSVHeaderChecker: CSV header does not conform to the schema.\n",
      " Header: , Unnamed: 0, low, close, high, open, volume, timestamp, stockname\n",
      " Schema: _c0, Unnamed: 0, low, close, high, open, volume, timestamp, stockname\n",
      "Expected: _c0 but found: \n",
      "CSV file: file:///home/ayushkhaire/code/dataennginneerinng/stocksly/data_sourcing/source/archive/stocks.csv\n",
      "[Stage 10:==============>                                           (1 + 3) / 4]\r"
     ]
    },
    {
     "name": "stdout",
     "output_type": "stream",
     "text": [
      "+---+----------+------------------+------------------+-----------------+------------------+--------+-------------------+---------+\n",
      "|_c0|Unnamed: 0|               low|             close|             high|              open|  volume|          timestamp|stockname|\n",
      "+---+----------+------------------+------------------+-----------------+------------------+--------+-------------------+---------+\n",
      "|  4|         4|14.000666618347168|14.041333198547363|14.25333309173584|14.187333106994627|51637500|2015-01-08 14:30:00|    TSLA |\n",
      "+---+----------+------------------+------------------+-----------------+------------------+--------+-------------------+---------+\n",
      "\n"
     ]
    },
    {
     "name": "stderr",
     "output_type": "stream",
     "text": [
      "                                                                                \r"
     ]
    }
   ],
   "source": [
    "stocks.filter(\n",
    "    stocks.stockname.isin(\"TSLA \", \"PLTR \") &\n",
    "    (stocks.timestamp == \"2015-01-08 14:30:00\")\n",
    ").show()"
   ]
  },
  {
   "cell_type": "code",
   "execution_count": 12,
   "metadata": {},
   "outputs": [
    {
     "name": "stdout",
     "output_type": "stream",
     "text": [
      "+---+----------+------------------+------------------+-----------------+-----------------+-------+-------------------+---------+----------+--------+\n",
      "|_c0|Unnamed: 0|               low|             close|             high|             open| volume|          timestamp|stockname|      date|    time|\n",
      "+---+----------+------------------+------------------+-----------------+-----------------+-------+-------------------+---------+----------+--------+\n",
      "|  0|         0| 37.06499862670898| 37.42499923706055|38.06999969482422|38.02999877929688|1044400|2015-01-02 14:30:00|     WSM |2015-01-02|14:30:00|\n",
      "|  1|         1| 37.04999923706055|37.244998931884766|37.48500061035156|            37.25| 743200|2015-01-05 14:30:00|     WSM |2015-01-05|14:30:00|\n",
      "|  2|         2|             36.75| 37.06999969482422|37.45000076293945|37.21500015258789|1776000|2015-01-06 14:30:00|     WSM |2015-01-06|14:30:00|\n",
      "|  3|         3|37.310001373291016| 38.41999816894531|38.47999954223633|37.34999847412109|1719800|2015-01-07 14:30:00|     WSM |2015-01-07|14:30:00|\n",
      "|  4|         4| 38.64500045776367| 38.93000030517578|39.03499984741211|38.82500076293945|1342800|2015-01-08 14:30:00|     WSM |2015-01-08|14:30:00|\n",
      "+---+----------+------------------+------------------+-----------------+-----------------+-------+-------------------+---------+----------+--------+\n",
      "only showing top 5 rows\n",
      "\n"
     ]
    },
    {
     "name": "stderr",
     "output_type": "stream",
     "text": [
      "25/03/11 17:06:13 WARN CSVHeaderChecker: CSV header does not conform to the schema.\n",
      " Header: , Unnamed: 0, low, close, high, open, volume, timestamp, stockname\n",
      " Schema: _c0, Unnamed: 0, low, close, high, open, volume, timestamp, stockname\n",
      "Expected: _c0 but found: \n",
      "CSV file: file:///home/ayushkhaire/code/dataennginneerinng/stocksly/data_sourcing/source/archive/stocks.csv\n"
     ]
    }
   ],
   "source": [
    "stocks = stocks.withColumn(\n",
    "    \"date\", split(\n",
    "        col(\"timestamp\"), \n",
    "    \" \")[0]\n",
    "    )\n",
    "stocks = stocks.withColumn(\n",
    "    \"time\", split(\n",
    "        col(\"timestamp\"), \n",
    "    \" \")[1]\n",
    "    )\n",
    "stocks.show(5)"
   ]
  },
  {
   "cell_type": "code",
   "execution_count": 13,
   "metadata": {},
   "outputs": [],
   "source": [
    "date_parser = udf(\n",
    "    lambda date : datetime.strptime(date, \"%Y-%m-%d\"),DateType()\n",
    ")"
   ]
  },
  {
   "cell_type": "code",
   "execution_count": 14,
   "metadata": {},
   "outputs": [
    {
     "name": "stderr",
     "output_type": "stream",
     "text": [
      "25/03/11 17:06:14 WARN CSVHeaderChecker: CSV header does not conform to the schema.\n",
      " Header: , Unnamed: 0, low, close, high, open, volume, timestamp, stockname\n",
      " Schema: _c0, Unnamed: 0, low, close, high, open, volume, timestamp, stockname\n",
      "Expected: _c0 but found: \n",
      "CSV file: file:///home/ayushkhaire/code/dataennginneerinng/stocksly/data_sourcing/source/archive/stocks.csv\n",
      "                                                                                \r"
     ]
    },
    {
     "name": "stdout",
     "output_type": "stream",
     "text": [
      "+---+----------+------------------+------------------+-----------------+-----------------+-------+-------------------+---------+----------+--------+----------+\n",
      "|_c0|Unnamed: 0|               low|             close|             high|             open| volume|          timestamp|stockname|      date|    time|  new_date|\n",
      "+---+----------+------------------+------------------+-----------------+-----------------+-------+-------------------+---------+----------+--------+----------+\n",
      "|  0|         0| 37.06499862670898| 37.42499923706055|38.06999969482422|38.02999877929688|1044400|2015-01-02 14:30:00|     WSM |2015-01-02|14:30:00|2015-01-02|\n",
      "|  1|         1| 37.04999923706055|37.244998931884766|37.48500061035156|            37.25| 743200|2015-01-05 14:30:00|     WSM |2015-01-05|14:30:00|2015-01-05|\n",
      "|  2|         2|             36.75| 37.06999969482422|37.45000076293945|37.21500015258789|1776000|2015-01-06 14:30:00|     WSM |2015-01-06|14:30:00|2015-01-06|\n",
      "|  3|         3|37.310001373291016| 38.41999816894531|38.47999954223633|37.34999847412109|1719800|2015-01-07 14:30:00|     WSM |2015-01-07|14:30:00|2015-01-07|\n",
      "|  4|         4| 38.64500045776367| 38.93000030517578|39.03499984741211|38.82500076293945|1342800|2015-01-08 14:30:00|     WSM |2015-01-08|14:30:00|2015-01-08|\n",
      "+---+----------+------------------+------------------+-----------------+-----------------+-------+-------------------+---------+----------+--------+----------+\n",
      "only showing top 5 rows\n",
      "\n"
     ]
    }
   ],
   "source": [
    "stocks = stocks.withColumn(\n",
    "    \"new_date\",\n",
    "    date_parser(stocks.date)  \n",
    ")\n",
    "\n",
    "stocks.show(5)"
   ]
  },
  {
   "cell_type": "code",
   "execution_count": 15,
   "metadata": {},
   "outputs": [
    {
     "name": "stdout",
     "output_type": "stream",
     "text": [
      "+---+----------+------------------+------------------+-----------------+-----------------+-------+-------------------+---------+----------+--------+----------+\n",
      "|_c0|Unnamed: 0|               low|             close|             high|             open| volume|          timestamp|stockname|      date|    time|  new_date|\n",
      "+---+----------+------------------+------------------+-----------------+-----------------+-------+-------------------+---------+----------+--------+----------+\n",
      "|  0|         0| 37.06499862670898| 37.42499923706055|38.06999969482422|38.02999877929688|1044400|2015-01-02 14:30:00|     WSM |2015-01-02|14:30:00|2015-01-02|\n",
      "|  1|         1| 37.04999923706055|37.244998931884766|37.48500061035156|            37.25| 743200|2015-01-05 14:30:00|     WSM |2015-01-05|14:30:00|2015-01-05|\n",
      "|  2|         2|             36.75| 37.06999969482422|37.45000076293945|37.21500015258789|1776000|2015-01-06 14:30:00|     WSM |2015-01-06|14:30:00|2015-01-06|\n",
      "|  3|         3|37.310001373291016| 38.41999816894531|38.47999954223633|37.34999847412109|1719800|2015-01-07 14:30:00|     WSM |2015-01-07|14:30:00|2015-01-07|\n",
      "|  4|         4| 38.64500045776367| 38.93000030517578|39.03499984741211|38.82500076293945|1342800|2015-01-08 14:30:00|     WSM |2015-01-08|14:30:00|2015-01-08|\n",
      "+---+----------+------------------+------------------+-----------------+-----------------+-------+-------------------+---------+----------+--------+----------+\n",
      "only showing top 5 rows\n",
      "\n"
     ]
    },
    {
     "name": "stderr",
     "output_type": "stream",
     "text": [
      "25/03/11 17:06:15 WARN CSVHeaderChecker: CSV header does not conform to the schema.\n",
      " Header: , Unnamed: 0, low, close, high, open, volume, timestamp, stockname\n",
      " Schema: _c0, Unnamed: 0, low, close, high, open, volume, timestamp, stockname\n",
      "Expected: _c0 but found: \n",
      "CSV file: file:///home/ayushkhaire/code/dataennginneerinng/stocksly/data_sourcing/source/archive/stocks.csv\n"
     ]
    }
   ],
   "source": [
    "stocks.show(5)"
   ]
  },
  {
   "cell_type": "code",
   "execution_count": 16,
   "metadata": {},
   "outputs": [],
   "source": [
    "def upper_turner(stockname):\n",
    "    return stockname.upper()\n",
    "\n",
    "upper_turner = udf(\n",
    "    upper_turner, StringType()\n",
    ")"
   ]
  },
  {
   "cell_type": "code",
   "execution_count": 17,
   "metadata": {},
   "outputs": [
    {
     "name": "stdout",
     "output_type": "stream",
     "text": [
      "+---+----------+------------------+------------------+-----------------+-----------------+-------+-------------------+---------+----------+--------+----------+\n",
      "|_c0|Unnamed: 0|               low|             close|             high|             open| volume|          timestamp|stockname|      date|    time|  new_date|\n",
      "+---+----------+------------------+------------------+-----------------+-----------------+-------+-------------------+---------+----------+--------+----------+\n",
      "|  0|         0| 37.06499862670898| 37.42499923706055|38.06999969482422|38.02999877929688|1044400|2015-01-02 14:30:00|     WSM |2015-01-02|14:30:00|2015-01-02|\n",
      "|  1|         1| 37.04999923706055|37.244998931884766|37.48500061035156|            37.25| 743200|2015-01-05 14:30:00|     WSM |2015-01-05|14:30:00|2015-01-05|\n",
      "|  2|         2|             36.75| 37.06999969482422|37.45000076293945|37.21500015258789|1776000|2015-01-06 14:30:00|     WSM |2015-01-06|14:30:00|2015-01-06|\n",
      "|  3|         3|37.310001373291016| 38.41999816894531|38.47999954223633|37.34999847412109|1719800|2015-01-07 14:30:00|     WSM |2015-01-07|14:30:00|2015-01-07|\n",
      "|  4|         4| 38.64500045776367| 38.93000030517578|39.03499984741211|38.82500076293945|1342800|2015-01-08 14:30:00|     WSM |2015-01-08|14:30:00|2015-01-08|\n",
      "+---+----------+------------------+------------------+-----------------+-----------------+-------+-------------------+---------+----------+--------+----------+\n",
      "only showing top 5 rows\n",
      "\n"
     ]
    },
    {
     "name": "stderr",
     "output_type": "stream",
     "text": [
      "25/03/11 17:06:15 WARN CSVHeaderChecker: CSV header does not conform to the schema.\n",
      " Header: , Unnamed: 0, low, close, high, open, volume, timestamp, stockname\n",
      " Schema: _c0, Unnamed: 0, low, close, high, open, volume, timestamp, stockname\n",
      "Expected: _c0 but found: \n",
      "CSV file: file:///home/ayushkhaire/code/dataennginneerinng/stocksly/data_sourcing/source/archive/stocks.csv\n"
     ]
    }
   ],
   "source": [
    "stocks = stocks.withColumn(\n",
    "    \"stockname\",upper_turner(stocks.stockname)\n",
    ")\n",
    "stocks.show(5)"
   ]
  },
  {
   "cell_type": "code",
   "execution_count": 18,
   "metadata": {},
   "outputs": [
    {
     "name": "stdout",
     "output_type": "stream",
     "text": [
      "root\n",
      " |-- _c0: integer (nullable = true)\n",
      " |-- Unnamed: 0: integer (nullable = true)\n",
      " |-- low: double (nullable = true)\n",
      " |-- close: double (nullable = true)\n",
      " |-- high: double (nullable = true)\n",
      " |-- open: double (nullable = true)\n",
      " |-- volume: long (nullable = true)\n",
      " |-- timestamp: timestamp (nullable = true)\n",
      " |-- stockname: string (nullable = true)\n",
      " |-- date: string (nullable = true)\n",
      " |-- time: string (nullable = true)\n",
      " |-- new_date: date (nullable = true)\n",
      "\n"
     ]
    }
   ],
   "source": [
    "stocks.printSchema()"
   ]
  },
  {
   "cell_type": "code",
   "execution_count": 19,
   "metadata": {},
   "outputs": [],
   "source": [
    "new_stocks = stocks.select(\n",
    "    \"stockname\",\n",
    "    \"open\",\n",
    "    \"high\",\n",
    "    \"low\",\n",
    "    \"close\",\n",
    "    \"volume\",\n",
    "    \"new_date\",\n",
    "    \"time\"\n",
    ")"
   ]
  },
  {
   "cell_type": "code",
   "execution_count": 20,
   "metadata": {},
   "outputs": [
    {
     "name": "stdout",
     "output_type": "stream",
     "text": [
      "+---------+-----------------+-----------------+------------------+------------------+-------+----------+--------+\n",
      "|stockname|             open|             high|               low|             close| volume|  new_date|    time|\n",
      "+---------+-----------------+-----------------+------------------+------------------+-------+----------+--------+\n",
      "|     WSM |38.02999877929688|38.06999969482422| 37.06499862670898| 37.42499923706055|1044400|2015-01-02|14:30:00|\n",
      "|     WSM |            37.25|37.48500061035156| 37.04999923706055|37.244998931884766| 743200|2015-01-05|14:30:00|\n",
      "|     WSM |37.21500015258789|37.45000076293945|             36.75| 37.06999969482422|1776000|2015-01-06|14:30:00|\n",
      "|     WSM |37.34999847412109|38.47999954223633|37.310001373291016| 38.41999816894531|1719800|2015-01-07|14:30:00|\n",
      "|     WSM |38.82500076293945|39.03499984741211| 38.64500045776367| 38.93000030517578|1342800|2015-01-08|14:30:00|\n",
      "+---------+-----------------+-----------------+------------------+------------------+-------+----------+--------+\n",
      "only showing top 5 rows\n",
      "\n"
     ]
    }
   ],
   "source": [
    "new_stocks.show(5)"
   ]
  },
  {
   "cell_type": "code",
   "execution_count": 21,
   "metadata": {},
   "outputs": [
    {
     "name": "stderr",
     "output_type": "stream",
     "text": [
      "25/03/11 17:06:16 WARN SparkStringUtils: Truncated the string representation of a plan since it was too large. This behavior can be adjusted by setting 'spark.sql.debug.maxToStringFields'.\n",
      "[Stage 16:==============================================>           (4 + 1) / 5]\r"
     ]
    },
    {
     "name": "stdout",
     "output_type": "stream",
     "text": [
      "+-------+---------+--------------------+--------------------+--------------------+--------------------+--------------------+--------+\n",
      "|summary|stockname|                open|                high|                 low|               close|              volume|    time|\n",
      "+-------+---------+--------------------+--------------------+--------------------+--------------------+--------------------+--------+\n",
      "|  count|  4881252|             4881252|             4881252|             4881252|             4881252|             4881252| 4881252|\n",
      "|   mean|     NULL|   819386.4823657873|    886035.285449156|   738057.6887514308|   806229.7104475481|2.7874788287357833E7|    NULL|\n",
      "| stddev|     NULL| 9.206054466304307E7|1.0009087405909203E8| 8.228124841166525E7| 9.069951404786308E7| 8.950436302490437E8|    NULL|\n",
      "|    min|       A |3.999999989900971E-6|3.999999989900971E-6|3.999999989900971E-6|3.999999989900971E-6|                   0|00:00:00|\n",
      "|    max|     ZWS |     3.2500000768E10|     3.3500000256E10|     2.8999999488E10|      3.224999936E10|        350967941479|19:42:00|\n",
      "+-------+---------+--------------------+--------------------+--------------------+--------------------+--------------------+--------+\n",
      "\n"
     ]
    },
    {
     "name": "stderr",
     "output_type": "stream",
     "text": [
      "                                                                                \r"
     ]
    }
   ],
   "source": [
    "new_stocks.describe().show()"
   ]
  },
  {
   "cell_type": "markdown",
   "metadata": {},
   "source": [
    "# Basic stock analysis"
   ]
  },
  {
   "cell_type": "code",
   "execution_count": 22,
   "metadata": {},
   "outputs": [
    {
     "name": "stderr",
     "output_type": "stream",
     "text": [
      "[Stage 19:==============================================>           (4 + 1) / 5]\r"
     ]
    },
    {
     "name": "stdout",
     "output_type": "stream",
     "text": [
      "+---------+------------------+\n",
      "|stockname|         max(Open)|\n",
      "+---------+------------------+\n",
      "|     ROP | 585.2000122070312|\n",
      "|     WSM | 218.4499969482422|\n",
      "|      GS | 669.0800170898438|\n",
      "|     MAN | 135.4600067138672|\n",
      "|    GSHD |177.00999450683594|\n",
      "|    GKOS |160.39999389648438|\n",
      "|     BHP | 72.72078704833984|\n",
      "|     PFS |28.950000762939453|\n",
      "|      ZM |             572.5|\n",
      "|     SUZ |14.140000343322754|\n",
      "|    GATX |            167.25|\n",
      "|    ENOV | 93.16695404052734|\n",
      "|     AFL |115.44000244140624|\n",
      "|     NEM | 85.55000305175781|\n",
      "|     FNF | 63.77999877929688|\n",
      "+---------+------------------+\n",
      "only showing top 15 rows\n",
      "\n"
     ]
    },
    {
     "name": "stderr",
     "output_type": "stream",
     "text": [
      "                                                                                \r"
     ]
    }
   ],
   "source": [
    "new_stocks.groupBy(\"stockname\").max(\"Open\").show(15)"
   ]
  },
  {
   "cell_type": "code",
   "execution_count": 23,
   "metadata": {},
   "outputs": [
    {
     "name": "stderr",
     "output_type": "stream",
     "text": [
      "[Stage 22:==================================>                       (3 + 2) / 5]\r"
     ]
    },
    {
     "name": "stdout",
     "output_type": "stream",
     "text": [
      "+---------+------------------+\n",
      "|stockname|     MaxStockPrice|\n",
      "+---------+------------------+\n",
      "|     ROP | 585.2000122070312|\n",
      "|     WSM | 218.4499969482422|\n",
      "|      GS | 669.0800170898438|\n",
      "|     MAN | 135.4600067138672|\n",
      "|    GSHD |177.00999450683594|\n",
      "|    GKOS |160.39999389648438|\n",
      "|     BHP | 72.72078704833984|\n",
      "|     PFS |28.950000762939453|\n",
      "|      ZM |             572.5|\n",
      "|     SUZ |14.140000343322754|\n",
      "|    GATX |            167.25|\n",
      "|    ENOV | 93.16695404052734|\n",
      "|     AFL |115.44000244140624|\n",
      "|     NEM | 85.55000305175781|\n",
      "|     FNF | 63.77999877929688|\n",
      "+---------+------------------+\n",
      "only showing top 15 rows\n",
      "\n"
     ]
    },
    {
     "name": "stderr",
     "output_type": "stream",
     "text": [
      "                                                                                \r"
     ]
    }
   ],
   "source": [
    "new_stocks.groupBy(\"stockname\").max(\"Open\").withColumnRenamed(\"max(Open)\", \"MaxStockPrice\").show(15)"
   ]
  },
  {
   "cell_type": "code",
   "execution_count": 24,
   "metadata": {},
   "outputs": [
    {
     "name": "stderr",
     "output_type": "stream",
     "text": [
      "[Stage 25:==============================================>           (4 + 1) / 5]\r"
     ]
    },
    {
     "name": "stdout",
     "output_type": "stream",
     "text": [
      "+---------+------------------+\n",
      "|stockname|     MaxStockPrice|\n",
      "+---------+------------------+\n",
      "|     ROP | 585.2000122070312|\n",
      "|     WSM | 218.4499969482422|\n",
      "|      GS | 669.0800170898438|\n",
      "|     MAN | 135.4600067138672|\n",
      "|    GSHD |177.00999450683594|\n",
      "|    GKOS |160.39999389648438|\n",
      "|     BHP | 72.72078704833984|\n",
      "|     PFS |28.950000762939453|\n",
      "|      ZM |             572.5|\n",
      "|     SUZ |14.140000343322754|\n",
      "|    GATX |            167.25|\n",
      "|    ENOV | 93.16695404052734|\n",
      "|     AFL |115.44000244140624|\n",
      "|     NEM | 85.55000305175781|\n",
      "|     FNF | 63.77999877929688|\n",
      "+---------+------------------+\n",
      "only showing top 15 rows\n",
      "\n"
     ]
    },
    {
     "name": "stderr",
     "output_type": "stream",
     "text": [
      "                                                                                \r"
     ]
    }
   ],
   "source": [
    "new_stocks.groupBy(\"stockname\").agg(max(\"Open\").alias(\"MaxStockPrice\")).show(15)"
   ]
  },
  {
   "cell_type": "code",
   "execution_count": 25,
   "metadata": {},
   "outputs": [
    {
     "name": "stderr",
     "output_type": "stream",
     "text": [
      "[Stage 28:==================================>                       (3 + 2) / 5]\r"
     ]
    },
    {
     "name": "stdout",
     "output_type": "stream",
     "text": [
      "+---------+------------------+-----------+\n",
      "|stockname|     MaxStockPrice|TotalVolume|\n",
      "+---------+------------------+-----------+\n",
      "|     ROP | 585.2000122070312| 1265775000|\n",
      "|     WSM | 218.4499969482422| 6790355900|\n",
      "|      GS | 669.0800170898438| 7454028500|\n",
      "|     MAN | 135.4600067138672| 1408781400|\n",
      "|    GSHD |177.00999450683594|  384962900|\n",
      "|    GKOS |160.39999389648438| 1251221700|\n",
      "|     BHP | 72.72078704833984| 8068724943|\n",
      "|     PFS |28.950000762939453|  850348800|\n",
      "|      ZM |             572.5| 7172002600|\n",
      "|     SUZ |14.140000343322754| 1610642200|\n",
      "|    GATX |            167.25|  642718300|\n",
      "|    ENOV | 93.16695404052734| 1635139281|\n",
      "|     AFL |115.44000244140624| 8501723600|\n",
      "|     NEM | 85.55000305175781|20342713000|\n",
      "|     FNF | 63.77999877929688| 4393819967|\n",
      "+---------+------------------+-----------+\n",
      "only showing top 15 rows\n",
      "\n"
     ]
    },
    {
     "name": "stderr",
     "output_type": "stream",
     "text": [
      "                                                                                \r"
     ]
    }
   ],
   "source": [
    "new_stocks.groupBy(\"stockname\").agg(\n",
    "    max(\"open\").alias(\"MaxStockPrice\"),\n",
    "    sum(\"volume\").alias(\"TotalVolume\")\n",
    ").show(15)"
   ]
  },
  {
   "cell_type": "code",
   "execution_count": 26,
   "metadata": {},
   "outputs": [],
   "source": [
    "new_stocks = (\n",
    "    new_stocks.withColumn(\"Year\", year(new_stocks.new_date))\n",
    "    .withColumn(\"Month\", month(new_stocks.new_date))\n",
    "    .withColumn(\"Day\", dayofmonth(new_stocks.new_date))\n",
    "    .withColumn(\"Week\", weekofyear(new_stocks.new_date))\n",
    ")"
   ]
  },
  {
   "cell_type": "code",
   "execution_count": 27,
   "metadata": {},
   "outputs": [
    {
     "name": "stdout",
     "output_type": "stream",
     "text": [
      "+---------+-----------------+-----------------+------------------+------------------+-------+----------+--------+----+-----+---+----+\n",
      "|stockname|             open|             high|               low|             close| volume|  new_date|    time|Year|Month|Day|Week|\n",
      "+---------+-----------------+-----------------+------------------+------------------+-------+----------+--------+----+-----+---+----+\n",
      "|     WSM |38.02999877929688|38.06999969482422| 37.06499862670898| 37.42499923706055|1044400|2015-01-02|14:30:00|2015|    1|  2|   1|\n",
      "|     WSM |            37.25|37.48500061035156| 37.04999923706055|37.244998931884766| 743200|2015-01-05|14:30:00|2015|    1|  5|   2|\n",
      "|     WSM |37.21500015258789|37.45000076293945|             36.75| 37.06999969482422|1776000|2015-01-06|14:30:00|2015|    1|  6|   2|\n",
      "|     WSM |37.34999847412109|38.47999954223633|37.310001373291016| 38.41999816894531|1719800|2015-01-07|14:30:00|2015|    1|  7|   2|\n",
      "|     WSM |38.82500076293945|39.03499984741211| 38.64500045776367| 38.93000030517578|1342800|2015-01-08|14:30:00|2015|    1|  8|   2|\n",
      "+---------+-----------------+-----------------+------------------+------------------+-------+----------+--------+----+-----+---+----+\n",
      "only showing top 5 rows\n",
      "\n"
     ]
    }
   ],
   "source": [
    "new_stocks.show(5)"
   ]
  },
  {
   "cell_type": "code",
   "execution_count": 28,
   "metadata": {},
   "outputs": [
    {
     "name": "stderr",
     "output_type": "stream",
     "text": [
      "[Stage 32:==============================================>           (4 + 1) / 5]\r"
     ]
    },
    {
     "name": "stdout",
     "output_type": "stream",
     "text": [
      "+---------+----+------------------+------------------+\n",
      "|stockname|Year|        YearlyHigh|         YearlyLow|\n",
      "+---------+----+------------------+------------------+\n",
      "|     WSM |2021|110.99500274658205|50.790000915527344|\n",
      "|     ADP |2020| 181.3600006103516|108.52999877929688|\n",
      "|    KLIC |2023|  59.7599983215332| 41.33000183105469|\n",
      "|    CROX |2015|  15.9399995803833| 9.329999923706056|\n",
      "|     CNC |2021| 84.95999908447266|              57.5|\n",
      "+---------+----+------------------+------------------+\n",
      "only showing top 5 rows\n",
      "\n"
     ]
    },
    {
     "name": "stderr",
     "output_type": "stream",
     "text": [
      "                                                                                \r"
     ]
    }
   ],
   "source": [
    "yearly = new_stocks.groupBy(\n",
    "    ['stockname', 'Year']\n",
    ").agg(\n",
    "    max(\"open\").alias(\"YearlyHigh\"), \n",
    "    min(\"open\").alias(\"YearlyLow\")\n",
    ")\n",
    "yearly.show(5)"
   ]
  },
  {
   "cell_type": "code",
   "execution_count": 29,
   "metadata": {},
   "outputs": [
    {
     "name": "stderr",
     "output_type": "stream",
     "text": [
      "[Stage 35:==============================================>           (4 + 1) / 5]\r"
     ]
    },
    {
     "name": "stdout",
     "output_type": "stream",
     "text": [
      "+---------+----+-----+-----------------+------------------+\n",
      "|stockname|year|month|      MonthlyHigh|        MonthlyLow|\n",
      "+---------+----+-----+-----------------+------------------+\n",
      "|    GMED |2022|   11|72.05000305175781|61.790000915527344|\n",
      "|     ALK |2015|    8|81.55999755859375| 70.02999877929688|\n",
      "|     ALK |2021|    9|61.63999938964844|56.130001068115234|\n",
      "|     ADP |2016|    6|89.73999786376953| 85.94000244140625|\n",
      "|     PBH |2019|    4|30.11000061035156|27.739999771118164|\n",
      "+---------+----+-----+-----------------+------------------+\n",
      "only showing top 5 rows\n",
      "\n"
     ]
    },
    {
     "name": "stderr",
     "output_type": "stream",
     "text": [
      "                                                                                \r"
     ]
    }
   ],
   "source": [
    "monthly = new_stocks.groupBy(\n",
    "    [\"stockname\", \"year\", \"month\"]  # Ensure lowercase if needed\n",
    ").agg(\n",
    "    max(\"Open\").alias(\"MonthlyHigh\"), \n",
    "    min(\"Open\").alias(\"MonthlyLow\")\n",
    ")\n",
    "monthly.show(5)"
   ]
  },
  {
   "cell_type": "code",
   "execution_count": 30,
   "metadata": {},
   "outputs": [
    {
     "name": "stderr",
     "output_type": "stream",
     "text": [
      "[Stage 38:==================================>                       (3 + 2) / 5]\r"
     ]
    },
    {
     "name": "stdout",
     "output_type": "stream",
     "text": [
      "+---------+----+----+------------------+------------------+\n",
      "|stockname|Year|Week|          WeekHigh|           WeekLow|\n",
      "+---------+----+----+------------------+------------------+\n",
      "|     WSM |2019|  17|28.700000762939453|27.864999771118164|\n",
      "|     WSM |2020|  40|45.900001525878906| 43.92499923706055|\n",
      "|     PNR |2017|  40|47.011417388916016|    45.60107421875|\n",
      "|     PNR |2019|  35|  36.2599983215332|34.630001068115234|\n",
      "|     PNR |2021|  22| 70.70999908447266|  68.0199966430664|\n",
      "+---------+----+----+------------------+------------------+\n",
      "only showing top 5 rows\n",
      "\n"
     ]
    },
    {
     "name": "stderr",
     "output_type": "stream",
     "text": [
      "                                                                                \r"
     ]
    }
   ],
   "source": [
    "weekly = new_stocks.groupBy(\n",
    "    ['stockname', 'Year', 'Week']\n",
    ").agg(\n",
    "    max(\"Open\").alias(\"WeekHigh\"), min(\"Open\").alias(\"WeekLow\")\n",
    ")\n",
    "weekly.show(5)"
   ]
  },
  {
   "cell_type": "code",
   "execution_count": 31,
   "metadata": {},
   "outputs": [
    {
     "name": "stderr",
     "output_type": "stream",
     "text": [
      "[Stage 41:==============================================>           (4 + 1) / 5]\r"
     ]
    },
    {
     "name": "stdout",
     "output_type": "stream",
     "text": [
      "+---------+----+----+------------------+------------------+------------------+\n",
      "|stockname|Year|Week|          WeekHigh|           WeekLow|            Spread|\n",
      "+---------+----+----+------------------+------------------+------------------+\n",
      "|     WSM |2019|  17|28.700000762939453|27.864999771118164|0.8350009918212891|\n",
      "|     WSM |2020|  40|45.900001525878906| 43.92499923706055|1.9750022888183594|\n",
      "|     PNR |2017|  40|47.011417388916016|    45.60107421875|1.4103431701660156|\n",
      "|     PNR |2019|  35|  36.2599983215332|34.630001068115234|1.6299972534179688|\n",
      "|     PNR |2021|  22| 70.70999908447266|  68.0199966430664|  2.69000244140625|\n",
      "+---------+----+----+------------------+------------------+------------------+\n",
      "only showing top 5 rows\n",
      "\n"
     ]
    },
    {
     "name": "stderr",
     "output_type": "stream",
     "text": [
      "                                                                                \r"
     ]
    }
   ],
   "source": [
    "weekly = weekly.withColumn(\n",
    "    \"Spread\", weekly['WeekHigh'] - weekly['WeekLow']\n",
    ")\n",
    "weekly.show(5)"
   ]
  },
  {
   "cell_type": "markdown",
   "metadata": {},
   "source": [
    "# Joins"
   ]
  },
  {
   "cell_type": "code",
   "execution_count": 32,
   "metadata": {},
   "outputs": [],
   "source": [
    "historic_stocks = new_stocks.join(\n",
    "    yearly, \n",
    "    (\n",
    "        new_stocks.stockname==yearly.stockname\n",
    "    ) & (\n",
    "        new_stocks.Year == yearly.Year\n",
    "        ),\n",
    "    'inner'\n",
    ").drop(\n",
    "    yearly.Year, \n",
    "    yearly.stockname\n",
    ")"
   ]
  },
  {
   "cell_type": "code",
   "execution_count": 33,
   "metadata": {},
   "outputs": [
    {
     "name": "stderr",
     "output_type": "stream",
     "text": [
      "                                                                                \r"
     ]
    },
    {
     "name": "stdout",
     "output_type": "stream",
     "text": [
      "+------------------+------------------+------------------+------------------+-------+----------+--------+-----+---+----+---------+----+------------------+------------------+\n",
      "|              open|              high|               low|             close| volume|  new_date|    time|Month|Day|Week|stockname|Year|        YearlyHigh|         YearlyLow|\n",
      "+------------------+------------------+------------------+------------------+-------+----------+--------+-----+---+----+---------+----+------------------+------------------+\n",
      "| 50.90499877929688| 52.90499877929688|            49.375| 51.47499847412109|2644400|2021-01-04|14:30:00|    1|  4|   1|     WSM |2021|110.99500274658205|50.790000915527344|\n",
      "|50.790000915527344| 52.47499847412109| 50.72499847412109| 52.08000183105469|1747800|2021-01-05|14:30:00|    1|  5|   1|     WSM |2021|110.99500274658205|50.790000915527344|\n",
      "|              51.5|53.935001373291016|              51.5| 53.45500183105469|2268800|2021-01-06|14:30:00|    1|  6|   1|     WSM |2021|110.99500274658205|50.790000915527344|\n",
      "|54.380001068115234|54.959999084472656|53.619998931884766|54.275001525878906|1588400|2021-01-07|14:30:00|    1|  7|   1|     WSM |2021|110.99500274658205|50.790000915527344|\n",
      "| 54.45000076293945| 55.18999862670898| 53.18000030517578| 53.94499969482422|1296600|2021-01-08|14:30:00|    1|  8|   1|     WSM |2021|110.99500274658205|50.790000915527344|\n",
      "+------------------+------------------+------------------+------------------+-------+----------+--------+-----+---+----+---------+----+------------------+------------------+\n",
      "only showing top 5 rows\n",
      "\n"
     ]
    }
   ],
   "source": [
    "historic_stocks.show(5)"
   ]
  },
  {
   "cell_type": "code",
   "execution_count": 34,
   "metadata": {},
   "outputs": [],
   "source": [
    "cond = [\n",
    "    (\n",
    "        historic_stocks.stockname==weekly.stockname\n",
    "    ) & (\n",
    "        historic_stocks.Year == weekly.Year\n",
    "    ) & (\n",
    "        historic_stocks.Week == weekly.Week\n",
    "    )\n",
    "]\n",
    "historic_stocks = historic_stocks.join(\n",
    "    weekly, \n",
    "    cond, \n",
    "    'inner'\n",
    ").drop(\n",
    "    weekly.Year, \n",
    "    historic_stocks.stockname, \n",
    "    weekly.Week\n",
    ")"
   ]
  },
  {
   "cell_type": "code",
   "execution_count": 35,
   "metadata": {},
   "outputs": [
    {
     "name": "stderr",
     "output_type": "stream",
     "text": [
      "[Stage 60:>                                                         (0 + 1) / 1]\r"
     ]
    },
    {
     "name": "stdout",
     "output_type": "stream",
     "text": [
      "+------------------+------------------+------------------+-----------------+-------+----------+--------+-----+---+----+-----------------+-----------------+---------+----+--------+-----------------+------------------+\n",
      "|              open|              high|               low|            close| volume|  new_date|    time|Month|Day|Year|       YearlyHigh|        YearlyLow|stockname|Week|WeekHigh|          WeekLow|            Spread|\n",
      "+------------------+------------------+------------------+-----------------+-------+----------+--------+-----+---+----+-----------------+-----------------+---------+----+--------+-----------------+------------------+\n",
      "| 40.31999969482422|40.459999084472656| 39.70000076293945|39.79999923706055|2041800|2015-01-05|14:30:00|    1|  5|2015|43.59000015258789|33.18000030517578|       A |   2|    41.0|39.52000045776367|1.4799995422363281|\n",
      "|39.810001373291016| 40.02000045776367| 39.02000045776367|39.18000030517578|2080600|2015-01-06|14:30:00|    1|  6|2015|43.59000015258789|33.18000030517578|       A |   2|    41.0|39.52000045776367|1.4799995422363281|\n",
      "| 39.52000045776367|39.810001373291016|39.290000915527344|39.70000076293945|3359700|2015-01-07|14:30:00|    1|  7|2015|43.59000015258789|33.18000030517578|       A |   2|    41.0|39.52000045776367|1.4799995422363281|\n",
      "|  40.2400016784668| 40.97999954223633| 40.18000030517578|40.88999938964844|2116300|2015-01-08|14:30:00|    1|  8|2015|43.59000015258789|33.18000030517578|       A |   2|    41.0|39.52000045776367|1.4799995422363281|\n",
      "|              41.0|              41.0|40.290000915527344|40.59000015258789|1644900|2015-01-09|14:30:00|    1|  9|2015|43.59000015258789|33.18000030517578|       A |   2|    41.0|39.52000045776367|1.4799995422363281|\n",
      "+------------------+------------------+------------------+-----------------+-------+----------+--------+-----+---+----+-----------------+-----------------+---------+----+--------+-----------------+------------------+\n",
      "only showing top 5 rows\n",
      "\n"
     ]
    },
    {
     "name": "stderr",
     "output_type": "stream",
     "text": [
      "                                                                                \r"
     ]
    }
   ],
   "source": [
    "historic_stocks.show(5)"
   ]
  },
  {
   "cell_type": "code",
   "execution_count": 36,
   "metadata": {},
   "outputs": [
    {
     "data": {
      "text/plain": [
       "['open',\n",
       " 'high',\n",
       " 'low',\n",
       " 'close',\n",
       " 'volume',\n",
       " 'new_date',\n",
       " 'time',\n",
       " 'Month',\n",
       " 'Day',\n",
       " 'Year',\n",
       " 'YearlyHigh',\n",
       " 'YearlyLow',\n",
       " 'stockname',\n",
       " 'Week',\n",
       " 'WeekHigh',\n",
       " 'WeekLow',\n",
       " 'Spread']"
      ]
     },
     "execution_count": 36,
     "metadata": {},
     "output_type": "execute_result"
    }
   ],
   "source": [
    "historic_stocks.columns"
   ]
  },
  {
   "cell_type": "code",
   "execution_count": 37,
   "metadata": {},
   "outputs": [
    {
     "name": "stderr",
     "output_type": "stream",
     "text": [
      "[Stage 78:>                                                         (0 + 1) / 1]\r"
     ]
    },
    {
     "name": "stdout",
     "output_type": "stream",
     "text": [
      "+---------+----+-----+------------------+------------------+------------------+------------------+-------+----------+--------+---+-----------------+-----------------+----+------------------+------------------+------------------+-----------------+------------------+\n",
      "|stockname|Year|Month|              open|              high|               low|             close| volume|  new_date|    time|Day|       YearlyHigh|        YearlyLow|Week|          WeekHigh|           WeekLow|            Spread|      MonthlyHigh|        MonthlyLow|\n",
      "+---------+----+-----+------------------+------------------+------------------+------------------+-------+----------+--------+---+-----------------+-----------------+----+------------------+------------------+------------------+-----------------+------------------+\n",
      "|       A |2015|    2| 39.22999954223633| 39.43000030517578| 38.95000076293945|39.040000915527344|3586100|2015-02-09|14:30:00|  9|43.59000015258789|33.18000030517578|   7|39.970001220703125| 39.22999954223633|0.7400016784667969|42.34000015258789|37.900001525878906|\n",
      "|       A |2015|    2|39.310001373291016|  39.7599983215332| 38.77999877929688| 39.66999816894531|1408600|2015-02-10|14:30:00| 10|43.59000015258789|33.18000030517578|   7|39.970001220703125| 39.22999954223633|0.7400016784667969|42.34000015258789|37.900001525878906|\n",
      "|       A |2015|    2| 39.63999938964844|39.810001373291016| 39.22999954223633| 39.33000183105469|3336800|2015-02-11|14:30:00| 11|43.59000015258789|33.18000030517578|   7|39.970001220703125| 39.22999954223633|0.7400016784667969|42.34000015258789|37.900001525878906|\n",
      "|       A |2015|    2| 39.58000183105469|40.060001373291016| 39.52999877929688| 40.02000045776367|1317700|2015-02-12|14:30:00| 12|43.59000015258789|33.18000030517578|   7|39.970001220703125| 39.22999954223633|0.7400016784667969|42.34000015258789|37.900001525878906|\n",
      "|       A |2015|    2|39.970001220703125|40.310001373291016| 39.90999984741211|40.150001525878906|2211900|2015-02-13|14:30:00| 13|43.59000015258789|33.18000030517578|   7|39.970001220703125| 39.22999954223633|0.7400016784667969|42.34000015258789|37.900001525878906|\n",
      "|       A |2015|    2| 41.88999938964844|41.959999084472656|  41.4900016784668| 41.72999954223633|1967900|2015-02-23|14:30:00| 23|43.59000015258789|33.18000030517578|   9| 42.34000015258789|41.619998931884766| 0.720001220703125|42.34000015258789|37.900001525878906|\n",
      "|       A |2015|    2|41.619998931884766| 42.11000061035156| 41.59999847412109|42.060001373291016|1922100|2015-02-24|14:30:00| 24|43.59000015258789|33.18000030517578|   9| 42.34000015258789|41.619998931884766| 0.720001220703125|42.34000015258789|37.900001525878906|\n",
      "|       A |2015|    2| 42.34000015258789|  42.4900016784668| 42.09000015258789| 42.20000076293945|2343500|2015-02-25|14:30:00| 25|43.59000015258789|33.18000030517578|   9| 42.34000015258789|41.619998931884766| 0.720001220703125|42.34000015258789|37.900001525878906|\n",
      "|       A |2015|    2| 42.22999954223633|42.380001068115234|              42.0| 42.36000061035156|1505300|2015-02-26|14:30:00| 26|43.59000015258789|33.18000030517578|   9| 42.34000015258789|41.619998931884766| 0.720001220703125|42.34000015258789|37.900001525878906|\n",
      "|       A |2015|    2| 42.29999923706055| 42.36000061035156| 42.04999923706055|42.209999084472656|1676400|2015-02-27|14:30:00| 27|43.59000015258789|33.18000030517578|   9| 42.34000015258789|41.619998931884766| 0.720001220703125|42.34000015258789|37.900001525878906|\n",
      "|       A |2015|    2|  40.0099983215332| 40.52999877929688|  39.7599983215332| 40.52000045776367|2875800|2015-02-17|14:30:00| 17|43.59000015258789|33.18000030517578|   8|41.400001525878906|  40.0099983215332|1.3900032043457031|42.34000015258789|37.900001525878906|\n",
      "|       A |2015|    2|41.119998931884766| 42.20000076293945| 40.90999984741211|41.540000915527344|9007200|2015-02-18|14:30:00| 18|43.59000015258789|33.18000030517578|   8|41.400001525878906|  40.0099983215332|1.3900032043457031|42.34000015258789|37.900001525878906|\n",
      "|       A |2015|    2|41.400001525878906| 41.56999969482422|41.040000915527344|41.150001525878906|3737300|2015-02-19|14:30:00| 19|43.59000015258789|33.18000030517578|   8|41.400001525878906|  40.0099983215332|1.3900032043457031|42.34000015258789|37.900001525878906|\n",
      "|       A |2015|    2| 41.09000015258789| 42.11000061035156|40.880001068115234| 41.95000076293945|2971900|2015-02-20|14:30:00| 20|43.59000015258789|33.18000030517578|   8|41.400001525878906|  40.0099983215332|1.3900032043457031|42.34000015258789|37.900001525878906|\n",
      "|       A |2015|    2|37.900001525878906|  38.7599983215332|37.709999084472656| 38.68999862670898|2508500|2015-02-02|14:30:00|  2|43.59000015258789|33.18000030517578|   6|39.540000915527344|37.900001525878906|1.6399993896484375|42.34000015258789|37.900001525878906|\n",
      "|       A |2015|    2|39.040000915527344|39.630001068115234| 38.91999816894531|39.619998931884766|2950400|2015-02-03|14:30:00|  3|43.59000015258789|33.18000030517578|   6|39.540000915527344|37.900001525878906|1.6399993896484375|42.34000015258789|37.900001525878906|\n",
      "|       A |2015|    2| 39.33000183105469|39.459999084472656| 38.81999969482422| 39.11000061035156|2567400|2015-02-04|14:30:00|  4|43.59000015258789|33.18000030517578|   6|39.540000915527344|37.900001525878906|1.6399993896484375|42.34000015258789|37.900001525878906|\n",
      "|       A |2015|    2|39.220001220703125| 39.81999969482422|39.220001220703125| 39.52999877929688|1826300|2015-02-05|14:30:00|  5|43.59000015258789|33.18000030517578|   6|39.540000915527344|37.900001525878906|1.6399993896484375|42.34000015258789|37.900001525878906|\n",
      "|       A |2015|    2|39.540000915527344|39.810001373291016| 39.22999954223633| 39.34000015258789|2697200|2015-02-06|14:30:00|  6|43.59000015258789|33.18000030517578|   6|39.540000915527344|37.900001525878906|1.6399993896484375|42.34000015258789|37.900001525878906|\n",
      "|       A |2015|    4| 43.33000183105469| 43.43999862670898|43.150001525878906| 43.18999862670898|1410600|2015-04-20|13:30:00| 20|43.59000015258789|33.18000030517578|  17| 43.41999816894531| 42.41999816894531|               1.0|43.59000015258789|41.459999084472656|\n",
      "+---------+----+-----+------------------+------------------+------------------+------------------+-------+----------+--------+---+-----------------+-----------------+----+------------------+------------------+------------------+-----------------+------------------+\n",
      "only showing top 20 rows\n",
      "\n"
     ]
    },
    {
     "name": "stderr",
     "output_type": "stream",
     "text": [
      "                                                                                \r"
     ]
    }
   ],
   "source": [
    "historic_stocks = historic_stocks.join(\n",
    "    monthly, [\n",
    "        'stockname', \n",
    "        'Year', \n",
    "        'Month'\n",
    "    ]\n",
    ")\n",
    "historic_stocks.show()"
   ]
  },
  {
   "cell_type": "code",
   "execution_count": 38,
   "metadata": {},
   "outputs": [],
   "source": [
    "final_stocks = historic_stocks.select(\n",
    "    [\n",
    "        'stockname', \n",
    "        'Year',\n",
    "        'Month', \n",
    "        'Day', \n",
    "        'Week', \n",
    "        'new_date',\n",
    "        'Volume',\n",
    "        'Open',\n",
    "        'Low',\n",
    "        'High',\n",
    "        'Close', \n",
    "        'YearlyHigh',\n",
    "        'YearlyLow',\n",
    "        'WeekHigh',\n",
    "        'WeekLow',\n",
    "        'MonthlyHigh',\n",
    "        'MonthlyLow'\n",
    "    ]\n",
    ")"
   ]
  },
  {
   "cell_type": "markdown",
   "metadata": {},
   "source": [
    "# advanced analysis"
   ]
  },
  {
   "cell_type": "code",
   "execution_count": 39,
   "metadata": {},
   "outputs": [
    {
     "name": "stderr",
     "output_type": "stream",
     "text": [
      "25/03/11 17:25:04 WARN RowBasedKeyValueBatch: Calling spill() on RowBasedKeyValueBatch. Will not spill but return 0.\n",
      "25/03/11 17:25:05 WARN RowBasedKeyValueBatch: Calling spill() on RowBasedKeyValueBatch. Will not spill but return 0.\n",
      "25/03/11 17:25:06 WARN RowBasedKeyValueBatch: Calling spill() on RowBasedKeyValueBatch. Will not spill but return 0.\n",
      "                                                                                \r"
     ]
    },
    {
     "data": {
      "text/plain": [
       "[Row(stockname='IRM '),\n",
       " Row(stockname='ROP '),\n",
       " Row(stockname='SFM '),\n",
       " Row(stockname='GRAB '),\n",
       " Row(stockname='UNM '),\n",
       " Row(stockname='ACHR '),\n",
       " Row(stockname='DG '),\n",
       " Row(stockname='VTMX '),\n",
       " Row(stockname='CWEN '),\n",
       " Row(stockname='JNPR '),\n",
       " Row(stockname='OVV '),\n",
       " Row(stockname='VMI '),\n",
       " Row(stockname='LBRT '),\n",
       " Row(stockname='CPB '),\n",
       " Row(stockname='DVA '),\n",
       " Row(stockname='LEN-B '),\n",
       " Row(stockname='PSTG '),\n",
       " Row(stockname='XEL '),\n",
       " Row(stockname='OMAB '),\n",
       " Row(stockname='GFS '),\n",
       " Row(stockname='MTH '),\n",
       " Row(stockname='CHFFF '),\n",
       " Row(stockname='WSM '),\n",
       " Row(stockname='GS '),\n",
       " Row(stockname='RMD '),\n",
       " Row(stockname='RXO '),\n",
       " Row(stockname='MAN '),\n",
       " Row(stockname='EXPE '),\n",
       " Row(stockname='GSHD '),\n",
       " Row(stockname='SRPT '),\n",
       " Row(stockname='VRRM '),\n",
       " Row(stockname='FRT '),\n",
       " Row(stockname='PNC '),\n",
       " Row(stockname='TDS '),\n",
       " Row(stockname='CPA '),\n",
       " Row(stockname='BTSG '),\n",
       " Row(stockname='ITGR '),\n",
       " Row(stockname='NTES '),\n",
       " Row(stockname='GLNG '),\n",
       " Row(stockname='SOLV '),\n",
       " Row(stockname='ODD '),\n",
       " Row(stockname='BAP '),\n",
       " Row(stockname='GKOS '),\n",
       " Row(stockname='TROW '),\n",
       " Row(stockname='WLY '),\n",
       " Row(stockname='DLO'),\n",
       " Row(stockname='DOV '),\n",
       " Row(stockname='BKNG '),\n",
       " Row(stockname='CUK '),\n",
       " Row(stockname='DHI '),\n",
       " Row(stockname='SUZ '),\n",
       " Row(stockname='TKAMY '),\n",
       " Row(stockname='GATX '),\n",
       " Row(stockname='ITW '),\n",
       " Row(stockname='ZM '),\n",
       " Row(stockname='BHP '),\n",
       " Row(stockname='PHI '),\n",
       " Row(stockname='BAC-PE '),\n",
       " Row(stockname='PFS '),\n",
       " Row(stockname='MKL '),\n",
       " Row(stockname='AFL '),\n",
       " Row(stockname='NEM '),\n",
       " Row(stockname='BB '),\n",
       " Row(stockname='CNP '),\n",
       " Row(stockname='CSQ '),\n",
       " Row(stockname='ENOV '),\n",
       " Row(stockname='CFLT '),\n",
       " Row(stockname='FNF '),\n",
       " Row(stockname='BROS '),\n",
       " Row(stockname='TMUS '),\n",
       " Row(stockname='PLMR '),\n",
       " Row(stockname='BANC '),\n",
       " Row(stockname='BTG '),\n",
       " Row(stockname='BYDDF '),\n",
       " Row(stockname='EXP '),\n",
       " Row(stockname='LMT '),\n",
       " Row(stockname='ACVA '),\n",
       " Row(stockname='IEP '),\n",
       " Row(stockname='IQV '),\n",
       " Row(stockname='DV'),\n",
       " Row(stockname='E '),\n",
       " Row(stockname='WY '),\n",
       " Row(stockname='ATR '),\n",
       " Row(stockname='EXG '),\n",
       " Row(stockname='PAC '),\n",
       " Row(stockname='RVMD '),\n",
       " Row(stockname='SYK '),\n",
       " Row(stockname='WYNMY '),\n",
       " Row(stockname='CFG '),\n",
       " Row(stockname='ERIE '),\n",
       " Row(stockname='PH '),\n",
       " Row(stockname='GLBE '),\n",
       " Row(stockname='CBOE '),\n",
       " Row(stockname='BRC '),\n",
       " Row(stockname='AGCO '),\n",
       " Row(stockname='BF-B '),\n",
       " Row(stockname='LVMUY '),\n",
       " Row(stockname='MOS '),\n",
       " Row(stockname='PBH '),\n",
       " Row(stockname='KMPR '),\n",
       " Row(stockname='VNET '),\n",
       " Row(stockname='BC '),\n",
       " Row(stockname='GTES '),\n",
       " Row(stockname='INTC '),\n",
       " Row(stockname='VNT '),\n",
       " Row(stockname='DE '),\n",
       " Row(stockname='MRNA '),\n",
       " Row(stockname='ARWR '),\n",
       " Row(stockname='LDOS '),\n",
       " Row(stockname='ALG '),\n",
       " Row(stockname='AWK '),\n",
       " Row(stockname='NDAQ '),\n",
       " Row(stockname='PFE '),\n",
       " Row(stockname='ESTC'),\n",
       " Row(stockname='SEE '),\n",
       " Row(stockname='DLB '),\n",
       " Row(stockname='NWS '),\n",
       " Row(stockname='BRFS '),\n",
       " Row(stockname='HD '),\n",
       " Row(stockname='NEU '),\n",
       " Row(stockname='JPM-PC '),\n",
       " Row(stockname='LGF-A '),\n",
       " Row(stockname='MSTR '),\n",
       " Row(stockname='NEE '),\n",
       " Row(stockname='CNC '),\n",
       " Row(stockname='EBC '),\n",
       " Row(stockname='PCTY '),\n",
       " Row(stockname='KLC '),\n",
       " Row(stockname='CIM-PC '),\n",
       " Row(stockname='TM '),\n",
       " Row(stockname='OPHLY '),\n",
       " Row(stockname='SCHW-PD '),\n",
       " Row(stockname='SIG '),\n",
       " Row(stockname='TSLA '),\n",
       " Row(stockname='VEON '),\n",
       " Row(stockname='WMG '),\n",
       " Row(stockname='ABG '),\n",
       " Row(stockname='OSK '),\n",
       " Row(stockname='RRC '),\n",
       " Row(stockname='AIG '),\n",
       " Row(stockname='LGND '),\n",
       " Row(stockname='CAVA '),\n",
       " Row(stockname='ACHC'),\n",
       " Row(stockname='AGI '),\n",
       " Row(stockname='BMA '),\n",
       " Row(stockname='DD '),\n",
       " Row(stockname='PNR '),\n",
       " Row(stockname='MUSA '),\n",
       " Row(stockname='CIG '),\n",
       " Row(stockname='DTE '),\n",
       " Row(stockname='VTR '),\n",
       " Row(stockname='CRC '),\n",
       " Row(stockname='KMX '),\n",
       " Row(stockname='AYI '),\n",
       " Row(stockname='PATH '),\n",
       " Row(stockname='SYBT '),\n",
       " Row(stockname='TNET '),\n",
       " Row(stockname='MDLZ '),\n",
       " Row(stockname='RARE '),\n",
       " Row(stockname='BUR '),\n",
       " Row(stockname='WTFC '),\n",
       " Row(stockname='BANR '),\n",
       " Row(stockname='CHTR '),\n",
       " Row(stockname='USAC '),\n",
       " Row(stockname='FTNT '),\n",
       " Row(stockname='SAP '),\n",
       " Row(stockname='GL '),\n",
       " Row(stockname='ATKR '),\n",
       " Row(stockname='UNLRF '),\n",
       " Row(stockname='HAGHY '),\n",
       " Row(stockname='IOSP '),\n",
       " Row(stockname='CIEN '),\n",
       " Row(stockname='EGP '),\n",
       " Row(stockname='FMCKP '),\n",
       " Row(stockname='JKHY '),\n",
       " Row(stockname='LECO '),\n",
       " Row(stockname='MKTX '),\n",
       " Row(stockname='NVG '),\n",
       " Row(stockname='SIEGY '),\n",
       " Row(stockname='VLY '),\n",
       " Row(stockname='WH '),\n",
       " Row(stockname='TFSL '),\n",
       " Row(stockname='TR '),\n",
       " Row(stockname='DKL '),\n",
       " Row(stockname='QXO '),\n",
       " Row(stockname='AGNC '),\n",
       " Row(stockname='DDS '),\n",
       " Row(stockname='FSS '),\n",
       " Row(stockname='MCK '),\n",
       " Row(stockname='LYSDY '),\n",
       " Row(stockname='PSX '),\n",
       " Row(stockname='ADI '),\n",
       " Row(stockname='ADYEY '),\n",
       " Row(stockname='CYBR '),\n",
       " Row(stockname='FIVE '),\n",
       " Row(stockname='J '),\n",
       " Row(stockname='PHJMF '),\n",
       " Row(stockname='APPN '),\n",
       " Row(stockname='F'),\n",
       " Row(stockname='MAT '),\n",
       " Row(stockname='RJF '),\n",
       " Row(stockname='TMDX '),\n",
       " Row(stockname='VFC '),\n",
       " Row(stockname='AMCR '),\n",
       " Row(stockname='OII '),\n",
       " Row(stockname='SYNA '),\n",
       " Row(stockname='BBDO '),\n",
       " Row(stockname='OMF '),\n",
       " Row(stockname='ASX '),\n",
       " Row(stockname='SGRY '),\n",
       " Row(stockname='CFRUY '),\n",
       " Row(stockname='CSWI '),\n",
       " Row(stockname='FRSH '),\n",
       " Row(stockname='HUBG '),\n",
       " Row(stockname='SU '),\n",
       " Row(stockname='AMG '),\n",
       " Row(stockname='JTKWY '),\n",
       " Row(stockname='FITB '),\n",
       " Row(stockname='SBCF '),\n",
       " Row(stockname='WF '),\n",
       " Row(stockname='PPERY '),\n",
       " Row(stockname='PAYO '),\n",
       " Row(stockname='VIST '),\n",
       " Row(stockname='KT '),\n",
       " Row(stockname='KGFHY '),\n",
       " Row(stockname='AGIO '),\n",
       " Row(stockname='STNE '),\n",
       " Row(stockname='NMRK '),\n",
       " Row(stockname='SPHXF '),\n",
       " Row(stockname='CENTA '),\n",
       " Row(stockname='CRSP '),\n",
       " Row(stockname='CRUS '),\n",
       " Row(stockname='NWG '),\n",
       " Row(stockname='XENE '),\n",
       " Row(stockname='APTV '),\n",
       " Row(stockname='TRMK '),\n",
       " Row(stockname='QFIN '),\n",
       " Row(stockname='ALVO '),\n",
       " Row(stockname='BNL '),\n",
       " Row(stockname='KAR '),\n",
       " Row(stockname='LSCC '),\n",
       " Row(stockname='RPM '),\n",
       " Row(stockname='CPT '),\n",
       " Row(stockname='EGFEF '),\n",
       " Row(stockname='WPC '),\n",
       " Row(stockname='AEO '),\n",
       " Row(stockname='CMPGY '),\n",
       " Row(stockname='CRARY '),\n",
       " Row(stockname='MRAAY '),\n",
       " Row(stockname='ORCL '),\n",
       " Row(stockname='VRTX '),\n",
       " Row(stockname='CHWY '),\n",
       " Row(stockname='PTGX '),\n",
       " Row(stockname='RNMBY '),\n",
       " Row(stockname='TRI '),\n",
       " Row(stockname='BKH '),\n",
       " Row(stockname='PTEN '),\n",
       " Row(stockname='VRNA '),\n",
       " Row(stockname='NATL '),\n",
       " Row(stockname='NWL '),\n",
       " Row(stockname='FHB '),\n",
       " Row(stockname='MOH '),\n",
       " Row(stockname='WEX '),\n",
       " Row(stockname='ING '),\n",
       " Row(stockname='AAGIY '),\n",
       " Row(stockname='DIPGF '),\n",
       " Row(stockname='BPOP '),\n",
       " Row(stockname='TOST '),\n",
       " Row(stockname='ONTO '),\n",
       " Row(stockname='ZGN '),\n",
       " Row(stockname='COKE '),\n",
       " Row(stockname='NTDOY '),\n",
       " Row(stockname='RIOT '),\n",
       " Row(stockname='PSNY '),\n",
       " Row(stockname='ROK '),\n",
       " Row(stockname='LNW '),\n",
       " Row(stockname='PNFP '),\n",
       " Row(stockname='ALIT '),\n",
       " Row(stockname='HSY '),\n",
       " Row(stockname='IR '),\n",
       " Row(stockname='TTD '),\n",
       " Row(stockname='UFPI '),\n",
       " Row(stockname='ALHC'),\n",
       " Row(stockname='GFF '),\n",
       " Row(stockname='PNW '),\n",
       " Row(stockname='ZG '),\n",
       " Row(stockname='UBS '),\n",
       " Row(stockname='VWAGY '),\n",
       " Row(stockname='VIK '),\n",
       " Row(stockname='CP '),\n",
       " Row(stockname='FWONK '),\n",
       " Row(stockname='MANU '),\n",
       " Row(stockname='MBGYY '),\n",
       " Row(stockname='DAY '),\n",
       " Row(stockname='VIAV '),\n",
       " Row(stockname='HTGC '),\n",
       " Row(stockname='BRZE '),\n",
       " Row(stockname='AMX '),\n",
       " Row(stockname='DSGX '),\n",
       " Row(stockname='ETSY '),\n",
       " Row(stockname='JBHT '),\n",
       " Row(stockname='RRX '),\n",
       " Row(stockname='SHO '),\n",
       " Row(stockname='SHW '),\n",
       " Row(stockname='SLGN '),\n",
       " Row(stockname='FUL '),\n",
       " Row(stockname='MNST '),\n",
       " Row(stockname='KBH '),\n",
       " Row(stockname='UMBF '),\n",
       " Row(stockname='SMMT '),\n",
       " Row(stockname='DFH '),\n",
       " Row(stockname='BAX '),\n",
       " Row(stockname='DJTWW '),\n",
       " Row(stockname='GEV '),\n",
       " Row(stockname='QRVO '),\n",
       " Row(stockname='VC '),\n",
       " Row(stockname='WPM '),\n",
       " Row(stockname='CUBE '),\n",
       " Row(stockname='IRDM '),\n",
       " Row(stockname='KDP '),\n",
       " Row(stockname='TTC '),\n",
       " Row(stockname='FND '),\n",
       " Row(stockname='ETR '),\n",
       " Row(stockname='MEDP '),\n",
       " Row(stockname='SOUN'),\n",
       " Row(stockname='OC '),\n",
       " Row(stockname='BCC '),\n",
       " Row(stockname='ACT '),\n",
       " Row(stockname='AMRX '),\n",
       " Row(stockname='IRTC '),\n",
       " Row(stockname='TNL '),\n",
       " Row(stockname='NCLH '),\n",
       " Row(stockname='PK '),\n",
       " Row(stockname='HUM '),\n",
       " Row(stockname='GRND '),\n",
       " Row(stockname='BN '),\n",
       " Row(stockname='CBRE '),\n",
       " Row(stockname='WDFC '),\n",
       " Row(stockname='ABNB '),\n",
       " Row(stockname='BIO '),\n",
       " Row(stockname='HCA '),\n",
       " Row(stockname='LYV '),\n",
       " Row(stockname='SBRA '),\n",
       " Row(stockname='CTSH '),\n",
       " Row(stockname='AESI '),\n",
       " Row(stockname='AAON '),\n",
       " Row(stockname='EMR '),\n",
       " Row(stockname='LUV '),\n",
       " Row(stockname='BXMT '),\n",
       " Row(stockname='FDX '),\n",
       " Row(stockname='ON '),\n",
       " Row(stockname='LIVN '),\n",
       " Row(stockname='LNC '),\n",
       " Row(stockname='JXN '),\n",
       " Row(stockname='SMTC '),\n",
       " Row(stockname='OKLO '),\n",
       " Row(stockname='KSPI '),\n",
       " Row(stockname='MASI '),\n",
       " Row(stockname='NSIT '),\n",
       " Row(stockname='SPR '),\n",
       " Row(stockname='XNYIF '),\n",
       " Row(stockname='AIN '),\n",
       " Row(stockname='CSCO '),\n",
       " Row(stockname='STWD '),\n",
       " Row(stockname='PSA '),\n",
       " Row(stockname='CMG '),\n",
       " Row(stockname='GTLS '),\n",
       " Row(stockname='MKSI '),\n",
       " Row(stockname='SPGI '),\n",
       " Row(stockname='AVTR '),\n",
       " Row(stockname='EPR '),\n",
       " Row(stockname='EFX '),\n",
       " Row(stockname='FOXA '),\n",
       " Row(stockname='CX '),\n",
       " Row(stockname='PRGO'),\n",
       " Row(stockname='PTCT '),\n",
       " Row(stockname='BMY '),\n",
       " Row(stockname='CRM '),\n",
       " Row(stockname='FLR '),\n",
       " Row(stockname='GSAT '),\n",
       " Row(stockname='HAE '),\n",
       " Row(stockname='HWKN '),\n",
       " Row(stockname='SMCI '),\n",
       " Row(stockname='CGEMY '),\n",
       " Row(stockname='LYG '),\n",
       " Row(stockname='BHVN '),\n",
       " Row(stockname='NOV '),\n",
       " Row(stockname='BX '),\n",
       " Row(stockname='FRME '),\n",
       " Row(stockname='CL '),\n",
       " Row(stockname='IDA '),\n",
       " Row(stockname='RBA '),\n",
       " Row(stockname='SMCAY '),\n",
       " Row(stockname='ATI '),\n",
       " Row(stockname='MT '),\n",
       " Row(stockname='TBBB '),\n",
       " Row(stockname='ASH '),\n",
       " Row(stockname='PPCB '),\n",
       " Row(stockname='RGLD '),\n",
       " Row(stockname='CPRT '),\n",
       " Row(stockname='TSN '),\n",
       " Row(stockname='CRL '),\n",
       " Row(stockname='GLPI '),\n",
       " Row(stockname='HTHT '),\n",
       " Row(stockname='IDCBF '),\n",
       " Row(stockname='HOPHF '),\n",
       " Row(stockname='TYL '),\n",
       " Row(stockname='SKWD '),\n",
       " Row(stockname='BILI '),\n",
       " Row(stockname='BYDDY '),\n",
       " Row(stockname='GCMG '),\n",
       " Row(stockname='SUI '),\n",
       " Row(stockname='WDS '),\n",
       " Row(stockname='ELS '),\n",
       " Row(stockname='DKNG '),\n",
       " Row(stockname='TKR '),\n",
       " Row(stockname='HCP '),\n",
       " Row(stockname='TSEM '),\n",
       " Row(stockname='DNB '),\n",
       " Row(stockname='LI '),\n",
       " Row(stockname='AXS '),\n",
       " Row(stockname='CACI '),\n",
       " Row(stockname='CHKP '),\n",
       " Row(stockname='LVS '),\n",
       " Row(stockname='RBGLY '),\n",
       " Row(stockname='TIMB '),\n",
       " Row(stockname='WAFD '),\n",
       " Row(stockname='SRRK '),\n",
       " Row(stockname='ABT '),\n",
       " Row(stockname='UNVGY '),\n",
       " Row(stockname='WRD '),\n",
       " Row(stockname='HAFN '),\n",
       " Row(stockname='BMRN '),\n",
       " Row(stockname='BP '),\n",
       " Row(stockname='IMBBY '),\n",
       " Row(stockname='GGB '),\n",
       " Row(stockname='AKR '),\n",
       " Row(stockname='ZI '),\n",
       " Row(stockname='ETN '),\n",
       " Row(stockname='SNV '),\n",
       " Row(stockname='CADE '),\n",
       " Row(stockname='DAR '),\n",
       " Row(stockname='DIOD '),\n",
       " Row(stockname='MLM '),\n",
       " Row(stockname='NVR '),\n",
       " Row(stockname='PEGA '),\n",
       " Row(stockname='KLAC '),\n",
       " Row(stockname='OMC '),\n",
       " Row(stockname='COO '),\n",
       " Row(stockname='FCN '),\n",
       " Row(stockname='IOT '),\n",
       " Row(stockname='CAR '),\n",
       " Row(stockname='EDR '),\n",
       " Row(stockname='MHK '),\n",
       " Row(stockname='TGS '),\n",
       " Row(stockname='AVA '),\n",
       " Row(stockname='QCOM '),\n",
       " Row(stockname='SKM '),\n",
       " Row(stockname='KD '),\n",
       " Row(stockname='VICR '),\n",
       " Row(stockname='PR '),\n",
       " Row(stockname='WM '),\n",
       " Row(stockname='FANG '),\n",
       " Row(stockname='GBCI '),\n",
       " Row(stockname='AVGO '),\n",
       " Row(stockname='CVS '),\n",
       " Row(stockname='PTON '),\n",
       " Row(stockname='ALLE '),\n",
       " Row(stockname='TFII '),\n",
       " Row(stockname='L '),\n",
       " Row(stockname='MTG '),\n",
       " Row(stockname='RIG '),\n",
       " Row(stockname='XIACY '),\n",
       " Row(stockname='OWL '),\n",
       " Row(stockname='JNJ '),\n",
       " Row(stockname='LFUS '),\n",
       " Row(stockname='MDB '),\n",
       " Row(stockname='MLTX '),\n",
       " Row(stockname='PSO '),\n",
       " Row(stockname='ARLP '),\n",
       " Row(stockname='F '),\n",
       " Row(stockname='GM '),\n",
       " Row(stockname='KBR '),\n",
       " Row(stockname='DFS '),\n",
       " Row(stockname='IDXX '),\n",
       " Row(stockname='SOFI '),\n",
       " Row(stockname='WMS '),\n",
       " Row(stockname='PRGS '),\n",
       " Row(stockname='WIT '),\n",
       " Row(stockname='BLD '),\n",
       " Row(stockname='BOOT '),\n",
       " Row(stockname='BSBR '),\n",
       " Row(stockname='DTEGY '),\n",
       " Row(stockname='ILMN '),\n",
       " Row(stockname='JJSF '),\n",
       " Row(stockname='SBSW '),\n",
       " Row(stockname='SNN '),\n",
       " Row(stockname='SPXC '),\n",
       " Row(stockname='BML-PL '),\n",
       " Row(stockname='IMO '),\n",
       " Row(stockname='TD '),\n",
       " Row(stockname='GRMN '),\n",
       " Row(stockname='NFE '),\n",
       " Row(stockname='OHI '),\n",
       " Row(stockname='CROX '),\n",
       " Row(stockname='IAC '),\n",
       " Row(stockname='ROAD '),\n",
       " Row(stockname='FLS '),\n",
       " Row(stockname='GIL '),\n",
       " Row(stockname='AVT '),\n",
       " Row(stockname='NXT '),\n",
       " Row(stockname='BLDR '),\n",
       " Row(stockname='CCS '),\n",
       " Row(stockname='CLBT '),\n",
       " Row(stockname='CYTK '),\n",
       " Row(stockname='IBKR '),\n",
       " Row(stockname='MGDDY '),\n",
       " Row(stockname='STRL '),\n",
       " Row(stockname='ESGR '),\n",
       " Row(stockname='RYTM '),\n",
       " Row(stockname='TAK '),\n",
       " Row(stockname='DEO '),\n",
       " Row(stockname='QSR '),\n",
       " Row(stockname='DV '),\n",
       " Row(stockname='NEE-PR '),\n",
       " Row(stockname='ALLY '),\n",
       " Row(stockname='EADSY '),\n",
       " Row(stockname='FCX '),\n",
       " Row(stockname='NET '),\n",
       " Row(stockname='ALE '),\n",
       " Row(stockname='DHR '),\n",
       " Row(stockname='NVCR '),\n",
       " Row(stockname='ALGM '),\n",
       " Row(stockname='INGR '),\n",
       " Row(stockname='ALIZY '),\n",
       " Row(stockname='FIS '),\n",
       " Row(stockname='SPSC '),\n",
       " Row(stockname='STNG '),\n",
       " Row(stockname='NBIX '),\n",
       " Row(stockname='NEXT '),\n",
       " Row(stockname='SHAK '),\n",
       " Row(stockname='SW '),\n",
       " Row(stockname='CM '),\n",
       " Row(stockname='VRSK '),\n",
       " Row(stockname='VMC '),\n",
       " Row(stockname='CEG '),\n",
       " Row(stockname='DT '),\n",
       " Row(stockname='FMCKJ '),\n",
       " Row(stockname='RFGPF '),\n",
       " Row(stockname='SXT '),\n",
       " Row(stockname='LBTYA '),\n",
       " Row(stockname='TECK '),\n",
       " Row(stockname='GDV '),\n",
       " Row(stockname='SARO '),\n",
       " Row(stockname='BF-A '),\n",
       " Row(stockname='OSIS '),\n",
       " Row(stockname='PDCO '),\n",
       " Row(stockname='RCI '),\n",
       " Row(stockname='STLD '),\n",
       " Row(stockname='STX '),\n",
       " Row(stockname='TSLX '),\n",
       " Row(stockname='CASY '),\n",
       " Row(stockname='FIVN '),\n",
       " Row(stockname='SEM '),\n",
       " Row(stockname='APAM '),\n",
       " Row(stockname='LAD '),\n",
       " Row(stockname='LH '),\n",
       " Row(stockname='BANF '),\n",
       " Row(stockname='BILL '),\n",
       " Row(stockname='EGO '),\n",
       " Row(stockname='NGG '),\n",
       " Row(stockname='NLY-PF '),\n",
       " Row(stockname='EQNR '),\n",
       " Row(stockname='RNR '),\n",
       " Row(stockname='TXRH '),\n",
       " Row(stockname='CLH '),\n",
       " Row(stockname='FG '),\n",
       " Row(stockname='MSM '),\n",
       " Row(stockname='RKLB '),\n",
       " Row(stockname='HTHIY '),\n",
       " Row(stockname='NHI '),\n",
       " Row(stockname='SR '),\n",
       " Row(stockname='TAP '),\n",
       " Row(stockname='CLPBY '),\n",
       " Row(stockname='LHX '),\n",
       " Row(stockname='UAL '),\n",
       " Row(stockname='USM '),\n",
       " Row(stockname='ORANY '),\n",
       " Row(stockname='ZS '),\n",
       " Row(stockname='WMT '),\n",
       " Row(stockname='TX '),\n",
       " Row(stockname='RYN '),\n",
       " Row(stockname='ABR '),\n",
       " Row(stockname='AGO '),\n",
       " Row(stockname='GLW '),\n",
       " Row(stockname='HNLGF '),\n",
       " Row(stockname='CGNX '),\n",
       " Row(stockname='GRBK '),\n",
       " Row(stockname='EXPO '),\n",
       " Row(stockname='TTDKY '),\n",
       " Row(stockname='MIR '),\n",
       " Row(stockname='CMA '),\n",
       " Row(stockname='TXT '),\n",
       " Row(stockname='GS-PC '),\n",
       " Row(stockname='JOE '),\n",
       " Row(stockname='PAG '),\n",
       " Row(stockname='STT-PG '),\n",
       " Row(stockname='DOW '),\n",
       " Row(stockname='EPAC '),\n",
       " Row(stockname='ALTM '),\n",
       " Row(stockname='IONQ '),\n",
       " Row(stockname='WFRD '),\n",
       " Row(stockname='TTEK '),\n",
       " Row(stockname='APA '),\n",
       " Row(stockname='APP '),\n",
       " Row(stockname='GBDC '),\n",
       " Row(stockname='IFNNY '),\n",
       " Row(stockname='PRK '),\n",
       " Row(stockname='DY '),\n",
       " Row(stockname='ESRT '),\n",
       " Row(stockname='IHG '),\n",
       " Row(stockname='PRKS '),\n",
       " Row(stockname='SJM '),\n",
       " Row(stockname='FR '),\n",
       " Row(stockname='BAM '),\n",
       " Row(stockname='SOBO '),\n",
       " Row(stockname='AIR '),\n",
       " Row(stockname='CBSH '),\n",
       " Row(stockname='IFS '),\n",
       " Row(stockname='MHO '),\n",
       " Row(stockname='PG '),\n",
       " Row(stockname='UTHR '),\n",
       " Row(stockname='EMN '),\n",
       " Row(stockname='GBTG '),\n",
       " Row(stockname='HUBB '),\n",
       " Row(stockname='NXRT '),\n",
       " Row(stockname='BECN '),\n",
       " Row(stockname='ALGN '),\n",
       " Row(stockname='NEOG '),\n",
       " Row(stockname='GDS '),\n",
       " Row(stockname='CCOEY '),\n",
       " Row(stockname='CNO '),\n",
       " Row(stockname='FMS '),\n",
       " Row(stockname='INSP '),\n",
       " Row(stockname='MRK '),\n",
       " Row(stockname='NABZY '),\n",
       " Row(stockname='TEO '),\n",
       " Row(stockname='VOYA-PB '),\n",
       " Row(stockname='BMWKY '),\n",
       " Row(stockname='DELL '),\n",
       " Row(stockname='HPQ '),\n",
       " Row(stockname='AME '),\n",
       " Row(stockname='LLYVK '),\n",
       " Row(stockname='GMAB '),\n",
       " Row(stockname='GWW '),\n",
       " Row(stockname='NIO '),\n",
       " Row(stockname='YY '),\n",
       " Row(stockname='CBU '),\n",
       " Row(stockname='CDE '),\n",
       " Row(stockname='CNS '),\n",
       " Row(stockname='HLT '),\n",
       " Row(stockname='REGN '),\n",
       " Row(stockname='AU '),\n",
       " Row(stockname='HUN '),\n",
       " Row(stockname='INTA '),\n",
       " Row(stockname='BIDU '),\n",
       " Row(stockname='SXI '),\n",
       " Row(stockname='NFLX '),\n",
       " Row(stockname='ACI '),\n",
       " Row(stockname='OGN '),\n",
       " Row(stockname='EXE '),\n",
       " Row(stockname='GPK '),\n",
       " Row(stockname='NXE '),\n",
       " Row(stockname='RSG '),\n",
       " Row(stockname='BNTX '),\n",
       " Row(stockname='CITAF '),\n",
       " Row(stockname='COR '),\n",
       " Row(stockname='MSBHF '),\n",
       " Row(stockname='NNN '),\n",
       " Row(stockname='NVDA '),\n",
       " Row(stockname='RF-PC '),\n",
       " Row(stockname='BEKE '),\n",
       " Row(stockname='GXO '),\n",
       " Row(stockname='ACM '),\n",
       " Row(stockname='CVCO '),\n",
       " Row(stockname='DBRG '),\n",
       " Row(stockname='UNLRY '),\n",
       " Row(stockname='MA '),\n",
       " Row(stockname='CBT '),\n",
       " Row(stockname='HQY '),\n",
       " Row(stockname='MTX '),\n",
       " Row(stockname='RCRUY '),\n",
       " Row(stockname='AL '),\n",
       " Row(stockname='PBR '),\n",
       " Row(stockname='CPRX '),\n",
       " Row(stockname='JWN '),\n",
       " Row(stockname='SECYF '),\n",
       " Row(stockname='LYB '),\n",
       " Row(stockname='SNEX '),\n",
       " Row(stockname='PTC '),\n",
       " Row(stockname='HGTY '),\n",
       " Row(stockname='ABBV '),\n",
       " Row(stockname='INTU '),\n",
       " Row(stockname='KEX '),\n",
       " Row(stockname='MLI '),\n",
       " Row(stockname='NTRA '),\n",
       " Row(stockname='ORI '),\n",
       " Row(stockname='OTIS '),\n",
       " Row(stockname='FIBK '),\n",
       " Row(stockname='AXON '),\n",
       " Row(stockname='LYFT '),\n",
       " Row(stockname='ATHM '),\n",
       " Row(stockname='BAC-PB '),\n",
       " Row(stockname='PWR '),\n",
       " Row(stockname='SKYW '),\n",
       " Row(stockname='IBN '),\n",
       " Row(stockname='REZI '),\n",
       " Row(stockname='TGT '),\n",
       " Row(stockname='VNO-PM '),\n",
       " Row(stockname='CATY '),\n",
       " Row(stockname='LSTR '),\n",
       " Row(stockname='ENVA '),\n",
       " Row(stockname='RITM '),\n",
       " Row(stockname='TEAM '),\n",
       " Row(stockname='YOU '),\n",
       " Row(stockname='CXT '),\n",
       " Row(stockname='CNH '),\n",
       " Row(stockname='META '),\n",
       " Row(stockname='PSLV '),\n",
       " Row(stockname='ROIV '),\n",
       " Row(stockname='MTB '),\n",
       " Row(stockname='IIPR '),\n",
       " Row(stockname='LNSTY '),\n",
       " Row(stockname='ITCI '),\n",
       " Row(stockname='TRU '),\n",
       " Row(stockname='ESAB '),\n",
       " Row(stockname='CVLT '),\n",
       " Row(stockname='KKPNY '),\n",
       " Row(stockname='KTOS '),\n",
       " Row(stockname='RNST '),\n",
       " Row(stockname='RS '),\n",
       " Row(stockname='STR '),\n",
       " Row(stockname='PEN '),\n",
       " Row(stockname='WMB '),\n",
       " Row(stockname='MNSO '),\n",
       " Row(stockname='GME '),\n",
       " Row(stockname='ELF '),\n",
       " Row(stockname='GSK '),\n",
       " Row(stockname='LBTYK '),\n",
       " Row(stockname='NPSNY '),\n",
       " Row(stockname='ENR '),\n",
       " Row(stockname='ODFL '),\n",
       " Row(stockname='SAXPY '),\n",
       " Row(stockname='UE '),\n",
       " Row(stockname='CCOI '),\n",
       " Row(stockname='AI '),\n",
       " Row(stockname='CB '),\n",
       " Row(stockname='CELH '),\n",
       " Row(stockname='IESC '),\n",
       " Row(stockname='SYY '),\n",
       " Row(stockname='NSRGY '),\n",
       " Row(stockname='BEPC '),\n",
       " Row(stockname='KFY '),\n",
       " Row(stockname='BDC '),\n",
       " Row(stockname='QLYS '),\n",
       " Row(stockname='LB '),\n",
       " Row(stockname='ALHC '),\n",
       " Row(stockname='CMI '),\n",
       " Row(stockname='DCI '),\n",
       " Row(stockname='NKE '),\n",
       " Row(stockname='CARG '),\n",
       " Row(stockname='IX '),\n",
       " Row(stockname='LEVI '),\n",
       " Row(stockname='MCY '),\n",
       " Row(stockname='AZEK '),\n",
       " Row(stockname='ASTS '),\n",
       " Row(stockname='DDOG '),\n",
       " Row(stockname='HBAN '),\n",
       " Row(stockname='REG '),\n",
       " Row(stockname='THO '),\n",
       " Row(stockname='NU '),\n",
       " Row(stockname='RACE '),\n",
       " Row(stockname='EA '),\n",
       " Row(stockname='ECG '),\n",
       " Row(stockname='ATGE '),\n",
       " Row(stockname='CFR '),\n",
       " Row(stockname='LUMN '),\n",
       " Row(stockname='TTE '),\n",
       " Row(stockname='LCID'),\n",
       " Row(stockname='TIGO '),\n",
       " Row(stockname='VERX '),\n",
       " Row(stockname='FITBI '),\n",
       " Row(stockname='FSV '),\n",
       " Row(stockname='SWTX '),\n",
       " Row(stockname='BSY '),\n",
       " Row(stockname='CEF '),\n",
       " Row(stockname='MSGS '),\n",
       " Row(stockname='NPO '),\n",
       " Row(stockname='GNTX '),\n",
       " Row(stockname='IBRX '),\n",
       " Row(stockname='KMB '),\n",
       " Row(stockname='TAL '),\n",
       " Row(stockname='TT '),\n",
       " Row(stockname='MIRM '),\n",
       " Row(stockname='VFS '),\n",
       " Row(stockname='HRL '),\n",
       " Row(stockname='CRK '),\n",
       " Row(stockname='EME '),\n",
       " Row(stockname='PPBI '),\n",
       " Row(stockname='RDNT '),\n",
       " Row(stockname='UTF '),\n",
       " Row(stockname='SSLZY '),\n",
       " Row(stockname='WFC-PC '),\n",
       " Row(stockname='BUD '),\n",
       " Row(stockname='FFIV '),\n",
       " Row(stockname='VWDRY '),\n",
       " Row(stockname='PANW '),\n",
       " Row(stockname='BIIB '),\n",
       " Row(stockname='BXBLY '),\n",
       " Row(stockname='EXR '),\n",
       " Row(stockname='FCFS '),\n",
       " Row(stockname='KRYS '),\n",
       " Row(stockname='TCBI '),\n",
       " Row(stockname='SHEL '),\n",
       " Row(stockname='IGT '),\n",
       " Row(stockname='GOLD'),\n",
       " Row(stockname='BAESY '),\n",
       " Row(stockname='OLED '),\n",
       " Row(stockname='SOTDF '),\n",
       " Row(stockname='TFPM '),\n",
       " Row(stockname='SGHC '),\n",
       " Row(stockname='WERN '),\n",
       " Row(stockname='WFC '),\n",
       " Row(stockname='AEP '),\n",
       " Row(stockname='HST '),\n",
       " Row(stockname='LLY '),\n",
       " Row(stockname='SIGI '),\n",
       " Row(stockname='Z '),\n",
       " Row(stockname='SYM '),\n",
       " Row(stockname='SBS '),\n",
       " Row(stockname='JDSPY '),\n",
       " Row(stockname='KGS '),\n",
       " Row(stockname='DLO '),\n",
       " Row(stockname='WAB '),\n",
       " Row(stockname='PTVE '),\n",
       " Row(stockname='VIPS '),\n",
       " Row(stockname='MSI '),\n",
       " Row(stockname='OUT '),\n",
       " Row(stockname='CSL '),\n",
       " Row(stockname='SMMYY '),\n",
       " Row(stockname='AGYS '),\n",
       " Row(stockname='DLR '),\n",
       " Row(stockname='FORM '),\n",
       " Row(stockname='GFI '),\n",
       " Row(stockname='HXL '),\n",
       " Row(stockname='SPB '),\n",
       " Row(stockname='SSRM '),\n",
       " Row(stockname='KIM '),\n",
       " Row(stockname='KRC '),\n",
       " Row(stockname='SHECY '),\n",
       " Row(stockname='U '),\n",
       " Row(stockname='X '),\n",
       " Row(stockname='RUM '),\n",
       " Row(stockname='S '),\n",
       " Row(stockname='KVUE '),\n",
       " Row(stockname='WAY '),\n",
       " Row(stockname='ALL-PB '),\n",
       " Row(stockname='DUK '),\n",
       " Row(stockname='MRVL '),\n",
       " Row(stockname='NNI '),\n",
       " Row(stockname='VVV '),\n",
       " Row(stockname='INVH '),\n",
       " Row(stockname='RCL '),\n",
       " Row(stockname='BBVA '),\n",
       " Row(stockname='CHFLF '),\n",
       " Row(stockname='APO-PA '),\n",
       " Row(stockname='CART '),\n",
       " Row(stockname='BKRKY '),\n",
       " Row(stockname='ITUB '),\n",
       " Row(stockname='SNPS '),\n",
       " Row(stockname='TREX '),\n",
       " Row(stockname='CVBF '),\n",
       " Row(stockname='BBUC '),\n",
       " Row(stockname='ENSG '),\n",
       " Row(stockname='JBL '),\n",
       " Row(stockname='LITE '),\n",
       " Row(stockname='HBM '),\n",
       " Row(stockname='DOCS '),\n",
       " Row(stockname='HEINY '),\n",
       " Row(stockname='AMAT '),\n",
       " Row(stockname='PINS '),\n",
       " Row(stockname='FLO '),\n",
       " Row(stockname='CNK '),\n",
       " Row(stockname='DLR-PK '),\n",
       " Row(stockname='BIPC '),\n",
       " Row(stockname='CHD '),\n",
       " Row(stockname='PATK '),\n",
       " Row(stockname='CNM '),\n",
       " Row(stockname='ESGRO '),\n",
       " Row(stockname='FE '),\n",
       " Row(stockname='TBVPF '),\n",
       " Row(stockname='PAGS '),\n",
       " Row(stockname='PJT '),\n",
       " Row(stockname='ENB '),\n",
       " Row(stockname='APO '),\n",
       " Row(stockname='AQN '),\n",
       " Row(stockname='HP '),\n",
       " Row(stockname='TWLO '),\n",
       " Row(stockname='JD '),\n",
       " Row(stockname='PCVX '),\n",
       " Row(stockname='XRP-USD'),\n",
       " Row(stockname='ASR '),\n",
       " Row(stockname='PFG '),\n",
       " Row(stockname='VSH '),\n",
       " Row(stockname='MLCO '),\n",
       " Row(stockname='ALB '),\n",
       " Row(stockname='DVN '),\n",
       " Row(stockname='ADX '),\n",
       " Row(stockname='ALK '),\n",
       " Row(stockname='ASND '),\n",
       " Row(stockname='AUB '),\n",
       " Row(stockname='JCI '),\n",
       " Row(stockname='LBRDK '),\n",
       " Row(stockname='SLB '),\n",
       " Row(stockname='TOWN '),\n",
       " Row(stockname='BAC '),\n",
       " Row(stockname='VCEL '),\n",
       " Row(stockname='SCCO '),\n",
       " Row(stockname='ZTO '),\n",
       " Row(stockname='FLUT '),\n",
       " Row(stockname='VRSN '),\n",
       " Row(stockname='GGAL '),\n",
       " Row(stockname='JAZZ '),\n",
       " Row(stockname='VZ '),\n",
       " Row(stockname='DPZ '),\n",
       " Row(stockname='XP '),\n",
       " Row(stockname='CCK '),\n",
       " Row(stockname='CRRFY '),\n",
       " Row(stockname='CF '),\n",
       " Row(stockname='PRI '),\n",
       " Row(stockname='CLSK '),\n",
       " Row(stockname='VICI '),\n",
       " Row(stockname='EDU '),\n",
       " Row(stockname='LRCX '),\n",
       " Row(stockname='NRG '),\n",
       " Row(stockname='RELX '),\n",
       " Row(stockname='ENS '),\n",
       " Row(stockname='MPWR '),\n",
       " Row(stockname='INGM '),\n",
       " Row(stockname='LOAR '),\n",
       " Row(stockname='BFH '),\n",
       " Row(stockname='PIPR '),\n",
       " Row(stockname='TU '),\n",
       " Row(stockname='WYNN '),\n",
       " Row(stockname='AEG '),\n",
       " Row(stockname='AZPN '),\n",
       " Row(stockname='CAKE '),\n",
       " Row(stockname='WMMVY '),\n",
       " Row(stockname='WWD '),\n",
       " Row(stockname='CE '),\n",
       " Row(stockname='ALSMY '),\n",
       " Row(stockname='MP '),\n",
       " Row(stockname='OKE '),\n",
       " Row(stockname='SWI '),\n",
       " Row(stockname='TECH '),\n",
       " Row(stockname='W '),\n",
       " Row(stockname='GHC '),\n",
       " Row(stockname='MET '),\n",
       " Row(stockname='FN '),\n",
       " Row(stockname='GEN '),\n",
       " Row(stockname='EPRT '),\n",
       " Row(stockname='APH '),\n",
       " Row(stockname='BDORY '),\n",
       " Row(stockname='BHC '),\n",
       " Row(stockname='CRGY '),\n",
       " Row(stockname='GNRC '),\n",
       " Row(stockname='HSIC '),\n",
       " Row(stockname='IDCC '),\n",
       " Row(stockname='NJDCY '),\n",
       " Row(stockname='SM '),\n",
       " Row(stockname='GPC '),\n",
       " Row(stockname='PPC '),\n",
       " Row(stockname='TXN '),\n",
       " Row(stockname='EQH '),\n",
       " Row(stockname='FOX '),\n",
       " Row(stockname='SHHGF '),\n",
       " Row(stockname='AFG '),\n",
       " Row(stockname='BNS '),\n",
       " Row(stockname='SFBS '),\n",
       " Row(stockname='TPR '),\n",
       " Row(stockname='ZBRA '),\n",
       " Row(stockname='UI '),\n",
       " Row(stockname='ORLA '),\n",
       " Row(stockname='UEC '),\n",
       " Row(stockname='SNV-PD '),\n",
       " Row(stockname='GLOB '),\n",
       " Row(stockname='DJT '),\n",
       " Row(stockname='FMC '),\n",
       " Row(stockname='FRO '),\n",
       " Row(stockname='CVE '),\n",
       " ...]"
      ]
     },
     "execution_count": 39,
     "metadata": {},
     "output_type": "execute_result"
    }
   ],
   "source": [
    "final_stocks.select('stockname').distinct().collect()"
   ]
  },
  {
   "cell_type": "code",
   "execution_count": 40,
   "metadata": {},
   "outputs": [
    {
     "name": "stderr",
     "output_type": "stream",
     "text": [
      "[Stage 121:>                                                        (0 + 1) / 1]\r"
     ]
    },
    {
     "name": "stdout",
     "output_type": "stream",
     "text": [
      "+---------+----+-----+---+----+----------+-------+------------------+-----------------+------------------+------------------+-----------------+-----------------+------------------+-----------------+-----------------+------------------+\n",
      "|stockname|Year|Month|Day|Week|  new_date| Volume|              Open|              Low|              High|             Close|       YearlyHigh|        YearlyLow|          WeekHigh|          WeekLow|      MonthlyHigh|        MonthlyLow|\n",
      "+---------+----+-----+---+----+----------+-------+------------------+-----------------+------------------+------------------+-----------------+-----------------+------------------+-----------------+-----------------+------------------+\n",
      "|       A |2015|    2|  9|   7|2015-02-09|3586100| 39.22999954223633|38.95000076293945| 39.43000030517578|39.040000915527344|43.59000015258789|33.18000030517578|39.970001220703125|39.22999954223633|42.34000015258789|37.900001525878906|\n",
      "|       A |2015|    2| 10|   7|2015-02-10|1408600|39.310001373291016|38.77999877929688|  39.7599983215332| 39.66999816894531|43.59000015258789|33.18000030517578|39.970001220703125|39.22999954223633|42.34000015258789|37.900001525878906|\n",
      "|       A |2015|    2| 11|   7|2015-02-11|3336800| 39.63999938964844|39.22999954223633|39.810001373291016| 39.33000183105469|43.59000015258789|33.18000030517578|39.970001220703125|39.22999954223633|42.34000015258789|37.900001525878906|\n",
      "|       A |2015|    2| 12|   7|2015-02-12|1317700| 39.58000183105469|39.52999877929688|40.060001373291016| 40.02000045776367|43.59000015258789|33.18000030517578|39.970001220703125|39.22999954223633|42.34000015258789|37.900001525878906|\n",
      "|       A |2015|    2| 13|   7|2015-02-13|2211900|39.970001220703125|39.90999984741211|40.310001373291016|40.150001525878906|43.59000015258789|33.18000030517578|39.970001220703125|39.22999954223633|42.34000015258789|37.900001525878906|\n",
      "+---------+----+-----+---+----+----------+-------+------------------+-----------------+------------------+------------------+-----------------+-----------------+------------------+-----------------+-----------------+------------------+\n",
      "only showing top 5 rows\n",
      "\n"
     ]
    },
    {
     "name": "stderr",
     "output_type": "stream",
     "text": [
      "                                                                                \r"
     ]
    }
   ],
   "source": [
    "final_stocks.show(5)"
   ]
  },
  {
   "cell_type": "code",
   "execution_count": 41,
   "metadata": {},
   "outputs": [],
   "source": [
    "final_stocks.createOrReplaceTempView('stockData')"
   ]
  },
  {
   "cell_type": "code",
   "execution_count": 42,
   "metadata": {},
   "outputs": [
    {
     "name": "stderr",
     "output_type": "stream",
     "text": [
      "[Stage 125:=============================================>           (4 + 1) / 5]\r"
     ]
    },
    {
     "name": "stdout",
     "output_type": "stream",
     "text": [
      "+---------+----+-----+---+----+----------+--------+------------------+------------------+-----------------+-----------------+------------------+-----------------+------------------+------------------+------------------+------------------+\n",
      "|stockname|Year|Month|Day|Week|  new_date|  Volume|              Open|               Low|             High|            Close|        YearlyHigh|        YearlyLow|          WeekHigh|           WeekLow|       MonthlyHigh|        MonthlyLow|\n",
      "+---------+----+-----+---+----+----------+--------+------------------+------------------+-----------------+-----------------+------------------+-----------------+------------------+------------------+------------------+------------------+\n",
      "|    MSFT |2015|    6|  1|  23|2015-06-01|28837300|47.060001373291016|46.619998931884766|47.77000045776367|47.22999954223633|56.470001220703125|40.34000015258789|47.369998931884766|46.310001373291016|47.369998931884766|44.709999084472656|\n",
      "|    MSFT |2015|    6|  2|  23|2015-06-02|21498300| 46.93000030517578|46.619998931884766|47.34999847412109|46.91999816894531|56.470001220703125|40.34000015258789|47.369998931884766|46.310001373291016|47.369998931884766|44.709999084472656|\n",
      "|    MSFT |2015|    6|  3|  23|2015-06-03|28002200|47.369998931884766| 46.81999969482422| 47.7400016784668|46.84999847412109|56.470001220703125|40.34000015258789|47.369998931884766|46.310001373291016|47.369998931884766|44.709999084472656|\n",
      "|    MSFT |2015|    6|  4|  23|2015-06-04|27745500|46.790000915527344| 46.20000076293945|47.15999984741211|46.36000061035156|56.470001220703125|40.34000015258789|47.369998931884766|46.310001373291016|47.369998931884766|44.709999084472656|\n",
      "|    MSFT |2015|    6|  5|  23|2015-06-05|25438100|46.310001373291016| 45.84000015258789|46.52000045776367|46.13999938964844|56.470001220703125|40.34000015258789|47.369998931884766|46.310001373291016|47.369998931884766|44.709999084472656|\n",
      "+---------+----+-----+---+----+----------+--------+------------------+------------------+-----------------+-----------------+------------------+-----------------+------------------+------------------+------------------+------------------+\n",
      "only showing top 5 rows\n",
      "\n"
     ]
    },
    {
     "name": "stderr",
     "output_type": "stream",
     "text": [
      "                                                                                \r"
     ]
    }
   ],
   "source": [
    "spark.sql(\"SELECT * FROM stockData where stockname='MSFT ' and Year=2015\").show(5)"
   ]
  },
  {
   "cell_type": "code",
   "execution_count": 43,
   "metadata": {},
   "outputs": [
    {
     "name": "stderr",
     "output_type": "stream",
     "text": [
      "[Stage 150:>                                                        (0 + 1) / 1]\r"
     ]
    },
    {
     "name": "stdout",
     "output_type": "stream",
     "text": [
      "+----------+---------+------------------+\n",
      "|  new_date|stockname|              open|\n",
      "+----------+---------+------------------+\n",
      "|2015-01-05|       A | 40.31999969482422|\n",
      "|2015-01-06|       A |39.810001373291016|\n",
      "|2015-01-07|       A | 39.52000045776367|\n",
      "|2015-01-08|       A |  40.2400016784668|\n",
      "|2015-01-09|       A |              41.0|\n",
      "|2015-01-20|       A | 38.43000030517578|\n",
      "|2015-01-21|       A |             37.75|\n",
      "|2015-01-22|       A |  38.5099983215332|\n",
      "|2015-01-23|       A | 39.59999847412109|\n",
      "|2015-03-02|       A | 42.34000015258789|\n",
      "|2015-03-03|       A | 42.45000076293945|\n",
      "|2015-03-04|       A | 41.95000076293945|\n",
      "|2015-03-05|       A |  41.9900016784668|\n",
      "|2015-03-06|       A | 41.95000076293945|\n",
      "|2015-04-20|       A | 43.33000183105469|\n",
      "|2015-04-21|       A | 43.41999816894531|\n",
      "|2015-04-22|       A |42.720001220703125|\n",
      "|2015-04-23|       A | 42.41999816894531|\n",
      "|2015-04-24|       A |42.709999084472656|\n",
      "|2015-05-18|       A | 42.04999923706055|\n",
      "+----------+---------+------------------+\n",
      "only showing top 20 rows\n",
      "\n"
     ]
    },
    {
     "name": "stderr",
     "output_type": "stream",
     "text": [
      "                                                                                \r"
     ]
    }
   ],
   "source": [
    "snapshot_open = historic_stocks.select(['new_date','stockname','open'])\n",
    "snapshot_open.show()"
   ]
  },
  {
   "cell_type": "code",
   "execution_count": 44,
   "metadata": {},
   "outputs": [],
   "source": [
    "lag1day = Window.partitionBy(\"stockname\").\\\n",
    "    orderBy('new_date')"
   ]
  },
  {
   "cell_type": "code",
   "execution_count": 45,
   "metadata": {},
   "outputs": [
    {
     "name": "stderr",
     "output_type": "stream",
     "text": [
      "[Stage 169:==============>                                          (1 + 3) / 4]\r"
     ]
    },
    {
     "name": "stdout",
     "output_type": "stream",
     "text": [
      "+----------+---------+------------------+------------------+\n",
      "|  new_date|stockname|              open|     previous_open|\n",
      "+----------+---------+------------------+------------------+\n",
      "|2015-01-02|   AAGIY |22.459999084472656|              NULL|\n",
      "|2015-01-05|   AAGIY | 22.09000015258789|22.459999084472656|\n",
      "|2015-01-06|   AAGIY |21.479999542236328| 22.09000015258789|\n",
      "|2015-01-07|   AAGIY | 21.63999938964844|21.479999542236328|\n",
      "|2015-01-08|   AAGIY |21.940000534057617| 21.63999938964844|\n",
      "|2015-01-09|   AAGIY | 22.11000061035156|21.940000534057617|\n",
      "|2015-01-12|   AAGIY |22.040000915527344| 22.11000061035156|\n",
      "|2015-01-13|   AAGIY | 22.65999984741211|22.040000915527344|\n",
      "|2015-01-14|   AAGIY | 22.63999938964844| 22.65999984741211|\n",
      "|2015-01-15|   AAGIY |23.270000457763672| 22.63999938964844|\n",
      "|2015-01-16|   AAGIY |23.190000534057617|23.270000457763672|\n",
      "|2015-01-20|   AAGIY | 23.21999931335449|23.190000534057617|\n",
      "|2015-01-21|   AAGIY |23.030000686645508| 23.21999931335449|\n",
      "|2015-01-22|   AAGIY |23.149999618530277|23.030000686645508|\n",
      "|2015-01-23|   AAGIY |23.149999618530277|23.149999618530277|\n",
      "|2015-01-26|   AAGIY |23.239999771118164|23.149999618530277|\n",
      "|2015-01-27|   AAGIY |23.270000457763672|23.239999771118164|\n",
      "|2015-01-28|   AAGIY |23.850000381469727|23.270000457763672|\n",
      "|2015-01-29|   AAGIY | 23.36000061035156|23.850000381469727|\n",
      "|2015-01-30|   AAGIY |  23.3700008392334| 23.36000061035156|\n",
      "+----------+---------+------------------+------------------+\n",
      "only showing top 20 rows\n",
      "\n"
     ]
    },
    {
     "name": "stderr",
     "output_type": "stream",
     "text": [
      "                                                                                \r"
     ]
    }
   ],
   "source": [
    "snapshot_open.withColumn(\n",
    "    \"previous_open\",\n",
    "    lag(\n",
    "        'open',1\n",
    "    ).over(\n",
    "        lag1day\n",
    "    )\n",
    ").show()"
   ]
  },
  {
   "cell_type": "code",
   "execution_count": 46,
   "metadata": {},
   "outputs": [],
   "source": [
    "movingaverage = Window.partitionBy(\"stockname\").orderBy(\n",
    "    \"new_date\"\n",
    ").rowsBetween(-50,0)"
   ]
  },
  {
   "cell_type": "code",
   "execution_count": 47,
   "metadata": {},
   "outputs": [
    {
     "name": "stderr",
     "output_type": "stream",
     "text": [
      "[Stage 189:==========================================>              (3 + 1) / 4]\r"
     ]
    },
    {
     "name": "stdout",
     "output_type": "stream",
     "text": [
      "+----------+---------+------------------+-----+\n",
      "|  new_date|stockname|              open| MA50|\n",
      "+----------+---------+------------------+-----+\n",
      "|2015-01-02|   AAGIY |22.459999084472656|22.46|\n",
      "|2015-01-05|   AAGIY | 22.09000015258789|22.27|\n",
      "|2015-01-06|   AAGIY |21.479999542236328|22.01|\n",
      "|2015-01-07|   AAGIY | 21.63999938964844|21.92|\n",
      "|2015-01-08|   AAGIY |21.940000534057617|21.92|\n",
      "|2015-01-09|   AAGIY | 22.11000061035156|21.95|\n",
      "|2015-01-12|   AAGIY |22.040000915527344|21.97|\n",
      "|2015-01-13|   AAGIY | 22.65999984741211|22.05|\n",
      "|2015-01-14|   AAGIY | 22.63999938964844|22.12|\n",
      "|2015-01-15|   AAGIY |23.270000457763672|22.23|\n",
      "|2015-01-16|   AAGIY |23.190000534057617|22.32|\n",
      "|2015-01-20|   AAGIY | 23.21999931335449|22.39|\n",
      "|2015-01-21|   AAGIY |23.030000686645508|22.44|\n",
      "|2015-01-22|   AAGIY |23.149999618530277|22.49|\n",
      "|2015-01-23|   AAGIY |23.149999618530277|22.54|\n",
      "|2015-01-26|   AAGIY |23.239999771118164|22.58|\n",
      "|2015-01-27|   AAGIY |23.270000457763672|22.62|\n",
      "|2015-01-28|   AAGIY |23.850000381469727|22.69|\n",
      "|2015-01-29|   AAGIY | 23.36000061035156|22.73|\n",
      "|2015-01-30|   AAGIY |  23.3700008392334|22.76|\n",
      "+----------+---------+------------------+-----+\n",
      "only showing top 20 rows\n",
      "\n"
     ]
    },
    {
     "name": "stderr",
     "output_type": "stream",
     "text": [
      "                                                                                \r"
     ]
    }
   ],
   "source": [
    "(\n",
    "    snapshot_open.withColumn(\n",
    "        \"MA50\", avg('open').over(movingaverage)\n",
    "    ).withColumn(\n",
    "        \"MA50\", round(\"MA50\", 2) \n",
    "    )\n",
    ").show()"
   ]
  },
  {
   "cell_type": "code",
   "execution_count": 48,
   "metadata": {},
   "outputs": [],
   "source": [
    "maximumstock = Window.partitionBy(\n",
    "    \"stockname\"\n",
    ").orderBy(snapshot_open.open.desc())"
   ]
  },
  {
   "cell_type": "code",
   "execution_count": 49,
   "metadata": {},
   "outputs": [
    {
     "name": "stderr",
     "output_type": "stream",
     "text": [
      "[Stage 208:============================>                            (2 + 2) / 4]\r"
     ]
    },
    {
     "name": "stdout",
     "output_type": "stream",
     "text": [
      "+----------+---------+------------------+-------+\n",
      "|  new_date|stockname|              open|maxopen|\n",
      "+----------+---------+------------------+-------+\n",
      "|2021-01-19|   AAGIY |55.650001525878906|      1|\n",
      "|2021-02-17|   AAGIY |55.310001373291016|      2|\n",
      "|2021-01-20|   AAGIY |54.880001068115234|      3|\n",
      "|2021-02-23|   AAGIY |              54.5|      4|\n",
      "|2021-01-15|   AAGIY | 54.34000015258789|      5|\n",
      "|2021-02-16|   AAGIY | 54.16999816894531|      6|\n",
      "|2021-04-29|   AAGIY | 54.16999816894531|      7|\n",
      "|2021-05-18|   AAGIY | 54.06999969482422|      8|\n",
      "|2021-01-12|   AAGIY | 53.68999862670898|      9|\n",
      "|2021-02-09|   AAGIY | 53.52000045776367|     10|\n",
      "|2021-05-28|   AAGIY | 53.40999984741211|     11|\n",
      "|2021-05-17|   AAGIY | 53.31999969482422|     12|\n",
      "|2021-02-10|   AAGIY |  53.2599983215332|     13|\n",
      "|2021-05-14|   AAGIY |  53.2599983215332|     14|\n",
      "|2021-05-07|   AAGIY |53.220001220703125|     15|\n",
      "|2021-01-13|   AAGIY |53.209999084472656|     16|\n",
      "|2021-02-12|   AAGIY | 53.20000076293945|     17|\n",
      "|2021-05-20|   AAGIY | 53.09999847412109|     18|\n",
      "|2021-05-19|   AAGIY | 53.09000015258789|     19|\n",
      "|2021-05-21|   AAGIY |53.040000915527344|     20|\n",
      "+----------+---------+------------------+-------+\n",
      "only showing top 20 rows\n",
      "\n"
     ]
    },
    {
     "name": "stderr",
     "output_type": "stream",
     "text": [
      "                                                                                \r"
     ]
    }
   ],
   "source": [
    "snapshot_open.withColumn(\n",
    "    \"maxopen\",\n",
    "    row_number().over(maximumstock)\n",
    ").show()"
   ]
  },
  {
   "cell_type": "code",
   "execution_count": 50,
   "metadata": {},
   "outputs": [
    {
     "name": "stderr",
     "output_type": "stream",
     "text": [
      "[Stage 232:==========================================>              (3 + 1) / 4]\r"
     ]
    },
    {
     "name": "stdout",
     "output_type": "stream",
     "text": [
      "+----------+---------+------------------+-------+\n",
      "|  new_date|stockname|              open|maxopen|\n",
      "+----------+---------+------------------+-------+\n",
      "|2021-09-13|       A |177.66000366210938|      5|\n",
      "|2022-03-31|      AA | 91.66999816894533|      5|\n",
      "|2021-01-15|   AAGIY | 54.34000015258789|      5|\n",
      "|2018-01-22|     AAL |  57.9900016784668|      5|\n",
      "|2024-12-09|    AAON |            138.25|      5|\n",
      "|2022-01-07|     AAP | 239.9600067138672|      5|\n",
      "|2024-12-31|    AAPL |252.44000244140625|      5|\n",
      "|2021-11-04|      AB | 56.45000076293945|      5|\n",
      "|2024-09-27|   ABBNY |58.900001525878906|      5|\n",
      "|2024-11-04|    ABBV | 203.7899932861328|      5|\n",
      "|2024-11-11|    ABCB | 71.19000244140625|      5|\n",
      "|2018-03-26|    ABEV | 7.239999771118164|      5|\n",
      "|2025-02-18|     ABG | 302.4599914550781|      5|\n",
      "|2024-11-13|     ABM |             57.75|      5|\n",
      "|2021-03-16|    ABNB | 209.1100006103516|      5|\n",
      "|2021-10-28|     ABR | 19.88999938964844|      5|\n",
      "|2021-12-27|     ABT |139.82000732421875|      5|\n",
      "|2024-12-03|     ACA |108.94000244140624|      5|\n",
      "|2020-12-02|    ACAD |              56.5|      5|\n",
      "|2024-09-17|    ACGL |114.11000061035156|      5|\n",
      "+----------+---------+------------------+-------+\n",
      "only showing top 20 rows\n",
      "\n"
     ]
    },
    {
     "name": "stderr",
     "output_type": "stream",
     "text": [
      "                                                                                \r"
     ]
    }
   ],
   "source": [
    "snapshot_open.withColumn(\n",
    "    \"maxopen\",\n",
    "    row_number().over(maximumstock)\n",
    ").filter('maxopen=5').show()"
   ]
  },
  {
   "cell_type": "markdown",
   "metadata": {},
   "source": [
    "# save data"
   ]
  },
  {
   "cell_type": "code",
   "execution_count": 51,
   "metadata": {},
   "outputs": [
    {
     "name": "stderr",
     "output_type": "stream",
     "text": [
      "                                                                                \r"
     ]
    }
   ],
   "source": [
    "final_stocks.write.option(\n",
    "    \"header\",True\n",
    ").partitionBy(\n",
    "    \"stockname\"\n",
    ").mode(\"overwrite\").parquet(\n",
    "    \"output/final_parquet\"\n",
    ")"
   ]
  },
  {
   "cell_type": "code",
   "execution_count": 52,
   "metadata": {},
   "outputs": [
    {
     "name": "stderr",
     "output_type": "stream",
     "text": [
      "                                                                                \r"
     ]
    }
   ],
   "source": [
    "final_stocks.write.option(\n",
    "    \"header\",True\n",
    ").partitionBy(\n",
    "    \"stockname\"\n",
    ").mode(\"overwrite\").csv(\n",
    "    \"output/final_csv\"\n",
    ")"
   ]
  },
  {
   "cell_type": "code",
   "execution_count": 53,
   "metadata": {},
   "outputs": [
    {
     "name": "stdout",
     "output_type": "stream",
     "text": [
      "final_csv  final_parquet\n"
     ]
    }
   ],
   "source": [
    "! ls output/"
   ]
  },
  {
   "cell_type": "markdown",
   "metadata": {},
   "source": [
    "# end"
   ]
  }
 ],
 "metadata": {
  "kernelspec": {
   "display_name": "sparkenv",
   "language": "python",
   "name": "python3"
  },
  "language_info": {
   "codemirror_mode": {
    "name": "ipython",
    "version": 3
   },
   "file_extension": ".py",
   "mimetype": "text/x-python",
   "name": "python",
   "nbconvert_exporter": "python",
   "pygments_lexer": "ipython3",
   "version": "3.12.3"
  }
 },
 "nbformat": 4,
 "nbformat_minor": 2
}
